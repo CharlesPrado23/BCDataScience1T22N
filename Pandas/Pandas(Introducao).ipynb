{
  "nbformat": 4,
  "nbformat_minor": 0,
  "metadata": {
    "kernelspec": {
      "display_name": "Python 3",
      "language": "python",
      "name": "python3"
    },
    "language_info": {
      "codemirror_mode": {
        "name": "ipython",
        "version": 3
      },
      "file_extension": ".py",
      "mimetype": "text/x-python",
      "name": "python",
      "nbconvert_exporter": "python",
      "pygments_lexer": "ipython3",
      "version": "3.8.5"
    },
    "colab": {
      "name": "Pandas(Introducao).ipynb",
      "provenance": [],
      "include_colab_link": true
    }
  },
  "cells": [
    {
      "cell_type": "markdown",
      "metadata": {
        "id": "view-in-github",
        "colab_type": "text"
      },
      "source": [
        "<a href=\"https://colab.research.google.com/github/CharlesPrado23/BCDataScience1T22N/blob/main/Pandas/Pandas(Introducao).ipynb\" target=\"_parent\"><img src=\"https://colab.research.google.com/assets/colab-badge.svg\" alt=\"Open In Colab\"/></a>"
      ]
    },
    {
      "cell_type": "markdown",
      "metadata": {
        "id": "cA_lzdImRlSR"
      },
      "source": [
        "# Importing Pandas"
      ]
    },
    {
      "cell_type": "code",
      "metadata": {
        "id": "kUurbxGrRlSU"
      },
      "source": [
        "import pandas as pd\n",
        "import numpy as np"
      ],
      "execution_count": null,
      "outputs": []
    },
    {
      "cell_type": "markdown",
      "metadata": {
        "id": "br_lcQ1wRlSV"
      },
      "source": [
        "# Creating new DataFrames - Dictionary"
      ]
    },
    {
      "cell_type": "code",
      "metadata": {
        "id": "3xxI-JG5RlSV"
      },
      "source": [
        "data={'student': ['João','José','Maria','Ana'], 'year':[1,2,3,1], 'marks':[9.8,6.7,8,9.9]}\n",
        "dataflair_df=pd.DataFrame(data)\n",
        "dataflair_df\n"
      ],
      "execution_count": null,
      "outputs": []
    },
    {
      "cell_type": "code",
      "metadata": {
        "id": "asKI8YO_RlSd"
      },
      "source": [
        "mean = dataflair_df['marks'].mean()\n",
        "#notas = np.array(dataflair_df['marks'])\n",
        "#media_notas = np.mean(notas)\n",
        "#print(media_notas)"
      ],
      "execution_count": null,
      "outputs": []
    },
    {
      "cell_type": "markdown",
      "metadata": {
        "id": "A85C-57LRlSe"
      },
      "source": [
        "# Reading csv from URL "
      ]
    },
    {
      "cell_type": "code",
      "metadata": {
        "id": "wxaOTJm3RlSf"
      },
      "source": [
        "url = ('https://raw.github.com/pandas-dev'\n",
        "...: '/pandas/master/pandas/tests/io/data/csv/tips.csv')\n",
        "\n"
      ],
      "execution_count": null,
      "outputs": []
    },
    {
      "cell_type": "code",
      "metadata": {
        "id": "f5whTJR5RlSf"
      },
      "source": [
        "tips = pd.read_csv(url)"
      ],
      "execution_count": null,
      "outputs": []
    },
    {
      "cell_type": "code",
      "metadata": {
        "scrolled": true,
        "id": "tA5AZHrxRlSg"
      },
      "source": [
        "tips"
      ],
      "execution_count": null,
      "outputs": []
    },
    {
      "cell_type": "code",
      "metadata": {
        "id": "tlaHhhtYRlSh"
      },
      "source": [
        "### head() - Visualizar conteúdo ###\n"
      ],
      "execution_count": null,
      "outputs": []
    },
    {
      "cell_type": "code",
      "metadata": {
        "scrolled": true,
        "id": "nwz-YXLwRlSi"
      },
      "source": [
        "### tail() - visualizar conteúdo ###\n"
      ],
      "execution_count": null,
      "outputs": []
    },
    {
      "cell_type": "code",
      "metadata": {
        "id": "DQQJ1dCgRlSj"
      },
      "source": [
        "tips.describe()"
      ],
      "execution_count": null,
      "outputs": []
    },
    {
      "cell_type": "markdown",
      "metadata": {
        "id": "u9507gaqRlSl"
      },
      "source": [
        "# Type - DataFrame / Series"
      ]
    },
    {
      "cell_type": "code",
      "metadata": {
        "id": "6LDRGvP8RlSm"
      },
      "source": [
        "type(tips)"
      ],
      "execution_count": null,
      "outputs": []
    },
    {
      "cell_type": "code",
      "metadata": {
        "id": "Zz0dqbrcRlSn"
      },
      "source": [
        "type(tips[\"smoker\"])"
      ],
      "execution_count": null,
      "outputs": []
    },
    {
      "cell_type": "markdown",
      "metadata": {
        "id": "-LOSBfyURlSn"
      },
      "source": [
        "   # Creating New DataFrames \n",
        "       # Two examples "
      ]
    },
    {
      "cell_type": "code",
      "metadata": {
        "id": "uNe864dERlSo"
      },
      "source": [
        ""
      ],
      "execution_count": null,
      "outputs": []
    },
    {
      "cell_type": "code",
      "metadata": {
        "id": "1q1ecTyTRlSp"
      },
      "source": [
        ""
      ],
      "execution_count": null,
      "outputs": []
    },
    {
      "cell_type": "code",
      "metadata": {
        "id": "T6bS8f6dyr1s"
      },
      "source": [
        ""
      ],
      "execution_count": null,
      "outputs": []
    },
    {
      "cell_type": "code",
      "metadata": {
        "id": "ggcz4LHmRlSq"
      },
      "source": [
        "## loc - [índice,nomedacoluna]\n",
        "\n",
        "tips.loc[0:1,'sex']"
      ],
      "execution_count": null,
      "outputs": []
    },
    {
      "cell_type": "code",
      "metadata": {
        "id": "qFNEnK0JRlSq",
        "colab": {
          "base_uri": "https://localhost:8080/"
        },
        "outputId": "49db2892-a995-40d7-ead9-0c3fc5db05b4"
      },
      "source": [
        "tips.loc[3,'size']"
      ],
      "execution_count": null,
      "outputs": [
        {
          "output_type": "execute_result",
          "data": {
            "text/plain": [
              "2"
            ]
          },
          "metadata": {
            "tags": []
          },
          "execution_count": 17
        }
      ]
    },
    {
      "cell_type": "code",
      "metadata": {
        "id": "vLYedejxRlSr",
        "colab": {
          "base_uri": "https://localhost:8080/"
        },
        "outputId": "91694e25-22fd-40f7-ccdd-35916cf687d4"
      },
      "source": [
        "tips.iloc[4,0]"
      ],
      "execution_count": null,
      "outputs": [
        {
          "output_type": "execute_result",
          "data": {
            "text/plain": [
              "24.59"
            ]
          },
          "metadata": {
            "tags": []
          },
          "execution_count": 18
        }
      ]
    },
    {
      "cell_type": "code",
      "metadata": {
        "id": "FNu_FuyQRlSs"
      },
      "source": [
        "## iloc - slices \n",
        "tips.iloc[4,2:5]"
      ],
      "execution_count": null,
      "outputs": []
    },
    {
      "cell_type": "code",
      "metadata": {
        "id": "PEktz40zRlSs"
      },
      "source": [
        "tips[['total_bill', 'tip', 'smoker', 'time']].head(5)"
      ],
      "execution_count": null,
      "outputs": []
    },
    {
      "cell_type": "code",
      "metadata": {
        "id": "5hTOWa2SRlSt"
      },
      "source": [
        "## Filtrando ####\n",
        "tips[tips['time'] == 'Dinner'].head(5)"
      ],
      "execution_count": null,
      "outputs": []
    },
    {
      "cell_type": "code",
      "metadata": {
        "id": "tSiCRz4KXSOe"
      },
      "source": [
        ""
      ],
      "execution_count": null,
      "outputs": []
    },
    {
      "cell_type": "code",
      "metadata": {
        "id": "YuWJPjTeRlSt"
      },
      "source": [
        "### Group by #### \n",
        "tips_by_sex = tips.groupby('sex').size()\n",
        "tips_by_sex"
      ],
      "execution_count": null,
      "outputs": []
    },
    {
      "cell_type": "code",
      "metadata": {
        "id": "OylmpE6WRlSu"
      },
      "source": [
        "tips_by_sex.plot.bar(rot=0);"
      ],
      "execution_count": null,
      "outputs": []
    },
    {
      "cell_type": "code",
      "metadata": {
        "id": "Ebf_5zKcRlSv"
      },
      "source": [
        "### Group by - usando agg function ###\n"
      ],
      "execution_count": null,
      "outputs": []
    },
    {
      "cell_type": "code",
      "metadata": {
        "id": "Ter0kB7wRlSw"
      },
      "source": [
        "tips_1.plot.pie(y='total_bill');"
      ],
      "execution_count": null,
      "outputs": []
    },
    {
      "cell_type": "code",
      "metadata": {
        "id": "EkbywbyMRlSw"
      },
      "source": [
        "df1 = pd.DataFrame({'city': ['Chicago', 'San Francisco', 'New York City'], 'rank': range(1, 4)})\n",
        "df2 = pd.DataFrame({'city': ['Chicago', 'Boston', 'Los Angeles'], 'rank': [1, 4, 5]})"
      ],
      "execution_count": null,
      "outputs": []
    },
    {
      "cell_type": "code",
      "metadata": {
        "id": "sVaX1ZulRlSx"
      },
      "source": [
        "df1.head()"
      ],
      "execution_count": null,
      "outputs": []
    },
    {
      "cell_type": "code",
      "metadata": {
        "id": "TW9MAAPbRlSx"
      },
      "source": [
        "df2.head()"
      ],
      "execution_count": null,
      "outputs": []
    },
    {
      "cell_type": "code",
      "metadata": {
        "id": "syycqEcrRlSy"
      },
      "source": [
        "pd.concat([df1, df2])"
      ],
      "execution_count": null,
      "outputs": []
    },
    {
      "cell_type": "code",
      "metadata": {
        "id": "CzyPOQuERlSz"
      },
      "source": [
        "DataFrame = pd.concat([df1, df2]).drop_duplicates()\n",
        "DataFrame"
      ],
      "execution_count": null,
      "outputs": []
    },
    {
      "cell_type": "code",
      "metadata": {
        "id": "_goWD-CQRlS0"
      },
      "source": [
        "DataFrame.reset_index(inplace = True)\n",
        "DataFrame\n"
      ],
      "execution_count": null,
      "outputs": []
    },
    {
      "cell_type": "markdown",
      "source": [
        ""
      ],
      "metadata": {
        "id": "VapsiT5-l01h"
      }
    },
    {
      "cell_type": "code",
      "metadata": {
        "id": "86AjSIiJt58h"
      },
      "source": [
        "df = pd.DataFrame(dict(age=[5, 6, np.NaN],born=[pd.NaT, pd.Timestamp('1939-05-27'),pd.Timestamp('1940-04-25')],\n",
        "               name=['Alfred', 'Batman', ''],\n",
        "                  toy=[None, 'Batmobile', 'Joker']))"
      ],
      "execution_count": null,
      "outputs": []
    },
    {
      "cell_type": "code",
      "metadata": {
        "id": "C-QpVaVKzw49"
      },
      "source": [
        "df"
      ],
      "execution_count": null,
      "outputs": []
    },
    {
      "cell_type": "code",
      "metadata": {
        "id": "A7V5rj-l2ZBW"
      },
      "source": [
        "A = df['age']\n",
        "A\n",
        "B = A/2\n",
        "B"
      ],
      "execution_count": null,
      "outputs": []
    },
    {
      "cell_type": "code",
      "metadata": {
        "id": "aJDokQH2uHQZ"
      },
      "source": [
        "df.isna()"
      ],
      "execution_count": null,
      "outputs": []
    }
  ]
}