{
  "nbformat": 4,
  "nbformat_minor": 0,
  "metadata": {
    "colab": {
      "name": "Dados do congresso nacional.ipynb",
      "provenance": [],
      "collapsed_sections": [],
      "include_colab_link": true
    },
    "kernelspec": {
      "name": "python3",
      "display_name": "Python 3"
    }
  },
  "cells": [
    {
      "cell_type": "markdown",
      "metadata": {
        "id": "view-in-github",
        "colab_type": "text"
      },
      "source": [
        "<a href=\"https://colab.research.google.com/github/CharlesPrado23/BCDataScience1T22N/blob/main/Pandas%2BDataWrangling/Dados_do_congresso_nacional.ipynb\" target=\"_parent\"><img src=\"https://colab.research.google.com/assets/colab-badge.svg\" alt=\"Open In Colab\"/></a>"
      ]
    },
    {
      "cell_type": "markdown",
      "metadata": {
        "id": "3mFpqVN9EuQH"
      },
      "source": [
        "# Iremos Baixar a lista de deputados brasileiros\n",
        "\n",
        "Iremos utilizar o módulo `requests` para executar essa atividade"
      ]
    },
    {
      "cell_type": "code",
      "metadata": {
        "id": "skHByPA2929a"
      },
      "source": [
        "import requests"
      ],
      "execution_count": 1,
      "outputs": []
    },
    {
      "cell_type": "markdown",
      "metadata": {
        "id": "SzyuvX8IE9rT"
      },
      "source": [
        "Iremos acessar a API \"Dados Abertos\" utilizando método **get**, vou recuperar a resposta como um text e converter para dicionário usando o módulo `json` e o método **loads**\n"
      ]
    },
    {
      "cell_type": "code",
      "metadata": {
        "id": "r6FvuCPEESgn"
      },
      "source": [
        "URL = \"https://dadosabertos.camara.leg.br/api/v2/deputados?ordem=ASC&ordenarPor=nome\"\n",
        "response = requests.get(URL)"
      ],
      "execution_count": 2,
      "outputs": []
    },
    {
      "cell_type": "code",
      "metadata": {
        "id": "edofed55HoH6"
      },
      "source": [
        "response.text"
      ],
      "execution_count": null,
      "outputs": []
    },
    {
      "cell_type": "code",
      "metadata": {
        "id": "Drhx-VJ9Fn1I"
      },
      "source": [
        "string_json = response.text"
      ],
      "execution_count": 4,
      "outputs": []
    },
    {
      "cell_type": "code",
      "metadata": {
        "id": "AkMb-y9CFyKC"
      },
      "source": [
        "import json\n",
        "data = json.loads(string_json)"
      ],
      "execution_count": 5,
      "outputs": []
    },
    {
      "cell_type": "markdown",
      "metadata": {
        "id": "WMiCb2ffGvmy"
      },
      "source": [
        "Iremos acessar a API \"Dados Abertos\" utilizando método **get**, vou recuperar a resposta como um json através do método **json**"
      ]
    },
    {
      "cell_type": "code",
      "metadata": {
        "id": "UnULK_CsF8UW",
        "colab": {
          "base_uri": "https://localhost:8080/"
        },
        "outputId": "9717d4d2-1b77-42e9-91e3-3e6fa12a003a"
      },
      "source": [
        "response = requests.get(URL)\n",
        "data = response.json() \n",
        "type(data)"
      ],
      "execution_count": 6,
      "outputs": [
        {
          "output_type": "execute_result",
          "data": {
            "text/plain": [
              "dict"
            ]
          },
          "metadata": {},
          "execution_count": 6
        }
      ]
    },
    {
      "cell_type": "code",
      "metadata": {
        "colab": {
          "base_uri": "https://localhost:8080/"
        },
        "id": "2eoaS-GgF9B1",
        "outputId": "e824a80a-3835-4adf-9028-64d1f2ffd91f"
      },
      "source": [
        "deputados = data['dados']\n",
        "print(f\"O Brasil tem { len(deputados) }  deputados.\")"
      ],
      "execution_count": 7,
      "outputs": [
        {
          "output_type": "stream",
          "name": "stdout",
          "text": [
            "O Brasil tem 513  deputados.\n"
          ]
        }
      ]
    },
    {
      "cell_type": "code",
      "metadata": {
        "colab": {
          "base_uri": "https://localhost:8080/"
        },
        "id": "x7guBLShHBsJ",
        "outputId": "f4300890-4c6f-492b-d493-d29dd35e67e0"
      },
      "source": [
        "print(\"O Brasil tem %d deputados\" % (len(deputados)))"
      ],
      "execution_count": 8,
      "outputs": [
        {
          "output_type": "stream",
          "name": "stdout",
          "text": [
            "O Brasil tem 513 deputados\n"
          ]
        }
      ]
    },
    {
      "cell_type": "code",
      "metadata": {
        "colab": {
          "base_uri": "https://localhost:8080/"
        },
        "id": "UICgJjtpLOJc",
        "outputId": "43524c64-f361-471b-85d9-9ef4c461905b"
      },
      "source": [
        "print(deputados[0].keys())"
      ],
      "execution_count": 9,
      "outputs": [
        {
          "output_type": "stream",
          "name": "stdout",
          "text": [
            "dict_keys(['id', 'uri', 'nome', 'siglaPartido', 'uriPartido', 'siglaUf', 'idLegislatura', 'urlFoto', 'email'])\n"
          ]
        }
      ]
    },
    {
      "cell_type": "code",
      "metadata": {
        "id": "_R2DpX5AI-a_"
      },
      "source": [
        "# Paulo Ramos, PDT, RJ\n",
        "# Paulo Teixeira, PT, SP\n",
        "# ...\n",
        "\n",
        "deputados = data['dados']\n",
        "for deputado in deputados:\n",
        "    if deputado['siglaUf'] == 'RJ':\n",
        "        print(f\"{deputado['nome']}, {deputado['siglaPartido']}, {deputado['siglaUf']}, {deputado['email']}\")"
      ],
      "execution_count": null,
      "outputs": []
    },
    {
      "cell_type": "markdown",
      "metadata": {
        "id": "zi3QUPUTL_oS"
      },
      "source": [
        "# Legislatura anterior"
      ]
    },
    {
      "cell_type": "code",
      "metadata": {
        "id": "yBHJhaSRJxDQ"
      },
      "source": [
        "URL_LEGISLATURA_ANTERIOR = \"https://dadosabertos.camara.leg.br/api/v2/deputados?idLegislatura=55&ordem=ASC&ordenarPor=nome\"\n",
        "response = requests.get(URL_LEGISLATURA_ANTERIOR)\n",
        "data_legislatura_anterior = response.json()\n",
        "\n"
      ],
      "execution_count": 11,
      "outputs": []
    },
    {
      "cell_type": "code",
      "metadata": {
        "id": "u6Vuw48QMQAW"
      },
      "source": [
        "deputados_legislatura_anterior = data_legislatura_anterior['dados']\n",
        "for deputado in deputados_legislatura_anterior:\n",
        "    if deputado['siglaUf'] == 'RJ':\n",
        "        print(f\"{deputado['nome']}, {deputado['siglaPartido']}, {deputado['siglaUf']}, {deputado['email']}\")"
      ],
      "execution_count": null,
      "outputs": []
    },
    {
      "cell_type": "markdown",
      "metadata": {
        "id": "tIVuFTOUNJwc"
      },
      "source": [
        "# Olhar os candidatos que foram reeleitos no Rio de Janeiro"
      ]
    },
    {
      "cell_type": "code",
      "metadata": {
        "id": "SFxU1YxcMZyu"
      },
      "source": [
        "deputados_rj_atual = []\n",
        "deputados_rj_anterior = []\n",
        "\n",
        "# Criar lista com o nome dos deputados atuais\n",
        "for deputado in deputados:\n",
        "    if deputado['siglaUf'] == 'RJ':\n",
        "        deputados_rj_atual.append(deputado['nome'].upper())\n",
        "\n",
        "# Criar lista com o nome dos deputados anteriores\n",
        "\n",
        "for deputado in deputados_legislatura_anterior:\n",
        "    if deputado['siglaUf'] == 'RJ':\n",
        "        deputados_rj_anterior.append(deputado['nome'].upper())"
      ],
      "execution_count": 13,
      "outputs": []
    },
    {
      "cell_type": "code",
      "metadata": {
        "colab": {
          "base_uri": "https://localhost:8080/"
        },
        "id": "-ZdNnjdINfQb",
        "outputId": "4ec1eaac-0d47-476d-b86d-15c7550914dc"
      },
      "source": [
        "reeleitos = []\n",
        "\n",
        "for deputado in deputados_rj_atual:\n",
        "    if deputado in deputados_rj_anterior:\n",
        "        reeleitos.append(deputado)\n",
        "\n",
        "print(f'No Rio de Janeiro foram reeleitos {len(reeleitos)} deputados')"
      ],
      "execution_count": 14,
      "outputs": [
        {
          "output_type": "stream",
          "name": "stdout",
          "text": [
            "No Rio de Janeiro foram reeleitos 14 deputados\n"
          ]
        }
      ]
    },
    {
      "cell_type": "markdown",
      "metadata": {
        "id": "z5KJveaUPQz2"
      },
      "source": [
        "# Olhar os candidatos que foram reeleitos escolhendo o estado"
      ]
    },
    {
      "cell_type": "code",
      "metadata": {
        "id": "LuCCkaTIP1YR",
        "colab": {
          "base_uri": "https://localhost:8080/"
        },
        "outputId": "14fdb707-c0f8-48f4-f682-730946757a9e"
      },
      "source": [
        "deputados_atual = []\n",
        "deputados_anterior = []\n",
        "UF = 'RJ'\n",
        "\n",
        "# Criar lista com o nome dos deputados atuais\n",
        "for deputado in deputados:\n",
        "    if deputado['siglaUf'] == UF:\n",
        "        deputados_atual.append(deputado['nome'].upper())\n",
        "\n",
        "# Criar lista com o nome dos deputados anteriores\n",
        "\n",
        "for deputado in deputados_legislatura_anterior:\n",
        "    if deputado['siglaUf'] == UF:\n",
        "        deputados_anterior.append(deputado['nome'].upper())\n",
        "\n",
        "reeleitos2 = []\n",
        "\n",
        "for deputado in deputados_atual:\n",
        "    if deputado in deputados_anterior:\n",
        "        reeleitos2.append(deputado)\n",
        "\n",
        "print(f'Na unidade federativa {UF} foram reeleitos {len(reeleitos)} deputados')"
      ],
      "execution_count": 15,
      "outputs": [
        {
          "output_type": "stream",
          "name": "stdout",
          "text": [
            "Na unidade federativa RJ foram reeleitos 14 deputados\n"
          ]
        }
      ]
    },
    {
      "cell_type": "markdown",
      "source": [
        "## Realizar as análise anteriores com DataFrames. "
      ],
      "metadata": {
        "id": "yYA7pi8Pvjfz"
      }
    }
  ]
}