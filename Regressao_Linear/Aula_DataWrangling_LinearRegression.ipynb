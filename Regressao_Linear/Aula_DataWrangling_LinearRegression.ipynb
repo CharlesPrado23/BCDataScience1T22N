{
  "nbformat": 4,
  "nbformat_minor": 0,
  "metadata": {
    "kernelspec": {
      "display_name": "Python 3",
      "language": "python",
      "name": "python3"
    },
    "language_info": {
      "codemirror_mode": {
        "name": "ipython",
        "version": 3
      },
      "file_extension": ".py",
      "mimetype": "text/x-python",
      "name": "python",
      "nbconvert_exporter": "python",
      "pygments_lexer": "ipython3",
      "version": "3.8.5"
    },
    "colab": {
      "name": "Aula-DataWrangling_LinearRegression.ipynb",
      "provenance": [],
      "collapsed_sections": [],
      "include_colab_link": true
    }
  },
  "cells": [
    {
      "cell_type": "markdown",
      "metadata": {
        "id": "view-in-github",
        "colab_type": "text"
      },
      "source": [
        "<a href=\"https://colab.research.google.com/github/CharlesPrado23/BCDataScience1T22N/blob/main/Regressao_Linear/Aula_DataWrangling_LinearRegression.ipynb\" target=\"_parent\"><img src=\"https://colab.research.google.com/assets/colab-badge.svg\" alt=\"Open In Colab\"/></a>"
      ]
    },
    {
      "cell_type": "code",
      "metadata": {
        "id": "3hTU7U6S-eh7",
        "colab": {
          "base_uri": "https://localhost:8080/",
          "height": 424
        },
        "outputId": "f7a5dda2-3080-49d6-f8e0-09ed516a7342"
      },
      "source": [
        "import pandas as pd\n",
        "#dfClean = pd.read_csv('dirtydata_Semana5.csv')\n",
        "dfClean = pd.read_csv('https://raw.githubusercontent.com/CharlesPrado23/BCDataScience1T22N/main/Pandas%2BDataWrangling/data.csv')\n",
        "dfClean"
      ],
      "execution_count": 1,
      "outputs": [
        {
          "output_type": "execute_result",
          "data": {
            "text/plain": [
              "     Duration  Pulse  Maxpulse  Calories\n",
              "0          60    110       130     409.1\n",
              "1          60    117       145     479.0\n",
              "2          60    103       135     340.0\n",
              "3          45    109       175     282.4\n",
              "4          45    117       148     406.0\n",
              "..        ...    ...       ...       ...\n",
              "164        60    105       140     290.8\n",
              "165        60    110       145     300.0\n",
              "166        60    115       145     310.2\n",
              "167        75    120       150     320.4\n",
              "168        75    125       150     330.4\n",
              "\n",
              "[169 rows x 4 columns]"
            ],
            "text/html": [
              "\n",
              "  <div id=\"df-7cc7b834-fa69-49e6-9732-31ea5e343b56\">\n",
              "    <div class=\"colab-df-container\">\n",
              "      <div>\n",
              "<style scoped>\n",
              "    .dataframe tbody tr th:only-of-type {\n",
              "        vertical-align: middle;\n",
              "    }\n",
              "\n",
              "    .dataframe tbody tr th {\n",
              "        vertical-align: top;\n",
              "    }\n",
              "\n",
              "    .dataframe thead th {\n",
              "        text-align: right;\n",
              "    }\n",
              "</style>\n",
              "<table border=\"1\" class=\"dataframe\">\n",
              "  <thead>\n",
              "    <tr style=\"text-align: right;\">\n",
              "      <th></th>\n",
              "      <th>Duration</th>\n",
              "      <th>Pulse</th>\n",
              "      <th>Maxpulse</th>\n",
              "      <th>Calories</th>\n",
              "    </tr>\n",
              "  </thead>\n",
              "  <tbody>\n",
              "    <tr>\n",
              "      <th>0</th>\n",
              "      <td>60</td>\n",
              "      <td>110</td>\n",
              "      <td>130</td>\n",
              "      <td>409.1</td>\n",
              "    </tr>\n",
              "    <tr>\n",
              "      <th>1</th>\n",
              "      <td>60</td>\n",
              "      <td>117</td>\n",
              "      <td>145</td>\n",
              "      <td>479.0</td>\n",
              "    </tr>\n",
              "    <tr>\n",
              "      <th>2</th>\n",
              "      <td>60</td>\n",
              "      <td>103</td>\n",
              "      <td>135</td>\n",
              "      <td>340.0</td>\n",
              "    </tr>\n",
              "    <tr>\n",
              "      <th>3</th>\n",
              "      <td>45</td>\n",
              "      <td>109</td>\n",
              "      <td>175</td>\n",
              "      <td>282.4</td>\n",
              "    </tr>\n",
              "    <tr>\n",
              "      <th>4</th>\n",
              "      <td>45</td>\n",
              "      <td>117</td>\n",
              "      <td>148</td>\n",
              "      <td>406.0</td>\n",
              "    </tr>\n",
              "    <tr>\n",
              "      <th>...</th>\n",
              "      <td>...</td>\n",
              "      <td>...</td>\n",
              "      <td>...</td>\n",
              "      <td>...</td>\n",
              "    </tr>\n",
              "    <tr>\n",
              "      <th>164</th>\n",
              "      <td>60</td>\n",
              "      <td>105</td>\n",
              "      <td>140</td>\n",
              "      <td>290.8</td>\n",
              "    </tr>\n",
              "    <tr>\n",
              "      <th>165</th>\n",
              "      <td>60</td>\n",
              "      <td>110</td>\n",
              "      <td>145</td>\n",
              "      <td>300.0</td>\n",
              "    </tr>\n",
              "    <tr>\n",
              "      <th>166</th>\n",
              "      <td>60</td>\n",
              "      <td>115</td>\n",
              "      <td>145</td>\n",
              "      <td>310.2</td>\n",
              "    </tr>\n",
              "    <tr>\n",
              "      <th>167</th>\n",
              "      <td>75</td>\n",
              "      <td>120</td>\n",
              "      <td>150</td>\n",
              "      <td>320.4</td>\n",
              "    </tr>\n",
              "    <tr>\n",
              "      <th>168</th>\n",
              "      <td>75</td>\n",
              "      <td>125</td>\n",
              "      <td>150</td>\n",
              "      <td>330.4</td>\n",
              "    </tr>\n",
              "  </tbody>\n",
              "</table>\n",
              "<p>169 rows × 4 columns</p>\n",
              "</div>\n",
              "      <button class=\"colab-df-convert\" onclick=\"convertToInteractive('df-7cc7b834-fa69-49e6-9732-31ea5e343b56')\"\n",
              "              title=\"Convert this dataframe to an interactive table.\"\n",
              "              style=\"display:none;\">\n",
              "        \n",
              "  <svg xmlns=\"http://www.w3.org/2000/svg\" height=\"24px\"viewBox=\"0 0 24 24\"\n",
              "       width=\"24px\">\n",
              "    <path d=\"M0 0h24v24H0V0z\" fill=\"none\"/>\n",
              "    <path d=\"M18.56 5.44l.94 2.06.94-2.06 2.06-.94-2.06-.94-.94-2.06-.94 2.06-2.06.94zm-11 1L8.5 8.5l.94-2.06 2.06-.94-2.06-.94L8.5 2.5l-.94 2.06-2.06.94zm10 10l.94 2.06.94-2.06 2.06-.94-2.06-.94-.94-2.06-.94 2.06-2.06.94z\"/><path d=\"M17.41 7.96l-1.37-1.37c-.4-.4-.92-.59-1.43-.59-.52 0-1.04.2-1.43.59L10.3 9.45l-7.72 7.72c-.78.78-.78 2.05 0 2.83L4 21.41c.39.39.9.59 1.41.59.51 0 1.02-.2 1.41-.59l7.78-7.78 2.81-2.81c.8-.78.8-2.07 0-2.86zM5.41 20L4 18.59l7.72-7.72 1.47 1.35L5.41 20z\"/>\n",
              "  </svg>\n",
              "      </button>\n",
              "      \n",
              "  <style>\n",
              "    .colab-df-container {\n",
              "      display:flex;\n",
              "      flex-wrap:wrap;\n",
              "      gap: 12px;\n",
              "    }\n",
              "\n",
              "    .colab-df-convert {\n",
              "      background-color: #E8F0FE;\n",
              "      border: none;\n",
              "      border-radius: 50%;\n",
              "      cursor: pointer;\n",
              "      display: none;\n",
              "      fill: #1967D2;\n",
              "      height: 32px;\n",
              "      padding: 0 0 0 0;\n",
              "      width: 32px;\n",
              "    }\n",
              "\n",
              "    .colab-df-convert:hover {\n",
              "      background-color: #E2EBFA;\n",
              "      box-shadow: 0px 1px 2px rgba(60, 64, 67, 0.3), 0px 1px 3px 1px rgba(60, 64, 67, 0.15);\n",
              "      fill: #174EA6;\n",
              "    }\n",
              "\n",
              "    [theme=dark] .colab-df-convert {\n",
              "      background-color: #3B4455;\n",
              "      fill: #D2E3FC;\n",
              "    }\n",
              "\n",
              "    [theme=dark] .colab-df-convert:hover {\n",
              "      background-color: #434B5C;\n",
              "      box-shadow: 0px 1px 3px 1px rgba(0, 0, 0, 0.15);\n",
              "      filter: drop-shadow(0px 1px 2px rgba(0, 0, 0, 0.3));\n",
              "      fill: #FFFFFF;\n",
              "    }\n",
              "  </style>\n",
              "\n",
              "      <script>\n",
              "        const buttonEl =\n",
              "          document.querySelector('#df-7cc7b834-fa69-49e6-9732-31ea5e343b56 button.colab-df-convert');\n",
              "        buttonEl.style.display =\n",
              "          google.colab.kernel.accessAllowed ? 'block' : 'none';\n",
              "\n",
              "        async function convertToInteractive(key) {\n",
              "          const element = document.querySelector('#df-7cc7b834-fa69-49e6-9732-31ea5e343b56');\n",
              "          const dataTable =\n",
              "            await google.colab.kernel.invokeFunction('convertToInteractive',\n",
              "                                                     [key], {});\n",
              "          if (!dataTable) return;\n",
              "\n",
              "          const docLinkHtml = 'Like what you see? Visit the ' +\n",
              "            '<a target=\"_blank\" href=https://colab.research.google.com/notebooks/data_table.ipynb>data table notebook</a>'\n",
              "            + ' to learn more about interactive tables.';\n",
              "          element.innerHTML = '';\n",
              "          dataTable['output_type'] = 'display_data';\n",
              "          await google.colab.output.renderOutput(dataTable, element);\n",
              "          const docLink = document.createElement('div');\n",
              "          docLink.innerHTML = docLinkHtml;\n",
              "          element.appendChild(docLink);\n",
              "        }\n",
              "      </script>\n",
              "    </div>\n",
              "  </div>\n",
              "  "
            ]
          },
          "metadata": {},
          "execution_count": 1
        }
      ]
    },
    {
      "cell_type": "code",
      "metadata": {
        "colab": {
          "base_uri": "https://localhost:8080/"
        },
        "id": "6z_Nb7svNUh-",
        "outputId": "17be4ade-80df-493d-f89d-4d0bad1d4f6e"
      },
      "source": [
        "dfClean['Duration'].unique()"
      ],
      "execution_count": 2,
      "outputs": [
        {
          "output_type": "execute_result",
          "data": {
            "text/plain": [
              "array([ 60,  45,  30,  80,  20, 210, 160, 180, 150, 300,  90, 120, 270,\n",
              "        15,  25,  75])"
            ]
          },
          "metadata": {},
          "execution_count": 2
        }
      ]
    },
    {
      "cell_type": "code",
      "metadata": {
        "id": "EW22uO6X-eh8",
        "colab": {
          "base_uri": "https://localhost:8080/",
          "height": 269
        },
        "outputId": "321d9eb4-d0fd-4465-e818-001a7134fef5"
      },
      "source": [
        "#### Verifica se tem duplicatas no Dataframe ###3\n",
        "dfClean[dfClean.duplicated()]"
      ],
      "execution_count": 3,
      "outputs": [
        {
          "output_type": "execute_result",
          "data": {
            "text/plain": [
              "     Duration  Pulse  Maxpulse  Calories\n",
              "36         60    102       127     300.0\n",
              "37         60    100       120     300.0\n",
              "38         60    100       120     300.0\n",
              "40         45     90       112     180.1\n",
              "71         60    109       153     387.6\n",
              "113        45    100       120     225.3\n",
              "155        60    111       151     368.5"
            ],
            "text/html": [
              "\n",
              "  <div id=\"df-ff9333ab-08d5-46b2-9d9b-35fc1b8fadee\">\n",
              "    <div class=\"colab-df-container\">\n",
              "      <div>\n",
              "<style scoped>\n",
              "    .dataframe tbody tr th:only-of-type {\n",
              "        vertical-align: middle;\n",
              "    }\n",
              "\n",
              "    .dataframe tbody tr th {\n",
              "        vertical-align: top;\n",
              "    }\n",
              "\n",
              "    .dataframe thead th {\n",
              "        text-align: right;\n",
              "    }\n",
              "</style>\n",
              "<table border=\"1\" class=\"dataframe\">\n",
              "  <thead>\n",
              "    <tr style=\"text-align: right;\">\n",
              "      <th></th>\n",
              "      <th>Duration</th>\n",
              "      <th>Pulse</th>\n",
              "      <th>Maxpulse</th>\n",
              "      <th>Calories</th>\n",
              "    </tr>\n",
              "  </thead>\n",
              "  <tbody>\n",
              "    <tr>\n",
              "      <th>36</th>\n",
              "      <td>60</td>\n",
              "      <td>102</td>\n",
              "      <td>127</td>\n",
              "      <td>300.0</td>\n",
              "    </tr>\n",
              "    <tr>\n",
              "      <th>37</th>\n",
              "      <td>60</td>\n",
              "      <td>100</td>\n",
              "      <td>120</td>\n",
              "      <td>300.0</td>\n",
              "    </tr>\n",
              "    <tr>\n",
              "      <th>38</th>\n",
              "      <td>60</td>\n",
              "      <td>100</td>\n",
              "      <td>120</td>\n",
              "      <td>300.0</td>\n",
              "    </tr>\n",
              "    <tr>\n",
              "      <th>40</th>\n",
              "      <td>45</td>\n",
              "      <td>90</td>\n",
              "      <td>112</td>\n",
              "      <td>180.1</td>\n",
              "    </tr>\n",
              "    <tr>\n",
              "      <th>71</th>\n",
              "      <td>60</td>\n",
              "      <td>109</td>\n",
              "      <td>153</td>\n",
              "      <td>387.6</td>\n",
              "    </tr>\n",
              "    <tr>\n",
              "      <th>113</th>\n",
              "      <td>45</td>\n",
              "      <td>100</td>\n",
              "      <td>120</td>\n",
              "      <td>225.3</td>\n",
              "    </tr>\n",
              "    <tr>\n",
              "      <th>155</th>\n",
              "      <td>60</td>\n",
              "      <td>111</td>\n",
              "      <td>151</td>\n",
              "      <td>368.5</td>\n",
              "    </tr>\n",
              "  </tbody>\n",
              "</table>\n",
              "</div>\n",
              "      <button class=\"colab-df-convert\" onclick=\"convertToInteractive('df-ff9333ab-08d5-46b2-9d9b-35fc1b8fadee')\"\n",
              "              title=\"Convert this dataframe to an interactive table.\"\n",
              "              style=\"display:none;\">\n",
              "        \n",
              "  <svg xmlns=\"http://www.w3.org/2000/svg\" height=\"24px\"viewBox=\"0 0 24 24\"\n",
              "       width=\"24px\">\n",
              "    <path d=\"M0 0h24v24H0V0z\" fill=\"none\"/>\n",
              "    <path d=\"M18.56 5.44l.94 2.06.94-2.06 2.06-.94-2.06-.94-.94-2.06-.94 2.06-2.06.94zm-11 1L8.5 8.5l.94-2.06 2.06-.94-2.06-.94L8.5 2.5l-.94 2.06-2.06.94zm10 10l.94 2.06.94-2.06 2.06-.94-2.06-.94-.94-2.06-.94 2.06-2.06.94z\"/><path d=\"M17.41 7.96l-1.37-1.37c-.4-.4-.92-.59-1.43-.59-.52 0-1.04.2-1.43.59L10.3 9.45l-7.72 7.72c-.78.78-.78 2.05 0 2.83L4 21.41c.39.39.9.59 1.41.59.51 0 1.02-.2 1.41-.59l7.78-7.78 2.81-2.81c.8-.78.8-2.07 0-2.86zM5.41 20L4 18.59l7.72-7.72 1.47 1.35L5.41 20z\"/>\n",
              "  </svg>\n",
              "      </button>\n",
              "      \n",
              "  <style>\n",
              "    .colab-df-container {\n",
              "      display:flex;\n",
              "      flex-wrap:wrap;\n",
              "      gap: 12px;\n",
              "    }\n",
              "\n",
              "    .colab-df-convert {\n",
              "      background-color: #E8F0FE;\n",
              "      border: none;\n",
              "      border-radius: 50%;\n",
              "      cursor: pointer;\n",
              "      display: none;\n",
              "      fill: #1967D2;\n",
              "      height: 32px;\n",
              "      padding: 0 0 0 0;\n",
              "      width: 32px;\n",
              "    }\n",
              "\n",
              "    .colab-df-convert:hover {\n",
              "      background-color: #E2EBFA;\n",
              "      box-shadow: 0px 1px 2px rgba(60, 64, 67, 0.3), 0px 1px 3px 1px rgba(60, 64, 67, 0.15);\n",
              "      fill: #174EA6;\n",
              "    }\n",
              "\n",
              "    [theme=dark] .colab-df-convert {\n",
              "      background-color: #3B4455;\n",
              "      fill: #D2E3FC;\n",
              "    }\n",
              "\n",
              "    [theme=dark] .colab-df-convert:hover {\n",
              "      background-color: #434B5C;\n",
              "      box-shadow: 0px 1px 3px 1px rgba(0, 0, 0, 0.15);\n",
              "      filter: drop-shadow(0px 1px 2px rgba(0, 0, 0, 0.3));\n",
              "      fill: #FFFFFF;\n",
              "    }\n",
              "  </style>\n",
              "\n",
              "      <script>\n",
              "        const buttonEl =\n",
              "          document.querySelector('#df-ff9333ab-08d5-46b2-9d9b-35fc1b8fadee button.colab-df-convert');\n",
              "        buttonEl.style.display =\n",
              "          google.colab.kernel.accessAllowed ? 'block' : 'none';\n",
              "\n",
              "        async function convertToInteractive(key) {\n",
              "          const element = document.querySelector('#df-ff9333ab-08d5-46b2-9d9b-35fc1b8fadee');\n",
              "          const dataTable =\n",
              "            await google.colab.kernel.invokeFunction('convertToInteractive',\n",
              "                                                     [key], {});\n",
              "          if (!dataTable) return;\n",
              "\n",
              "          const docLinkHtml = 'Like what you see? Visit the ' +\n",
              "            '<a target=\"_blank\" href=https://colab.research.google.com/notebooks/data_table.ipynb>data table notebook</a>'\n",
              "            + ' to learn more about interactive tables.';\n",
              "          element.innerHTML = '';\n",
              "          dataTable['output_type'] = 'display_data';\n",
              "          await google.colab.output.renderOutput(dataTable, element);\n",
              "          const docLink = document.createElement('div');\n",
              "          docLink.innerHTML = docLinkHtml;\n",
              "          element.appendChild(docLink);\n",
              "        }\n",
              "      </script>\n",
              "    </div>\n",
              "  </div>\n",
              "  "
            ]
          },
          "metadata": {},
          "execution_count": 3
        }
      ]
    },
    {
      "cell_type": "code",
      "metadata": {
        "id": "3o33FZbf-eh8",
        "colab": {
          "base_uri": "https://localhost:8080/",
          "height": 206
        },
        "outputId": "550d7759-d805-4c6d-a87c-51b20b22c48d"
      },
      "source": [
        "### Remove as duplicatas ####\n",
        "dfClean.drop_duplicates(inplace=True)\n",
        "dfClean.head(5)"
      ],
      "execution_count": 4,
      "outputs": [
        {
          "output_type": "execute_result",
          "data": {
            "text/plain": [
              "   Duration  Pulse  Maxpulse  Calories\n",
              "0        60    110       130     409.1\n",
              "1        60    117       145     479.0\n",
              "2        60    103       135     340.0\n",
              "3        45    109       175     282.4\n",
              "4        45    117       148     406.0"
            ],
            "text/html": [
              "\n",
              "  <div id=\"df-a672f1fa-e401-40b6-baf6-76d599ac60ba\">\n",
              "    <div class=\"colab-df-container\">\n",
              "      <div>\n",
              "<style scoped>\n",
              "    .dataframe tbody tr th:only-of-type {\n",
              "        vertical-align: middle;\n",
              "    }\n",
              "\n",
              "    .dataframe tbody tr th {\n",
              "        vertical-align: top;\n",
              "    }\n",
              "\n",
              "    .dataframe thead th {\n",
              "        text-align: right;\n",
              "    }\n",
              "</style>\n",
              "<table border=\"1\" class=\"dataframe\">\n",
              "  <thead>\n",
              "    <tr style=\"text-align: right;\">\n",
              "      <th></th>\n",
              "      <th>Duration</th>\n",
              "      <th>Pulse</th>\n",
              "      <th>Maxpulse</th>\n",
              "      <th>Calories</th>\n",
              "    </tr>\n",
              "  </thead>\n",
              "  <tbody>\n",
              "    <tr>\n",
              "      <th>0</th>\n",
              "      <td>60</td>\n",
              "      <td>110</td>\n",
              "      <td>130</td>\n",
              "      <td>409.1</td>\n",
              "    </tr>\n",
              "    <tr>\n",
              "      <th>1</th>\n",
              "      <td>60</td>\n",
              "      <td>117</td>\n",
              "      <td>145</td>\n",
              "      <td>479.0</td>\n",
              "    </tr>\n",
              "    <tr>\n",
              "      <th>2</th>\n",
              "      <td>60</td>\n",
              "      <td>103</td>\n",
              "      <td>135</td>\n",
              "      <td>340.0</td>\n",
              "    </tr>\n",
              "    <tr>\n",
              "      <th>3</th>\n",
              "      <td>45</td>\n",
              "      <td>109</td>\n",
              "      <td>175</td>\n",
              "      <td>282.4</td>\n",
              "    </tr>\n",
              "    <tr>\n",
              "      <th>4</th>\n",
              "      <td>45</td>\n",
              "      <td>117</td>\n",
              "      <td>148</td>\n",
              "      <td>406.0</td>\n",
              "    </tr>\n",
              "  </tbody>\n",
              "</table>\n",
              "</div>\n",
              "      <button class=\"colab-df-convert\" onclick=\"convertToInteractive('df-a672f1fa-e401-40b6-baf6-76d599ac60ba')\"\n",
              "              title=\"Convert this dataframe to an interactive table.\"\n",
              "              style=\"display:none;\">\n",
              "        \n",
              "  <svg xmlns=\"http://www.w3.org/2000/svg\" height=\"24px\"viewBox=\"0 0 24 24\"\n",
              "       width=\"24px\">\n",
              "    <path d=\"M0 0h24v24H0V0z\" fill=\"none\"/>\n",
              "    <path d=\"M18.56 5.44l.94 2.06.94-2.06 2.06-.94-2.06-.94-.94-2.06-.94 2.06-2.06.94zm-11 1L8.5 8.5l.94-2.06 2.06-.94-2.06-.94L8.5 2.5l-.94 2.06-2.06.94zm10 10l.94 2.06.94-2.06 2.06-.94-2.06-.94-.94-2.06-.94 2.06-2.06.94z\"/><path d=\"M17.41 7.96l-1.37-1.37c-.4-.4-.92-.59-1.43-.59-.52 0-1.04.2-1.43.59L10.3 9.45l-7.72 7.72c-.78.78-.78 2.05 0 2.83L4 21.41c.39.39.9.59 1.41.59.51 0 1.02-.2 1.41-.59l7.78-7.78 2.81-2.81c.8-.78.8-2.07 0-2.86zM5.41 20L4 18.59l7.72-7.72 1.47 1.35L5.41 20z\"/>\n",
              "  </svg>\n",
              "      </button>\n",
              "      \n",
              "  <style>\n",
              "    .colab-df-container {\n",
              "      display:flex;\n",
              "      flex-wrap:wrap;\n",
              "      gap: 12px;\n",
              "    }\n",
              "\n",
              "    .colab-df-convert {\n",
              "      background-color: #E8F0FE;\n",
              "      border: none;\n",
              "      border-radius: 50%;\n",
              "      cursor: pointer;\n",
              "      display: none;\n",
              "      fill: #1967D2;\n",
              "      height: 32px;\n",
              "      padding: 0 0 0 0;\n",
              "      width: 32px;\n",
              "    }\n",
              "\n",
              "    .colab-df-convert:hover {\n",
              "      background-color: #E2EBFA;\n",
              "      box-shadow: 0px 1px 2px rgba(60, 64, 67, 0.3), 0px 1px 3px 1px rgba(60, 64, 67, 0.15);\n",
              "      fill: #174EA6;\n",
              "    }\n",
              "\n",
              "    [theme=dark] .colab-df-convert {\n",
              "      background-color: #3B4455;\n",
              "      fill: #D2E3FC;\n",
              "    }\n",
              "\n",
              "    [theme=dark] .colab-df-convert:hover {\n",
              "      background-color: #434B5C;\n",
              "      box-shadow: 0px 1px 3px 1px rgba(0, 0, 0, 0.15);\n",
              "      filter: drop-shadow(0px 1px 2px rgba(0, 0, 0, 0.3));\n",
              "      fill: #FFFFFF;\n",
              "    }\n",
              "  </style>\n",
              "\n",
              "      <script>\n",
              "        const buttonEl =\n",
              "          document.querySelector('#df-a672f1fa-e401-40b6-baf6-76d599ac60ba button.colab-df-convert');\n",
              "        buttonEl.style.display =\n",
              "          google.colab.kernel.accessAllowed ? 'block' : 'none';\n",
              "\n",
              "        async function convertToInteractive(key) {\n",
              "          const element = document.querySelector('#df-a672f1fa-e401-40b6-baf6-76d599ac60ba');\n",
              "          const dataTable =\n",
              "            await google.colab.kernel.invokeFunction('convertToInteractive',\n",
              "                                                     [key], {});\n",
              "          if (!dataTable) return;\n",
              "\n",
              "          const docLinkHtml = 'Like what you see? Visit the ' +\n",
              "            '<a target=\"_blank\" href=https://colab.research.google.com/notebooks/data_table.ipynb>data table notebook</a>'\n",
              "            + ' to learn more about interactive tables.';\n",
              "          element.innerHTML = '';\n",
              "          dataTable['output_type'] = 'display_data';\n",
              "          await google.colab.output.renderOutput(dataTable, element);\n",
              "          const docLink = document.createElement('div');\n",
              "          docLink.innerHTML = docLinkHtml;\n",
              "          element.appendChild(docLink);\n",
              "        }\n",
              "      </script>\n",
              "    </div>\n",
              "  </div>\n",
              "  "
            ]
          },
          "metadata": {},
          "execution_count": 4
        }
      ]
    },
    {
      "cell_type": "code",
      "metadata": {
        "id": "U7As-XrF-eh8",
        "colab": {
          "base_uri": "https://localhost:8080/",
          "height": 206
        },
        "outputId": "e47f71ea-88a3-45bf-abc9-7a65633ff898"
      },
      "source": [
        "### Reset_index #### \n",
        "dfClean.reset_index(drop=True,inplace=True)\n",
        "dfClean.head(5)"
      ],
      "execution_count": 5,
      "outputs": [
        {
          "output_type": "execute_result",
          "data": {
            "text/plain": [
              "   Duration  Pulse  Maxpulse  Calories\n",
              "0        60    110       130     409.1\n",
              "1        60    117       145     479.0\n",
              "2        60    103       135     340.0\n",
              "3        45    109       175     282.4\n",
              "4        45    117       148     406.0"
            ],
            "text/html": [
              "\n",
              "  <div id=\"df-ba986281-ea38-4c42-aba5-a333e4bc8ce7\">\n",
              "    <div class=\"colab-df-container\">\n",
              "      <div>\n",
              "<style scoped>\n",
              "    .dataframe tbody tr th:only-of-type {\n",
              "        vertical-align: middle;\n",
              "    }\n",
              "\n",
              "    .dataframe tbody tr th {\n",
              "        vertical-align: top;\n",
              "    }\n",
              "\n",
              "    .dataframe thead th {\n",
              "        text-align: right;\n",
              "    }\n",
              "</style>\n",
              "<table border=\"1\" class=\"dataframe\">\n",
              "  <thead>\n",
              "    <tr style=\"text-align: right;\">\n",
              "      <th></th>\n",
              "      <th>Duration</th>\n",
              "      <th>Pulse</th>\n",
              "      <th>Maxpulse</th>\n",
              "      <th>Calories</th>\n",
              "    </tr>\n",
              "  </thead>\n",
              "  <tbody>\n",
              "    <tr>\n",
              "      <th>0</th>\n",
              "      <td>60</td>\n",
              "      <td>110</td>\n",
              "      <td>130</td>\n",
              "      <td>409.1</td>\n",
              "    </tr>\n",
              "    <tr>\n",
              "      <th>1</th>\n",
              "      <td>60</td>\n",
              "      <td>117</td>\n",
              "      <td>145</td>\n",
              "      <td>479.0</td>\n",
              "    </tr>\n",
              "    <tr>\n",
              "      <th>2</th>\n",
              "      <td>60</td>\n",
              "      <td>103</td>\n",
              "      <td>135</td>\n",
              "      <td>340.0</td>\n",
              "    </tr>\n",
              "    <tr>\n",
              "      <th>3</th>\n",
              "      <td>45</td>\n",
              "      <td>109</td>\n",
              "      <td>175</td>\n",
              "      <td>282.4</td>\n",
              "    </tr>\n",
              "    <tr>\n",
              "      <th>4</th>\n",
              "      <td>45</td>\n",
              "      <td>117</td>\n",
              "      <td>148</td>\n",
              "      <td>406.0</td>\n",
              "    </tr>\n",
              "  </tbody>\n",
              "</table>\n",
              "</div>\n",
              "      <button class=\"colab-df-convert\" onclick=\"convertToInteractive('df-ba986281-ea38-4c42-aba5-a333e4bc8ce7')\"\n",
              "              title=\"Convert this dataframe to an interactive table.\"\n",
              "              style=\"display:none;\">\n",
              "        \n",
              "  <svg xmlns=\"http://www.w3.org/2000/svg\" height=\"24px\"viewBox=\"0 0 24 24\"\n",
              "       width=\"24px\">\n",
              "    <path d=\"M0 0h24v24H0V0z\" fill=\"none\"/>\n",
              "    <path d=\"M18.56 5.44l.94 2.06.94-2.06 2.06-.94-2.06-.94-.94-2.06-.94 2.06-2.06.94zm-11 1L8.5 8.5l.94-2.06 2.06-.94-2.06-.94L8.5 2.5l-.94 2.06-2.06.94zm10 10l.94 2.06.94-2.06 2.06-.94-2.06-.94-.94-2.06-.94 2.06-2.06.94z\"/><path d=\"M17.41 7.96l-1.37-1.37c-.4-.4-.92-.59-1.43-.59-.52 0-1.04.2-1.43.59L10.3 9.45l-7.72 7.72c-.78.78-.78 2.05 0 2.83L4 21.41c.39.39.9.59 1.41.59.51 0 1.02-.2 1.41-.59l7.78-7.78 2.81-2.81c.8-.78.8-2.07 0-2.86zM5.41 20L4 18.59l7.72-7.72 1.47 1.35L5.41 20z\"/>\n",
              "  </svg>\n",
              "      </button>\n",
              "      \n",
              "  <style>\n",
              "    .colab-df-container {\n",
              "      display:flex;\n",
              "      flex-wrap:wrap;\n",
              "      gap: 12px;\n",
              "    }\n",
              "\n",
              "    .colab-df-convert {\n",
              "      background-color: #E8F0FE;\n",
              "      border: none;\n",
              "      border-radius: 50%;\n",
              "      cursor: pointer;\n",
              "      display: none;\n",
              "      fill: #1967D2;\n",
              "      height: 32px;\n",
              "      padding: 0 0 0 0;\n",
              "      width: 32px;\n",
              "    }\n",
              "\n",
              "    .colab-df-convert:hover {\n",
              "      background-color: #E2EBFA;\n",
              "      box-shadow: 0px 1px 2px rgba(60, 64, 67, 0.3), 0px 1px 3px 1px rgba(60, 64, 67, 0.15);\n",
              "      fill: #174EA6;\n",
              "    }\n",
              "\n",
              "    [theme=dark] .colab-df-convert {\n",
              "      background-color: #3B4455;\n",
              "      fill: #D2E3FC;\n",
              "    }\n",
              "\n",
              "    [theme=dark] .colab-df-convert:hover {\n",
              "      background-color: #434B5C;\n",
              "      box-shadow: 0px 1px 3px 1px rgba(0, 0, 0, 0.15);\n",
              "      filter: drop-shadow(0px 1px 2px rgba(0, 0, 0, 0.3));\n",
              "      fill: #FFFFFF;\n",
              "    }\n",
              "  </style>\n",
              "\n",
              "      <script>\n",
              "        const buttonEl =\n",
              "          document.querySelector('#df-ba986281-ea38-4c42-aba5-a333e4bc8ce7 button.colab-df-convert');\n",
              "        buttonEl.style.display =\n",
              "          google.colab.kernel.accessAllowed ? 'block' : 'none';\n",
              "\n",
              "        async function convertToInteractive(key) {\n",
              "          const element = document.querySelector('#df-ba986281-ea38-4c42-aba5-a333e4bc8ce7');\n",
              "          const dataTable =\n",
              "            await google.colab.kernel.invokeFunction('convertToInteractive',\n",
              "                                                     [key], {});\n",
              "          if (!dataTable) return;\n",
              "\n",
              "          const docLinkHtml = 'Like what you see? Visit the ' +\n",
              "            '<a target=\"_blank\" href=https://colab.research.google.com/notebooks/data_table.ipynb>data table notebook</a>'\n",
              "            + ' to learn more about interactive tables.';\n",
              "          element.innerHTML = '';\n",
              "          dataTable['output_type'] = 'display_data';\n",
              "          await google.colab.output.renderOutput(dataTable, element);\n",
              "          const docLink = document.createElement('div');\n",
              "          docLink.innerHTML = docLinkHtml;\n",
              "          element.appendChild(docLink);\n",
              "        }\n",
              "      </script>\n",
              "    </div>\n",
              "  </div>\n",
              "  "
            ]
          },
          "metadata": {},
          "execution_count": 5
        }
      ]
    },
    {
      "cell_type": "code",
      "metadata": {
        "id": "NMmItwo2-eh9",
        "colab": {
          "base_uri": "https://localhost:8080/"
        },
        "outputId": "c39516ac-270f-4d7a-bc88-5d1b885216a7"
      },
      "source": [
        "### Verifica se tem valores nulos na tabela ###\n",
        "dfClean.isnull().sum()"
      ],
      "execution_count": 6,
      "outputs": [
        {
          "output_type": "execute_result",
          "data": {
            "text/plain": [
              "Duration    0\n",
              "Pulse       0\n",
              "Maxpulse    0\n",
              "Calories    5\n",
              "dtype: int64"
            ]
          },
          "metadata": {},
          "execution_count": 6
        }
      ]
    },
    {
      "cell_type": "code",
      "metadata": {
        "id": "XXVGxG9C-eh9",
        "colab": {
          "base_uri": "https://localhost:8080/"
        },
        "outputId": "31d1f49c-22dc-4ed6-8488-c17550d95aa4"
      },
      "source": [
        "dfClean.info()\n"
      ],
      "execution_count": 7,
      "outputs": [
        {
          "output_type": "stream",
          "name": "stdout",
          "text": [
            "<class 'pandas.core.frame.DataFrame'>\n",
            "RangeIndex: 162 entries, 0 to 161\n",
            "Data columns (total 4 columns):\n",
            " #   Column    Non-Null Count  Dtype  \n",
            "---  ------    --------------  -----  \n",
            " 0   Duration  162 non-null    int64  \n",
            " 1   Pulse     162 non-null    int64  \n",
            " 2   Maxpulse  162 non-null    int64  \n",
            " 3   Calories  157 non-null    float64\n",
            "dtypes: float64(1), int64(3)\n",
            "memory usage: 5.2 KB\n"
          ]
        }
      ]
    },
    {
      "cell_type": "code",
      "metadata": {
        "id": "tDOojCR7-eh9",
        "colab": {
          "base_uri": "https://localhost:8080/"
        },
        "outputId": "9602b2b7-5218-45e1-9ca5-af81988d2303"
      },
      "source": [
        "### Tipos de uma coluna #### \n",
        "dfClean.Calories.map(type)"
      ],
      "execution_count": 8,
      "outputs": [
        {
          "output_type": "execute_result",
          "data": {
            "text/plain": [
              "0      <class 'float'>\n",
              "1      <class 'float'>\n",
              "2      <class 'float'>\n",
              "3      <class 'float'>\n",
              "4      <class 'float'>\n",
              "            ...       \n",
              "157    <class 'float'>\n",
              "158    <class 'float'>\n",
              "159    <class 'float'>\n",
              "160    <class 'float'>\n",
              "161    <class 'float'>\n",
              "Name: Calories, Length: 162, dtype: object"
            ]
          },
          "metadata": {},
          "execution_count": 8
        }
      ]
    },
    {
      "cell_type": "code",
      "metadata": {
        "id": "NC40YvEV-eh9",
        "colab": {
          "base_uri": "https://localhost:8080/",
          "height": 206
        },
        "outputId": "da4cb51a-8c2b-4cff-800f-c08bd79fe9aa"
      },
      "source": [
        "### Visualiza a coluna Calories #####\n",
        "dfClean[dfClean.Calories.isna()]"
      ],
      "execution_count": 9,
      "outputs": [
        {
          "output_type": "execute_result",
          "data": {
            "text/plain": [
              "     Duration  Pulse  Maxpulse  Calories\n",
              "17         45     90       112       NaN\n",
              "27         60    103       132       NaN\n",
              "86         45    107       137       NaN\n",
              "112        60    105       125       NaN\n",
              "135        60     97       127       NaN"
            ],
            "text/html": [
              "\n",
              "  <div id=\"df-3cec96e4-9fe0-46e3-920c-9143e543ab79\">\n",
              "    <div class=\"colab-df-container\">\n",
              "      <div>\n",
              "<style scoped>\n",
              "    .dataframe tbody tr th:only-of-type {\n",
              "        vertical-align: middle;\n",
              "    }\n",
              "\n",
              "    .dataframe tbody tr th {\n",
              "        vertical-align: top;\n",
              "    }\n",
              "\n",
              "    .dataframe thead th {\n",
              "        text-align: right;\n",
              "    }\n",
              "</style>\n",
              "<table border=\"1\" class=\"dataframe\">\n",
              "  <thead>\n",
              "    <tr style=\"text-align: right;\">\n",
              "      <th></th>\n",
              "      <th>Duration</th>\n",
              "      <th>Pulse</th>\n",
              "      <th>Maxpulse</th>\n",
              "      <th>Calories</th>\n",
              "    </tr>\n",
              "  </thead>\n",
              "  <tbody>\n",
              "    <tr>\n",
              "      <th>17</th>\n",
              "      <td>45</td>\n",
              "      <td>90</td>\n",
              "      <td>112</td>\n",
              "      <td>NaN</td>\n",
              "    </tr>\n",
              "    <tr>\n",
              "      <th>27</th>\n",
              "      <td>60</td>\n",
              "      <td>103</td>\n",
              "      <td>132</td>\n",
              "      <td>NaN</td>\n",
              "    </tr>\n",
              "    <tr>\n",
              "      <th>86</th>\n",
              "      <td>45</td>\n",
              "      <td>107</td>\n",
              "      <td>137</td>\n",
              "      <td>NaN</td>\n",
              "    </tr>\n",
              "    <tr>\n",
              "      <th>112</th>\n",
              "      <td>60</td>\n",
              "      <td>105</td>\n",
              "      <td>125</td>\n",
              "      <td>NaN</td>\n",
              "    </tr>\n",
              "    <tr>\n",
              "      <th>135</th>\n",
              "      <td>60</td>\n",
              "      <td>97</td>\n",
              "      <td>127</td>\n",
              "      <td>NaN</td>\n",
              "    </tr>\n",
              "  </tbody>\n",
              "</table>\n",
              "</div>\n",
              "      <button class=\"colab-df-convert\" onclick=\"convertToInteractive('df-3cec96e4-9fe0-46e3-920c-9143e543ab79')\"\n",
              "              title=\"Convert this dataframe to an interactive table.\"\n",
              "              style=\"display:none;\">\n",
              "        \n",
              "  <svg xmlns=\"http://www.w3.org/2000/svg\" height=\"24px\"viewBox=\"0 0 24 24\"\n",
              "       width=\"24px\">\n",
              "    <path d=\"M0 0h24v24H0V0z\" fill=\"none\"/>\n",
              "    <path d=\"M18.56 5.44l.94 2.06.94-2.06 2.06-.94-2.06-.94-.94-2.06-.94 2.06-2.06.94zm-11 1L8.5 8.5l.94-2.06 2.06-.94-2.06-.94L8.5 2.5l-.94 2.06-2.06.94zm10 10l.94 2.06.94-2.06 2.06-.94-2.06-.94-.94-2.06-.94 2.06-2.06.94z\"/><path d=\"M17.41 7.96l-1.37-1.37c-.4-.4-.92-.59-1.43-.59-.52 0-1.04.2-1.43.59L10.3 9.45l-7.72 7.72c-.78.78-.78 2.05 0 2.83L4 21.41c.39.39.9.59 1.41.59.51 0 1.02-.2 1.41-.59l7.78-7.78 2.81-2.81c.8-.78.8-2.07 0-2.86zM5.41 20L4 18.59l7.72-7.72 1.47 1.35L5.41 20z\"/>\n",
              "  </svg>\n",
              "      </button>\n",
              "      \n",
              "  <style>\n",
              "    .colab-df-container {\n",
              "      display:flex;\n",
              "      flex-wrap:wrap;\n",
              "      gap: 12px;\n",
              "    }\n",
              "\n",
              "    .colab-df-convert {\n",
              "      background-color: #E8F0FE;\n",
              "      border: none;\n",
              "      border-radius: 50%;\n",
              "      cursor: pointer;\n",
              "      display: none;\n",
              "      fill: #1967D2;\n",
              "      height: 32px;\n",
              "      padding: 0 0 0 0;\n",
              "      width: 32px;\n",
              "    }\n",
              "\n",
              "    .colab-df-convert:hover {\n",
              "      background-color: #E2EBFA;\n",
              "      box-shadow: 0px 1px 2px rgba(60, 64, 67, 0.3), 0px 1px 3px 1px rgba(60, 64, 67, 0.15);\n",
              "      fill: #174EA6;\n",
              "    }\n",
              "\n",
              "    [theme=dark] .colab-df-convert {\n",
              "      background-color: #3B4455;\n",
              "      fill: #D2E3FC;\n",
              "    }\n",
              "\n",
              "    [theme=dark] .colab-df-convert:hover {\n",
              "      background-color: #434B5C;\n",
              "      box-shadow: 0px 1px 3px 1px rgba(0, 0, 0, 0.15);\n",
              "      filter: drop-shadow(0px 1px 2px rgba(0, 0, 0, 0.3));\n",
              "      fill: #FFFFFF;\n",
              "    }\n",
              "  </style>\n",
              "\n",
              "      <script>\n",
              "        const buttonEl =\n",
              "          document.querySelector('#df-3cec96e4-9fe0-46e3-920c-9143e543ab79 button.colab-df-convert');\n",
              "        buttonEl.style.display =\n",
              "          google.colab.kernel.accessAllowed ? 'block' : 'none';\n",
              "\n",
              "        async function convertToInteractive(key) {\n",
              "          const element = document.querySelector('#df-3cec96e4-9fe0-46e3-920c-9143e543ab79');\n",
              "          const dataTable =\n",
              "            await google.colab.kernel.invokeFunction('convertToInteractive',\n",
              "                                                     [key], {});\n",
              "          if (!dataTable) return;\n",
              "\n",
              "          const docLinkHtml = 'Like what you see? Visit the ' +\n",
              "            '<a target=\"_blank\" href=https://colab.research.google.com/notebooks/data_table.ipynb>data table notebook</a>'\n",
              "            + ' to learn more about interactive tables.';\n",
              "          element.innerHTML = '';\n",
              "          dataTable['output_type'] = 'display_data';\n",
              "          await google.colab.output.renderOutput(dataTable, element);\n",
              "          const docLink = document.createElement('div');\n",
              "          docLink.innerHTML = docLinkHtml;\n",
              "          element.appendChild(docLink);\n",
              "        }\n",
              "      </script>\n",
              "    </div>\n",
              "  </div>\n",
              "  "
            ]
          },
          "metadata": {},
          "execution_count": 9
        }
      ]
    },
    {
      "cell_type": "code",
      "metadata": {
        "id": "ZR97furL-eh9",
        "colab": {
          "base_uri": "https://localhost:8080/"
        },
        "outputId": "2e8e2e54-c768-4fe7-c54c-41595d212a9a"
      },
      "source": [
        "#### Substituir pela média ##### \n",
        "avg_45 = dfClean[dfClean.Duration==45].Calories.mean()\n",
        "avg_45"
      ],
      "execution_count": 10,
      "outputs": [
        {
          "output_type": "execute_result",
          "data": {
            "text/plain": [
              "277.7870967741935"
            ]
          },
          "metadata": {},
          "execution_count": 10
        }
      ]
    },
    {
      "cell_type": "code",
      "metadata": {
        "id": "TaXopEfX-eh-",
        "colab": {
          "base_uri": "https://localhost:8080/"
        },
        "outputId": "17179c21-0d63-48a2-a8f6-7501d0b0ca5e"
      },
      "source": [
        "avg_60 = dfClean[dfClean.Duration==60].Calories.mean()\n",
        "avg_60"
      ],
      "execution_count": 11,
      "outputs": [
        {
          "output_type": "execute_result",
          "data": {
            "text/plain": [
              "340.2704225352114"
            ]
          },
          "metadata": {},
          "execution_count": 11
        }
      ]
    },
    {
      "cell_type": "code",
      "metadata": {
        "id": "Bz2AKHJT-eh-"
      },
      "source": [
        "dfClean.loc[(dfClean.Calories.isna()) & (dfClean.Duration==60),'Calories'] = avg_60"
      ],
      "execution_count": 12,
      "outputs": []
    },
    {
      "cell_type": "code",
      "metadata": {
        "id": "Glq7rdhk-eh-"
      },
      "source": [
        "dfClean.loc[(dfClean.Calories.isna()) & (dfClean.Duration==45),'Calories'] = avg_45"
      ],
      "execution_count": 13,
      "outputs": []
    },
    {
      "cell_type": "code",
      "metadata": {
        "id": "DkZezaVB-eh-",
        "colab": {
          "base_uri": "https://localhost:8080/",
          "height": 49
        },
        "outputId": "8712a59b-5862-421b-e189-c45a760284fd"
      },
      "source": [
        "dfClean[dfClean.Calories.isnull()]"
      ],
      "execution_count": 14,
      "outputs": [
        {
          "output_type": "execute_result",
          "data": {
            "text/plain": [
              "Empty DataFrame\n",
              "Columns: [Duration, Pulse, Maxpulse, Calories]\n",
              "Index: []"
            ],
            "text/html": [
              "\n",
              "  <div id=\"df-beca971e-a18f-4c7a-9f9d-c1babae52cd2\">\n",
              "    <div class=\"colab-df-container\">\n",
              "      <div>\n",
              "<style scoped>\n",
              "    .dataframe tbody tr th:only-of-type {\n",
              "        vertical-align: middle;\n",
              "    }\n",
              "\n",
              "    .dataframe tbody tr th {\n",
              "        vertical-align: top;\n",
              "    }\n",
              "\n",
              "    .dataframe thead th {\n",
              "        text-align: right;\n",
              "    }\n",
              "</style>\n",
              "<table border=\"1\" class=\"dataframe\">\n",
              "  <thead>\n",
              "    <tr style=\"text-align: right;\">\n",
              "      <th></th>\n",
              "      <th>Duration</th>\n",
              "      <th>Pulse</th>\n",
              "      <th>Maxpulse</th>\n",
              "      <th>Calories</th>\n",
              "    </tr>\n",
              "  </thead>\n",
              "  <tbody>\n",
              "  </tbody>\n",
              "</table>\n",
              "</div>\n",
              "      <button class=\"colab-df-convert\" onclick=\"convertToInteractive('df-beca971e-a18f-4c7a-9f9d-c1babae52cd2')\"\n",
              "              title=\"Convert this dataframe to an interactive table.\"\n",
              "              style=\"display:none;\">\n",
              "        \n",
              "  <svg xmlns=\"http://www.w3.org/2000/svg\" height=\"24px\"viewBox=\"0 0 24 24\"\n",
              "       width=\"24px\">\n",
              "    <path d=\"M0 0h24v24H0V0z\" fill=\"none\"/>\n",
              "    <path d=\"M18.56 5.44l.94 2.06.94-2.06 2.06-.94-2.06-.94-.94-2.06-.94 2.06-2.06.94zm-11 1L8.5 8.5l.94-2.06 2.06-.94-2.06-.94L8.5 2.5l-.94 2.06-2.06.94zm10 10l.94 2.06.94-2.06 2.06-.94-2.06-.94-.94-2.06-.94 2.06-2.06.94z\"/><path d=\"M17.41 7.96l-1.37-1.37c-.4-.4-.92-.59-1.43-.59-.52 0-1.04.2-1.43.59L10.3 9.45l-7.72 7.72c-.78.78-.78 2.05 0 2.83L4 21.41c.39.39.9.59 1.41.59.51 0 1.02-.2 1.41-.59l7.78-7.78 2.81-2.81c.8-.78.8-2.07 0-2.86zM5.41 20L4 18.59l7.72-7.72 1.47 1.35L5.41 20z\"/>\n",
              "  </svg>\n",
              "      </button>\n",
              "      \n",
              "  <style>\n",
              "    .colab-df-container {\n",
              "      display:flex;\n",
              "      flex-wrap:wrap;\n",
              "      gap: 12px;\n",
              "    }\n",
              "\n",
              "    .colab-df-convert {\n",
              "      background-color: #E8F0FE;\n",
              "      border: none;\n",
              "      border-radius: 50%;\n",
              "      cursor: pointer;\n",
              "      display: none;\n",
              "      fill: #1967D2;\n",
              "      height: 32px;\n",
              "      padding: 0 0 0 0;\n",
              "      width: 32px;\n",
              "    }\n",
              "\n",
              "    .colab-df-convert:hover {\n",
              "      background-color: #E2EBFA;\n",
              "      box-shadow: 0px 1px 2px rgba(60, 64, 67, 0.3), 0px 1px 3px 1px rgba(60, 64, 67, 0.15);\n",
              "      fill: #174EA6;\n",
              "    }\n",
              "\n",
              "    [theme=dark] .colab-df-convert {\n",
              "      background-color: #3B4455;\n",
              "      fill: #D2E3FC;\n",
              "    }\n",
              "\n",
              "    [theme=dark] .colab-df-convert:hover {\n",
              "      background-color: #434B5C;\n",
              "      box-shadow: 0px 1px 3px 1px rgba(0, 0, 0, 0.15);\n",
              "      filter: drop-shadow(0px 1px 2px rgba(0, 0, 0, 0.3));\n",
              "      fill: #FFFFFF;\n",
              "    }\n",
              "  </style>\n",
              "\n",
              "      <script>\n",
              "        const buttonEl =\n",
              "          document.querySelector('#df-beca971e-a18f-4c7a-9f9d-c1babae52cd2 button.colab-df-convert');\n",
              "        buttonEl.style.display =\n",
              "          google.colab.kernel.accessAllowed ? 'block' : 'none';\n",
              "\n",
              "        async function convertToInteractive(key) {\n",
              "          const element = document.querySelector('#df-beca971e-a18f-4c7a-9f9d-c1babae52cd2');\n",
              "          const dataTable =\n",
              "            await google.colab.kernel.invokeFunction('convertToInteractive',\n",
              "                                                     [key], {});\n",
              "          if (!dataTable) return;\n",
              "\n",
              "          const docLinkHtml = 'Like what you see? Visit the ' +\n",
              "            '<a target=\"_blank\" href=https://colab.research.google.com/notebooks/data_table.ipynb>data table notebook</a>'\n",
              "            + ' to learn more about interactive tables.';\n",
              "          element.innerHTML = '';\n",
              "          dataTable['output_type'] = 'display_data';\n",
              "          await google.colab.output.renderOutput(dataTable, element);\n",
              "          const docLink = document.createElement('div');\n",
              "          docLink.innerHTML = docLinkHtml;\n",
              "          element.appendChild(docLink);\n",
              "        }\n",
              "      </script>\n",
              "    </div>\n",
              "  </div>\n",
              "  "
            ]
          },
          "metadata": {},
          "execution_count": 14
        }
      ]
    },
    {
      "cell_type": "code",
      "source": [
        "def multiplica_por_4(a):\n",
        "  return a*4 "
      ],
      "metadata": {
        "id": "BnzPKcsWBXgK"
      },
      "execution_count": 15,
      "outputs": []
    },
    {
      "cell_type": "code",
      "source": [
        "multiplica_por_4(10)"
      ],
      "metadata": {
        "colab": {
          "base_uri": "https://localhost:8080/"
        },
        "id": "rwlT0bTmDbv3",
        "outputId": "ceebcf67-3a44-4ea4-ee03-77928f5517a9"
      },
      "execution_count": 16,
      "outputs": [
        {
          "output_type": "execute_result",
          "data": {
            "text/plain": [
              "40"
            ]
          },
          "metadata": {},
          "execution_count": 16
        }
      ]
    },
    {
      "cell_type": "code",
      "source": [
        "mult_por_4 = lambda x:x*4"
      ],
      "metadata": {
        "id": "hME0qS0DDiZt"
      },
      "execution_count": 17,
      "outputs": []
    },
    {
      "cell_type": "code",
      "source": [
        "mult_por_4(10)"
      ],
      "metadata": {
        "colab": {
          "base_uri": "https://localhost:8080/"
        },
        "id": "IFsO0vTZDtJA",
        "outputId": "3eff5b04-6529-4ff1-a4f5-6421e1b5a8f9"
      },
      "execution_count": 18,
      "outputs": [
        {
          "output_type": "execute_result",
          "data": {
            "text/plain": [
              "40"
            ]
          },
          "metadata": {},
          "execution_count": 18
        }
      ]
    },
    {
      "cell_type": "code",
      "metadata": {
        "id": "5vChU09ObzIQ",
        "colab": {
          "base_uri": "https://localhost:8080/"
        },
        "outputId": "df4cdb82-46fd-4e69-97cd-3951b6a39f99"
      },
      "source": [
        "dfClean['Calories'] =  dfClean.groupby('Duration')['Calories'].apply(lambda x: x.fillna(round(x.mean(),1)))\n",
        "dfClean['Calories'].head(20)"
      ],
      "execution_count": 19,
      "outputs": [
        {
          "output_type": "execute_result",
          "data": {
            "text/plain": [
              "0     409.100000\n",
              "1     479.000000\n",
              "2     340.000000\n",
              "3     282.400000\n",
              "4     406.000000\n",
              "5     300.000000\n",
              "6     374.000000\n",
              "7     253.300000\n",
              "8     195.100000\n",
              "9     269.000000\n",
              "10    329.300000\n",
              "11    250.700000\n",
              "12    345.300000\n",
              "13    379.300000\n",
              "14    275.000000\n",
              "15    215.200000\n",
              "16    300.000000\n",
              "17    277.787097\n",
              "18    323.000000\n",
              "19    243.000000\n",
              "Name: Calories, dtype: float64"
            ]
          },
          "metadata": {},
          "execution_count": 19
        }
      ]
    },
    {
      "cell_type": "code",
      "metadata": {
        "id": "Mv1ErDCe-eh_"
      },
      "source": [
        "dfClean.to_csv('dataClean.csv')"
      ],
      "execution_count": 20,
      "outputs": []
    },
    {
      "cell_type": "code",
      "metadata": {
        "id": "iAh1kGhX-eh_",
        "colab": {
          "base_uri": "https://localhost:8080/",
          "height": 296
        },
        "outputId": "827b61dc-398b-4e6f-bd6f-5eb57114aee6"
      },
      "source": [
        "dfClean.plot(kind='scatter', x='Duration', y='Calories')"
      ],
      "execution_count": 21,
      "outputs": [
        {
          "output_type": "execute_result",
          "data": {
            "text/plain": [
              "<matplotlib.axes._subplots.AxesSubplot at 0x7f980d353a90>"
            ]
          },
          "metadata": {},
          "execution_count": 21
        },
        {
          "output_type": "display_data",
          "data": {
            "text/plain": [
              "<Figure size 432x288 with 1 Axes>"
            ],
            "image/png": "[encoded data removed]"
          },
          "metadata": {
            "needs_background": "light"
          }
        }
      ]
    },
    {
      "cell_type": "markdown",
      "metadata": {
        "id": "yi2C56XL-eh_"
      },
      "source": [
        "### Regressão Linear #####\n",
        "\n"
      ]
    },
    {
      "cell_type": "markdown",
      "source": [
        "![image.png](data:image/png;base64,iVBORw0KGgoAAAANSUhEUgAAA0IAAAHGCAIAAADWgqzEAAAYhWlDQ1BJQ0MgUHJvZmlsZQAAWIWVeQc8lt/7/7nHM3nsvWWTvUn23nuk8tibHltISKKSjBQtfIoUTVRCRkOyGkolRaFUGlbI7zbq8/l+vv/X//f6ndfr3Of9XOc613Wd64zrvp4bAN6X1MjIUJgJgLDwaJqDqYGQm7uHEOE9QIAgYAFCgEj1iYrUt7OzAlj53f5nmXkKoJX2keyKrP/u//8WFl+/KB8AIE8Me/tG+YRhuAUAtNQnkhYNAH6FLhIXHbmCUzHMRsMMxHDBCg5Yw5Ur2HsNN67yODkYYrgXACI9lUoLAIDhJUYXivUJwOQwLGJ9LOG+QeEAsGMzx2/2CaT6AsBrh/FsDAuLWMFJGJbE+CMxXIFhDe9/yAz4D/nef+RTqQF/8Nq8VgvRKCgqMpSa8H90zf9ewkJjfusQxyp9IM3MYWX+mA+fhURYrmB6DE+Ge9vYrvgaw3NBvmt+BwAmB8aYOa/xw3w+UYaY/wAHhhV8qUaWGObDsEl4qI3VOt3bP8jEHMOYz+D4oGhzJwxzYTjLL8rYcZ3nFC3CYV0XXOdPM9Rfp9+j0lb1rugaiglx1l+X/y3Qz3xdPsKQGOjkimEyhkVjg1xsMMyAYbmoEEfLdZ5NiYGGNr95aDEOK/aLYtjBL9zUYE0+EutPM3FY588Oi/o9X+RUYJC5zTq+HB3oZLbmH6Tdh7pqPzYXpNcvXN/5txy/KDer33Px9TMyXps7Mu4X7uy4LmcuMtrAYW0sSo4MtVvnRzf4hZqu0DdgWCUq1nF9LOoSjW3ONfmof2S0ndOanWhiMNXCbs0e9BCwAobACDt9MVj1BhEgGAR1T9ZPYr/WekwAFdBAAPADsuuU3yNcV3vCsacjSASfMOQHov6MM1jt9QOxGH3pD3XtKQv8V3tjV0eEgPcYDgOWIBT7HbM6KvyPNhcwilGC/ks7Fas+mL2hWF3p/3/Tf1P/puhjFKt1SsxvjUKMvznxxngjvBneBC+F8qCbUW3UCnvqYVUJ1UA1f8/jb37ce1wf7i3uCW4Y93x7UBrtX1Zag2FMvsm6L7z/6QtUHJOpihqgOph0TDLKgfIAWVQF06OP6mKaVTGq4brdK14R+pfs/5jBP1ZjnY+kQIJJnCQ9kuS/RzJIM6j+kbLi63/6Z81W7z/+NvzT82/9hv/wvi/WWv6bE8lCriB3kdvIfaQRqQdCSDPSgHQht1bwn901urq7fmtzWLUnBJMT9F/6fq/siiejFKoVJhQW1/qi/eKjVw6eYURkAi0oIDBaSB+LDn5C5uE+chuFlBSUlABYiTVr19d3h9UYAnH0/E2jYrFEA+MiG/xNi8DujJpC7Mgc/Zsmjp1pbk0ALjv4xNBi12joygOH3RKM2EnjBgJABEhi81ECakAb6AFjYAFsgRNwB9sw6wOxfU4DcSAJ7AaZIAccAoXgGDgJykEluAAug3rQCG6DO+AB6AVPwAts97wDH8EUmAELEAQRIArECnFDgpAYJAMpQRrQZsgYsoIcIHfICwqAwqEYKAlKh3Kgw9Ax6DRUBV2CrkO3oftQH/QcegNNQN+gnzAC08NsMD8sDsvDGrA+bAk7wVvhAHgHnAhnwAfhYrgMPg/XwbfhB/ATeBj+CE8jAKFDOBBhRBbRQAwRW8QD8UdoSAqSjRQhZUgNcgNb50fIMDKJzKN4lBUVQmWxHWyGOqM+6A40Bd2PHkMr0Tq0HX2EvkGn0F84Co4PJ4PTwpnj3HABuDhcJq4IdwZ3DdeBnaV3uBk8Hs+Bl8CrY2fRHR+M34nfjz+Or8W34PvwI/hpAoHATZAh6BBsCVRCNCGTcJRwntBM6Ce8I8wR6YiCRCWiCdGDGE5MIxYRzxGbiP3EMeICiYkkRtIi2ZJ8SQmkXFIF6Qaph/SOtEBmJkuQdchO5GDybnIxuYbcQX5J/k5HR7eBTpPOni6ILpWumO4i3T26N3Tz9Cz00vSG9J70MfQH6c/St9A/p/9OoVDEKXoUD0o05SClitJGGaLMMbAyyDGYM/gy7GIoYahj6Gf4zEhiFGPUZ9zGmMhYxHiFsYdxkonEJM5kyERlSmEqYbrONMA0zczKrMhsyxzGvJ/5HPN95nEWAos4izGLL0sGSzlLG8sIK8IqwmrI6sOazlrB2sH6jg3PJsFmzhbMlsN2ga2bbYqdhV2F3YU9nr2E/Rb7MAfCIc5hzhHKkctxmeMpx09Ofk59Tj/OfZw1nP2cs1y8XHpcflzZXLVcT7h+cgtxG3OHcOdx13O/4kF5pHnseeJ4TvB08EzysvFq8/rwZvNe5h3kg/mk+Rz4dvKV83XxTfML8JvyR/If5W/jnxTgENATCBYoEGgSmBBkFdwsGCRYINgs+EGIXUhfKFSoWKhdaEqYT9hMOEb4tHC38MIGiQ3OG9I21G54JUIW0RDxFykQaRWZEhUUtRZNEq0WHRQjiWmIBYodEbsrNisuIe4qvle8XnxcgkvCXCJRolripSRFUldyh2SZ5GMpvJSGVIjUcaleaVhaVTpQukS6RwaWUZMJkjku07cRt1FzY/jGso0DsvSy+rKxstWyb+Q45Kzk0uTq5T7Li8p7yOfJ35X/paCqEKpQofBCkUXRQjFN8YbiNyVpJR+lEqXHyhRlE+Vdyg3KX1VkVPxUTqg8U2VVtVbdq9qquqSmrkZTq1GbUBdV91IvVR/QYNOw09ivcU8Tp2mguUuzUXNeS00rWuuy1hdtWe0Q7XPa45skNvltqtg0orNBh6pzWmd4s9Bmr82nNg/rCutSdct03+qJ6PnqndEb05fSD9Y/r//ZQMGAZnDNYNZQyzDZsMUIMTI1yjbqNmYxdjY+ZjxkssEkwKTaZMpU1XSnaYsZzszSLM9swJzf3Me8ynzKQt0i2aLdkt7S0fKY5VsraSua1Q1r2NrCOt/6pY2YTbhNvS2wNbfNt31lJ2G3w+6mPd7ezr7E/r2DokOSw11HVsftjuccZ5wMnHKdXjhLOsc4t7owuni6VLnMuhq5HnYddpN3S3Z74M7jHuTe4EHwcPE44zG9xXhL4ZZ3nqqemZ5Pt0psjd96fxvPttBtt7Yzbqduv+KF83L1Oue1SLWlllGnvc29S72nfAx9jvh89NXzLfCd8NPxO+w35q/jf9h/PEAnID9gIlA3sChwMsgw6FjQ12Cz4JPBsyG2IWdDlkNdQ2vDiGFeYdfDWcJDwtsjBCLiI/oiZSIzI4d3aO0o3DFFs6SdiYKitkY1RLNhL/VdMZIxe2LexG6OLYmdi3OJuxLPHB8e35UgnbAvYSzRJPGvnehOn52tScJJu5PeJOsnn06BUrxTWneJ7MrY9S7VNLVyN3l3yO6HaQpph9N+pLum38jgz0jNGNljuqc6kyGTljmwV3vvySw0Kyire5/yvqP7fmX7ZnfmKOQU5Szu99nfeUDxQPGB5YP+B7tz1XJPHMIfCj/0NE83r/Iw8+HEwyP51vl1BUIF2QU/CrcX3i9SKTp5hHwk5shwsVVxw1HRo4eOLh4LPPakxKCktpSvdF/p7HHf4/0n9E7UnOQ/mXPy56mgU89Om56uKxMvKyrHl8eWv69wqbj7l8ZfVWd4zuScWTobfna40qGyvUq9quoc37ncarg6pnrivOf53gtGFxpqZGtO13LU5lwEF2MufrjkdenpZcvLrVc0rtRcFbtaeo31WnYdVJdQN1UfWD/c4N7Qd93ieusN7RvXbsrdPNso3Fhyi/1WbhO5KaNpuTmxebolsmXydsDtkdbtrS/a3Noet9u3d3dYdty7Y3Kn7a7+3eZ7Ovca72vdv96p0Vn/QO1BXZdq17WHqg+vdat11/Wo9zT0avbe6NvU19Sv23/7kdGjO4/NHz94YvOk76nz02cDngPDz3yfjT8Pff51MHZw4UXqS9zL7FdMr4qG+IbKXku9rh1WG771xuhN11vHty9GfEY+jkaNLr7LeE95XzQmOFY1rjTeOGEy0fthy4d3HyM/LkxmfmL+VPpZ8vPVL3pfuqbcpt59pX1d/rb/O/f3sz9UfrRO200PzYTNLMxmz3HPVc5rzN/96fpzbCFukbBYvCS1dOOX5a+Xy2HLy5FUGnX1VQDBKuzvD8C3swBQ3AFgxfI28pa1XHC9INjLB4y1LpAc9BFuR9JRR5weXoLAQ+QiCZJ16GzoQyiHGK4zTjLLsvixlrONcEhzJnA18zDyuvJV8H8X3CSUIfxQhFnUQeyA+ANJIKUs7S9zZGOn7Ky8pIK9YqpStfITVVhNUX2rRrZmndabTRQdjc1euvv0Lum/NCQaqRn7mBwybTAbsoAsRa1MrYNtcm2v2j2zn3PkcFJ2tnUJcz3gVuP+wOPNlinP2a0L24EXmcrtLeuj7+vgt93fL4Aa6Bi0KVgoBAoZDm0OOxWeHhEYabdDgyYURYz6Ev00pim2Mi4/PiUhNNF9p3mSTrJ6itouzVT93ZZprul+GdF79mQW7K3IurKvJbsr5+n+1wfGDn7K/XZoOm/m8HT+dMHPIvQIe/HGo6bHfEp2lRYfrznRfPLBqcenB8uGyycqfpxBzrJXSlcZnPOsjjtfcOFyTV/t10vMl5WvOF6Nunaorqr+RsPt6203Wm7ebLx2q7apqrm85fjtwtbstqT24A7HO2p3ue7O3xu+39N550Fb1+2Hjd21PcW9UX2G/ZT+R49KHvs/UX2KezowUPks9rneIH7wLra/VF+Ovcob0h4aeX1gWHv445uTbx1GkJHaUefR+XcF7ze+bx5zGBsd3zMhPzH6ofJj+KTy5PSn2s8+X5i/XJuym3r/Nekb57c733N/hE9TZ/yxfTT6s2NJbnl5df1FoItwMKKEjKOXcKl4N4IOUZYkQZag20CvQNFisGf0YUphPsnSxDrBzsShwUnlyuK+yjPER8evLLBFMFXotHDzhhci02J04oISqpLmUl7SCTL5Gy/JdsmNK6CKwkqblD1UolVz1CrUr2s81Hyr9WMTXod3s6KutV6ofq7BRcNeo08mRFN+MyVzYwtnSx+rcOt4mxTbdLs99pkOWY7ZTvuds10yXBPcAt2dPIy26HqabPXYFre90OsitdW706fD95pfqf/OANdAhSD6oMng3pAboVVhJeG5EWmRtB2eNL0owaiF6CcxF2Iz47zjjRMUEkV38idxJ7OnMO3C75pJfbu7M+1SemFG3J6tmRZ7jbKs9lGzd+f8tf/OgaGDn3OnD83mTR/+nj9V8KlwsujzkbmjTMc0S8JLzxzvPjFycuLUu9Ovy56X91Xc+6vpTOPZzspP54Srt54vvfC8lu2izaUs7PaavyZX51tf0tB/A3dTpXH7rT1NZ5obW5pun2s91JbcHteReif37vF75fdPdB58ENPl+FC2G+0e7Lncm9MX3G//yPix8RP7p94DMc8ynu8dTH7h/9LwFc+ryaHrr/cOu72RfUt8+36kbfT4ux3v9cboxx6Pl0/s+hD00Xcy8FPY58gvkVORX2nfYr8n/IibDpoxnWWcvTJnPPdg3mP+08/eRfqlwdX1lwHtkCX0DPZD8EguKoP24BLx8vgJwl/EQJI8aZ7cSXeSPo7iwKDEyMA4w/ScuYWlijWfLZk9gMOBU4dLipude5FnnLefr4m/RqBcsESoSLhgQ65IpmisGFXcWEJIYk6yS+qkdJSM2UZhWVh2Qm5A/p7CDcVzSsXKqSpeqppqeLUe9UINN01uzedax7V9Nynp4HWGNtfp5uoF6hsZiBsyGQGj78ZjJk9Nb5oVmftZiFkMWxZb2VoTrNts0m3N7bjsPtg3OeQ7BjppO1Och1wuuCa5Wbizu7/2qNwSgcX/+a23tqVuN/QievVRS71DfDb50vsO+p313xGgEbAY2ByUGqwXAkJaQneHGYaj4R0ReyL1I+d2VNPcsZhdFW0b/SOmOHZT7FBcajx//K0Er0SOxMGd1UnpyW4pkikzu9pS83cHpBmlS2dw7aHLBJk/9o5kPdxXm70/h7pf5QDhwODBi7nZh0LyTA+zHL6TvyV/siCxUL/I4EjWUeKx7JLR49wnlE5qntI8rVomXy5ZIfwX9xnms+RKUhUjtpN0zntd2FtzofbRxcXLklc8rh6+1lfP1uB+vfTGQCPullSTabN3y67bJ1qb2l63L98Rvmt4L+D+/s5LD552LXVL9WzpPdI39Ejp8YEnnwccn10fFH5R+Er+NcObuNGc8YRPNt9m5u1X1n/tP8GVglcDIB/LM10OYHUCgLx6LM+8CQAnGQA7CgBOmgDeWwNg0xoAhez5Ez8gLPEkYjknBxAEUkAFyzStgAeWNceDfVhGeR40gX7wHixCLJAUpIflh1HQASwf7IBGYAgWhg1gX3gvluX1wz8REcQaSUQqkQGUiGqhYWg5+hzHgrPEMrI2PITXw6fiWwk4ggXhEOEZUZgYSrxOIpBcSZWkn2Rr8mnyLJ0NXSU9Su9N30YRo+yjfGZwYmjEMp08JsC0g2mU2Z25h8WE5RarBmsdmxZbG7sD+whHDCees4hLnKuB24Z7nCeLV5F3hO8kv7eAjMCc4B2hQmHfDSoieJEXolfEcsVDJSwlZaQoUlPST2RubjwhmyLnKa+pwKYwpfhQ6ZzyPpVAVQs1OXV29WWNT5pDWv3anZs6dNo339Xt1hvUHzeYMQLGeOyeI5oRzUkW9JZsVsLWKjY2tuF2BfaNDu+cKM4qLu6uyW6n3Ns9xjzptipsc9me5FVB7fae8xX1c/TfE9AY+DPYMORo6Hy4T0T/DhNaY7RKTG2cbPylxE07e5MjdvGlPk0ryLDaM7O3YN/G7I79fgfZc1/nPcx/VbhcLHRMs9TqxPZTCWWnKgbPyladOq9QM3zp9NVt9XTXaxq3Nsu0CnaY3Cvrou+R7Jt5nDcg+bzv5YnXR972v/eamP/E8uX8N/BDYUZzdnk++2fDwuPFm0vlvyKX1VfvD2j1PwcWwAvEgRLQBdbAE4SBFJAHKsB10APegSWIA5KHLCB/KB0qg25Db2EUloCtYBp8DG6DvyB8iCWShNQioygP6oDmoB04CKeD24m7iVvE6+LT8fcJTAR3wl+Eb0R9Yj7xPUmblE+aJJtga75I50Z3FcuEafSPKZqUUwx0DPEMY4zujN1MJkwtzJuZm1kMWTpZHVlfYZnpT/ZcDmmOB5w7uDi46rjtud/zJPBSeCv49PhG+fMELAQZBF8JXRE+uCFIxECUS/Sj2C3xQxL+kgZSYtIsMsSNOFmiHIM8iwKzIlFxXmlceUClU/W22m31To0Xmt+0GTYp6NhvDtKN1qPpBxq4GZoaaRqrmGiYmpptN0+xOG1512rKhtfW2C4Ei2kFjkecCp0LXE65Nrt99VDdkur5cJvA9mivHm8RH3/fQr9r/t0Bo4ELwRwhyqFOYbHhxyJaIj/QOKNMomNjzsYOxjMlWCfm7nyWLJ6SvGtkd0A6U0ZnZnQWft/eHHR/1kHe3La8tHy3QsMj2ke1S7SPa56UOo2W3amIPcN79laVdzX7+Vc1HRd7Lk9fU6xPuv6gkbHJqIXWeqZ94q7B/ctdit2lva/6fzz++nTs2cjg+Msfr6E35BG2d6JjZhNFk+pfsr+fmQ2d717IWGxb+vFrfnX9Yez0MwMBIAs2A3vgD5JBEbgIusAHiATJQNYQDSqGWqAPMAdsBEfDZ+BBhBkxRzKQFmQJ1UYT0RvoIk4fl40bwEvhd+NfETYTyohEYgTxMUmTdJwMk4PJT+iM6G7Sa9LfpthR3jOkMQoztjB5Ms0wH2KRZXnIGs5GYatkN2B/yZHAKcDZzXWQ25vHgFeaj41vgf+VQIPgYaEwYasNCiJconjRebGv4l8kvksuSTPIiG7Uk/WSS5U/rtCg+EjpuwqPqrlamnqbJr2Wp/ZFHQL2rtqkv8Eg34jDuMbUw5zZos/qmE2EnbODkuOgs4dLl5uZ+6Mt/p5z29K9IGqk9xNfdb/SAFLg7mBySHmYdQSIrKdFRAvEtMXFJPju/JxSkZqw+2naYga8h5jJtFc5K2rf4xzn/RMHsw7J5T3PzyrULvpaXHVsWyn5+NmT6qdulemWt/xldKaz0q7qcbXT+d4ak9rrlyQvH7lKvJZct9iw74b4zd5bac1qLROtpe22d9C7N+9HPZDpGu0+0evWz/ao/0nugMWz5cHzL21fjb+OGV56mzaKvEsbg8fTP6Afd01+/mzyJWHq+NcD32K+G32f/XFu2mb6xUzgzMxs7OzEnOdcz7zhfPVPys/In/0LqgvFC18XzRfLFheWnJYu/EJ+uf06vwwtOy+fW1n/KH9lpdXwAdEbAIAbWl7+Lg4A4TAAS3nLywtly8tL5Viy8RKAltC170yrsYYJgNLXK6hT+tHiv7/xrH2D+kce8+8WrEaiVa1YJFopK1EJ/A9clfBJMMiI/AAAADhlWElmTU0AKgAAAAgAAYdpAAQAAAABAAAAGgAAAAAAAqACAAQAAAABAAADQqADAAQAAAABAAABxgAAAACu2bu4AABAAElEQVR4AeydB7gURdaGi2RWgnlBghkDyawrgjn9EsyJYM6AeRUFdHXNAroqrgqoqIiSDKurIrhml2hOoBhQUREQUBH53+FA0Xb39J079869E75+eIbq6lPprb5T35yq6q6xdOlSp0MEREAEREAEREAERKDQCNQstAqrviIgAiIgAiIgAiIgAikCknG6D0RABERABERABESgIAlIxhVkt6nSIiACIiACIiACIiAZp3tABERABERABERABAqSgGRcQXabKi0CIiACIiACIiACknG6B0RABERABERABESgIAlIxhVkt6nSIiACIiACIiACIiAZp3tABERABERABERABAqSgGRcQXabKi0CIiACIiACIiACknG6B0RABERABERABESgIAlIxhVkt6nSIiACIiACIiACIiAZp3tABERABERABERABAqSQM5l3NKlSz/++OMpU6b88ssvlUjotddeu+GGGy666KKPPvqI/A877LB//etfyflTgS5dupxzzjl//PFHsmWVXf3f//53zTXXTJgwoVwlLlmy5PcVB+Fypa1i46effvqAAw545ZVXclcuN0DPnj2vvPLKOXPmPP/88x07dsz6TnvkkUfojoULF1LbFYBT/+c55IqwvfHGG2kyDZw9ezaBUaNGVSQ3pRUBERABEahiArVzV978+fMZGF544YUffvjBSmnbti3aa4MNNqhgoeie7t27k8maa67ZqVOnL7/88p133mG4PfXUUxNy/uqrr15++WUMrr766vr16ydYJl+iuPfff79p06ZbbLFFsmWZVz/88MN777137bXX3muvvco09gb777//jBkz/Ol22223yy67tGvXbo899vCRCQFkCrqqbt26O++8c4JZpVz6z3/+g8imvzKsWxaFXnHFFdOnT69Tpw4ajuTcXauttloW+bz77ruXXXYZvwfWWGON7777btdddw1m0qxZs5122unCCy9cb731gvGFHr7//vsXLFhw8cUXr7/++mDkbmzZsuWmm25a6O1S/UVABESgRAjkSsbx+75Hjx7jx4+H43777cfgip576aWXDjnkkBEjRqCBKsL3v//9L8nxq+GGqVmz5qJFi/hk+EnOc7PNNhs0aBBjfEU0HEU899xzCMHzzjuP0pNLzOnV1q1bo2K///57JCwHA/DNN9+MqC2zUEbr008/fYcddqAjyjSuoMGll1662267oTsrmE+65IsXL6b3+/Tpg0y85ZZbcMideeaZ6YyT4/v27YsBZPjEhWzGuBIJAHnixIlI59dff/3xxx9fd9117WqRfZ599tkvvvgiP724l4qsaWqOCIiACBQrgVxNqiIp0HAMeMx+Ip7QPcg49ByeudAggXPo7bffxnUXi/jbb7/94IMP/KwWAcbUL774AuNtt92WYZsZ0tq1a+OL2mijjYI5kO20adMw8JGMzUgfUvkYAvjw0EBBMyJ/+ukn8yBSHE4adI+vAJY///wzNnxSEzSEzw2vBg0pc0bPZplpgtcKPgcLhJocuupPmQ7DlcKs5eTJk3v16kX8BRdcYLrZ20RbR7WtsQgg6j9v3jxvTH0+/fRTY+sjwYgZ+cCZ6Us8kZgRM3fuXGxIPnXqVJ+JneLK8snXWWedffbZx9xjPiuufv7553g0g/QsCTnQazNnzoyd+P7ss8+og+8LkuCEGzt27L777gu0E0444dZbbw31LzZ0JV1Me62I2E9KRKjhcmvevLk34O69c9mB3uU25hQzhI43SBeAMKsIqFLU4JtvvsE9CU+7k+22554BKfePtydMTPBeIswfAu7bYEM8Ut87wRzS3Y1A5q4mrTe2QKtWrfgjooFMsIYu6VQEREAERCBPCTAq5+JglpBBEfdbMHNEADOAuGcYk4hnvD/uuOMws6NDhw44PLz9m2++iRfHLpGKEZpLDP/LrVf8x3jJFCFnuMcsLSPlUUcdteJ6s//7v/8jFZcQDUSSlZkxlDKJFjRDxNglkhA/fPhwjM3goIMOorZc3XvvvX0SAggpIhmwgw0544wzGCMtq9Ana4923HFHy4FK9u/fn/CAAQPMLLbJoRw4tTr42poBziSy8hDStQ7HlZVun/iuLDkN8RWjg5555hmLv/7667EEvl1lMSIigBhO77jjDp8Vk6fg8qf4dVAb5GANfOihhwhbVv/85z89Q/CyOtAKQrXAzefAJWbA7RKfQ4YM8dXDBnGFcCGeUnDC+VQE7rrrLp/qrbfe8rcQl6hVun6h+RjgiLK03EKcUqLPigDrAYj829/+FowMhUl47LHHYmYHpSO8zAbZyl1k8RAeOXIk4SOOOIKrFr7uuut8bvzs4SoKlRjaCH9LaJ++jdHewT7hbqTvunbt6rNCntod/ttvv1nR9hdBvK+JD/A3O3DgwIcfftjHKCACIiACIlDtBHLijcNVg98C3cpwFVSvDRs2xEPw6quvrrrqqvghGFFwctiSI9xpuGEQQ+bL+eSTT0466ST8Ft26dWPhDo4QhhDceAQ4ZRwiW2QQ4Q033DBYBAMV+xgYv8kW79Rf//pXPDGHH3540Idh9ugexiSGMSb+GE0xw53jl/FhQzzj7vHHH8/cJY4Q/F5EnnLKKe3btyfA2ilKx4GBMiCShuBrvPzyy4l/9tlnmW+N+pMmTZp0/vnnUwQOqpNPPhm/FwLOKsNnuiZ7g+QATcCAhptZutYhLOCDDX4X6o90JvzEE08g7wgwD46wQ4vwSW0tKz6BDwRQ7L777hZJK+67776zzjqLjiOGuUhwYWCTkrB66qmnzDL0edNNN1E0io1PfE533323GVx77bVwo9dQEvQXl0488URzfD722GP9+vVDRnBLwI17AEWFNCQhsvi2224jK/QlvUAlUTa2o4IuYwEltxCbHvBWbr311tQKmRt05vm6IaAJb7/99j4mGqCDiGRqPnrJx/Tu3ZuJV+oPMWhQ+rnnnssfOf45Kk+VqAZt33jjjbk5farkAG0kN9rIyrxQGy1hsHcS7kZuSG4/flkBkMoceOCB3ABBFyC5tWjRgk+0dbRKUEVN0jvcHtGrihEBERABEageArkQkm+88QZKCw2UkDmeBmwQH/iNMGOMMWcMWo1ThkOumq+LU3YncIrksgxZFccpctBOg9640aNHB7PFgJGPGFw7QW/crFmziERlojgtE/N/mN/IvHGMjnaJtfOWp50iXzg17yAx1hA8PeYfwrFhyZn+M3v/ySBKQgqyGASreZjMG5fcZJ8JgVhv3K+//krmHLi1kluHksbM/ECWrblOEbJ2iisOA3Psmb+nc+fO3o9l3jgMyAd7VJHVx/sUcZVx1ZoZ9cah1K3Hf/zxR8w4EPTkg0cKJ5Avxbyb5pCjmzBjvtiqZ7OfVn8MSMVvBruEpMMS/xynxpP62yUmyi0ffi1YTPDT3Lf+knnjuN/w9XIgfdhIkaprs2bRbvX5cAOYDU2zSIQj7aJRVJJL3Bjmh4YAEpMYwGKZ7I2zNtosPMa33347Ca2N0d5JuBtx35KQRplzmqy4w4nh8N44fo1wisiz+gc/mWmFOfqeHg/GKywCIiACIlCNBHKyxaFGjRplalKGTGzwW9SqVYsASRgk8Mew1opTJBqfyJEHH3yQgB14DpiWbdSo0YqImP/RFsQeeeSRli1h/yASRlCf4L333iPMaM2wZ5G295PSmRSzGPO6EcZFxCfqweJDnywzIgYlMWzYMLuEHiJAfGgrK4KA+GOOOcbM2BvIuM50oZ1m3WRLzj1kAXZ7ZNI6M+YTfWOuU9bYcRCD7OBz3Lhx3ob9m6uvvro/JYDfC0FAgOK23HJL6BklYsxfZZkEk1iYdWzWNWw0IQdYoSpY0MbmDPoXRKhbnHDoCewR2Ugiuoni/GbeNm3asFrRcmNnA5II1HQcchC3oqXi0/oLnWSW7Mw99NBD77nnHkqMet1sHRs2Zmyf1Ce4ZYQ6oEqtT/mBEXI3cpuxEBBfLN44UlEuQGgsq/fIDT8cn9xa+KEJQADXb2ghoxUa/fRtBA5ttDvW1iaacbB3Eu5G60E8wY0bN7aE1IdfI8ES69Wrx2ns2ji26CJGg8YKi4AIiIAIVDuBnMg4xnUaxtDFVKYNY9F2slydSKaK/CULm5yyT9YA+asWwCeRLOPQBFiGZlpDmXCKe88ied5Y8KqVazE8B8QCa621VtAmFMbJQQzigCN4ybRRMMYyZ0LNRzLL7MNZN9lysCk/RmjkUSat8+WC1MIhFIgYnDR2CQXj7S0QfagHG03sEsIuZBw89VSJNNFgVxHBeLyClha2tqSbykR3nnbaacGpcJ+DKafgDWa0o/1CEmtp9F696qqruIo7FofcnnvuiQay/MnEz19bjMlodB5JcMIRIB5uzFbz+8Ruy2DXB8OWQ7pPpjjxgcW20ZIEeyfhbjSz4C0XfXiKdSKe3XSVUbwIiIAIiEBeEciJjMOrgZ5gqGO609ZOWZtZIcT6HoZ5JobwarB31QsODPC08bnVVlvxaX4axs7QaJcsEUho2XppQgzjK7NdoYSbbLIJl5hKY1U7gYocViKTXLjWgvlEXZKsi0Jb0ExrI8Y2uluqrJtsyc1TgqeK03K1rkmTJiRB7thjXCw3+/QezWBkLsK4f0zDsQGCieYGDRqgKVm5SFnM8fFp+zk8UlvfRvW4ndA3LH1jkR/anelg27RLEpZ54fHlBvO07a6IVYQ8EAefHy6u4P3GGjJ8ZmSFI5CDzMnQVo9dcsklocVt5usiH+5tfGZY4hp89NFHWX/GgkIK5W4P3pZBNWntwu9IWXbYokALUxZtZEYerxttZDcJSxhXGIb/T7gbbY9t8JaL7qVlxpwco/IuXIzORUAEREAE8oNAkuOkIjVkAovkrO9mYtTyweHxj3/8g7EErwBTSzYc4oOxp04wMA8dOhRLizc5wpohhmoO4llxxep4XESWW7pPS/7AAw/YpB7ZotUY22zK0qey50owsrKSzIpgVo787RGy3iw2YD4bPwzb3CJVxdiyYvwmK7YohpLbXJ5f1E8OwYfmZ91khn/WpTHNR3E4fvhMbp15XPCGmgOJqUCkEiIG95LVnwypP/OPofrn7tR8SMhc1lMy14yIMc1BibhCqR797lkhN+lQ5qZxGpkLk80Q/GygXSgtX0keLkPYsBBAsrCXloD1lzezAIUSiJ1MJB5ZzHIxAl70cw+g24IHVxFbdATceIAwM6HsPKVFxFO0BZhAR+ERw9+Cvw04Ne3ILLbJU2y4M4nn8G1EUFobcfXZpdjPhLsRaCQhufkpCfv1Bj4r22AU68zmtxA1tGl3b6+ACIiACIhA9RLIiTeOJuEUQccwGjGe8fKGv/zlLwgphAsajq0MGOCls4VECD7cFaxkYnRhtLO9k4yarD1iZoq1bkzRMnIzZcm20+T5TbJlQZtli2+MWTC2W5IQHUBkcLMqAxXVYNKWZUwHH3wwUtJ8PzbSJ3eJ7dZkLwXags22LPBnFRTr0MmKGqJIeD4wzWSyL5QPmy3wmSFHePYED8rn3QZBVVreJrPPgwlKZKifCMYPZHVLbh3DOX4mNAeajzqjD9gNwA5QdhUQgyeMJ9xylb2fofrn7tTEBzcAs4d0FlIDWemLs+rheGPpJMrJJA77bfkxgFZDWLCdGfLIUA6fCp5PPvkk3QofHjdNp0CbBnrnnLckABOyZWEZ90ww3ofZgcvWFvJHytDjPj4YYI6Y+4eac6tTH5rDAWp+WlAo9zanpKWP+M3gfwaQg4k8mFM6fxesmSNsOQfbyJ8SO2rTrdE0+4S7kdl2ftLgIGTlKNXj95WtTw02wRYGbL755sFIC7NakRuYMBBoVNRAMSIgAiIgAlVPIFfeOPw6eCYYa5mtY26Ut1UybrFV8N///rcNWiyu4rHAyAgcAPjkmG/iCQiDBw/GOQQFHA/4UdB/DK744RhdWI6NTDFANkPq50ltTso+GfZMnJEtOZAQYcfgSn38lJxlgkxhM+Yqq6zC8Mxgj3pgk6yt0/c5x/YHCszGM5QBEoGG4FnhqRaEKZpIxki0WvRdEWgFGsigznCOUmHA5iEdFEHd+ExucrQmZMKASqG8jwH1A2H0qDdLaB3FIYwYiRFArMcnCYjYtEjFeLQHbWEvCE9HM7XtM/SBEEYfnwAt3SUfjzrHF0uVEGow5C1hPK3D50z16HqqB1sW+AOcB47YFDZCn3jkCA+xw11EtX0qXGg4ZbmFaCNw8J8h7PAHx9bflJlXgVEb3HU2lekdcr4gHwAsNxI3OTrs73//OzC5E8yjjH+OdtEQ9BnOWu5SZuFJaARYhGDNRwJSVTrUJnOtGuxCsDba0/LoO19iNJB8N/LcFtthA2emm7nhbcGc7wj2mJMnM8jRnFlUhzF3aZk/paJpFSMCIiACIpAjAjX8DsccFUC2LMdhmozlQYwx0VKoAJKL5TimZkIGTD+xoi7d1ZBx8NSyRRn4pffBq8Ew+TOMhXYpBg1iw4gG3HuMx/4qMczKIUPxGPnI2ABrsFAVDO2xV7NucmxuCa2jIOD4IZzk+KuYjIZ2VMfEZl7pkagcsMQCZNkWT+lDRvBLIGTA3cV0ZLoepJuAwKq1hNqSnMxpPr6uqP5OSBh7iRJpCBij9x5+Xw5cnnhtedBg6JVopOJ3RXAXiM+fNrInN7gpxF+KDSTcjTSWefNoLyMi8RTyu4slrbE3ADO8tCj27zS2DooUAREQARHINYFceeOC9WYRPU+UiNVwmDFgMAmYbmxgVEu4GiwlFLZso+NoyIxThu10CiBq7GNQP0ENRzwxVDWkMLx9MEBx6TQcZlk3OViEDye0joKCGo4kuFtwO8UO4T7DnAaQ3ekAoi8RPfh0cXyGfnvgH0roQRRzsoajRdx+5uXyK/Aq0kxKRAzF3nu0Dg2XLnOaH6vhsKeNmWs47BPuRhob28vMt5IQj2a6G4AbPt3faboWKV4EREAERCCnBKpCxuW0Acq8RAiw8J9XCCCPeDUCrqlKbzXL5pCJTFwGH8lW6aX4DE0PIfh8TPUG8M+x44FZYNucVL2VUekiIAIiIAIZEqiKSdUMqyIzEUggwGo/9l7gL+QNYKwFTLDUJREQAREQAREoEQKScSXS0cXQTNac5Y/7qhiAqg0iIAIiIAIFTkAyrsA7UNUXAREQAREQAREoVQJaG1eqPa92i4AIiIAIiIAIFDgBybgC70BVXwREQAREQAREoFQJSMaVas+r3SIgAiIgAiIgAgVOQDKuwDtQ1RcBERABERABEShVApJxpdrzarcIiIAIiIAIiECBE5CMK/AOVPVFQAREQAREQARKlYBkXKn2vNotAiIgAiIgAiJQ4AQk4wq8A1V9ERABERABERCBUiUgGVeqPa92i4AIiIAIiIAIFDgBybgC70BVXwREQAREQAREoFQJSMaVas+r3SIgAiIgAiIgAgVOQDKuwDtQ1RcBERABERABEShVApJxpdrzarcIiIAIVAaBUaNG9evXb/To0T/99BP5EYjmmolNNJViREAEyiQgGVcmIhmIgAiIgAjEEJgyZUrr1q3RbS1atJg8eXK7du3Qcyi2oKnZjBkzxmw6duzYvXv38ePHB20UFgERyJpAjaVLl2adWAlFQAREQARKk8CcOXPatGlz3nnn9erVywggztq3b3/fffch1CwGm0033fSWW27xMVGb0qSnVotAZRGQjEsi+dlnnw0ePLhGjRpJRmVd69ChAz9Yy7LS9fwiwGDDQZ34nZP1DdCzZ8969erlV8MKpDaef0Xq27Vr12bNmlUkB6VNINCnT5+hQ4fOmDEj+AdCePr06R47XYA3burUqcF8QjbBSwqLgAiUl0Dt8iYoKfu6desOGDBg7ty5tHqvvfa68sorffPtmys0xiP7OFggMmHCBP/NRfjFF1/0CQs6QOtoV5MmTVq1alXQDSmz8vQs00Nmhr8BLR6bxA9gjFX0O3zQHzNnzjRj7h/vqIhNXriRtJe/CxqYozuBnD1/pECXLl08q9g/vVj+wU70yRWoLAJ8s9WvX9//CVi2fDl4DQd/+gWbUIlBm9AlnYqACJSbAH9pOhIIjBs3zjMdOXJkgmXo0o8//sivVUYjkvPzNHS1EE8Ro7SIz5YtW7LApRCbUK46e9WOR43ezDDtH3/8QXejPOj3pk2bcpphwgIyw0V96623sgSKO4FbIkc1ZybO/vTgn/lfkPE32UfCouSfI+DlzZZftnRQ37596R3PmVnUYD7cId7Gx4dsfLwCIiACWRBIzRnpSCaQ3XBuefKFxRcZg0pyEQVxlW9tG7OZRuGrGYFbENWuSCVtoKKxrN0ubz6TJk1CxJdL+pe3iOqy55ZGyVG6LWbnfshRTQ477DDgc+DzK28Rxp91WpknpFE9evRAgtPA3DUq8/rkuSVsrXf45BcLXw5Rfea1uLfJ80apeiJQcASqVMb5X2wJmDKxSUieo0sVGc5NyUXdOTZm5KjCFcwWX4uN08F8+Jom3mL4UvbhoE26cCbdmolNuvxzFI+bwfyptBc1X95S2LvXtm3baCqEAk7NaHw1xqSDT6fTilDF0DoIOCJpBWRy1xb+ajx/prZD1SjzlJrzl1ummRmg2xCLJkToIKbRM0xYymZ8S7D/lHvAjlhofFEEbbLox1ImrLaLQJkEqkLG4ZDg+5HvU45u3brxdRn9aw/asDA81qbMxuTOoOLD+cSJE4PVYxSERjAmr8IM6uiPdJ4khm0G10zcFdgwIrIUhtzwcOAg4TTkxsvEphrhAGHFIJWNAxKPRUghoYGyUIS5I4DW4e+R3jFXa6gghBQ3Kh0XirdTRnE6N/ZSZUVmvarBKkD3RX9BxdaN+5C72jQrKOj0WDNFRglAGK1mgjt0t3vjTGy8sQIiIAKZE8j5VxXDGCOEX9rC9z7fj6FJRhzvZdpk3qQcWQaH83SjWoZF84u/XMt9Msy2vGZU45vI4TP54Ycf+F6ODoGkYlynH71lugAjIs30s1pkxZBP7we/6M3G68VYm3T5V1k8/gNTcswcmbcm66JRwLnWPeWtG71JH9HX6X5XvPDCC7F1RvcQb7qnvIWWyz64qqGC/DMslx8b6WhkmEPUDFxVwCpabi5iaEvUBWvrEX0HJdjkokrKUwRKlkBuZRxyh/Ev9OWFYvNDO9zt1zZ/88E+YHgI2gQvVWM4OJxH9U3mFWNYYpzI3D5Hlr17994zcgQ1Ft/LUb8RzqRQh6arHgMhxsGr5BYaHbkZyrQJ5lAtYUYm6mlKLupILleVaH5e3dj2F8rfIF2Trlu5JXCmhqoNE+7h0J9tuVCUy9jPymWxSLFcBWEMB0Rt5TYNZxUePm71qhG+5W1yee25GaK+W74uaJ3PKtaGxY78KWEDXvZ0owWZl/A3HmE2THiBSDynQ4YM8TE+cwVEQAQ8gdzKONM9vjALMJJ55xwx/PHjs0m2CV2trlOkmx9Osh7OGRQZJLz/qbrakkm5jO6hrmEcsu9c+/5NyMT0Qej7l8EsqAtNwYdsGB6CNglFVOUlmkOvmZLDeZxd0cbEuyuyy6RyU4GaRpWZJ0NycJOBaThrCJf8MFxmPlkbVHBVQ+bl5kKeIlmgZ7oQ7Zv1V0fmrci1JV/aoR+ifDcGXe9UIJ2NOfKhwUCA7OPUxB/fLXw/wB+dZ9rOfuARjkrGXDdQ+YtAAREo+xu8Io3hDzXqjQvNx8Xa8KdbkXJzl5YRq4LDuWmXoNPLassYb+Ni7iofypmhMblEKkn3UWFLyJcps4q4QziID8mvUObWTJZCBuNJYoOZRdo8NUshE2yCl6o3jF6h1RwMV3RWFpVBM3G3RxMmk4zaV1YM/Ut9GDWjd2OoCFZ20nDvgWYIR5f4OyFknKPTSlzV4GvIn3OwK/lzoGn2R5G1WPeZ+4BJFrvz+SOCpL9UoAGEF1+D/fv3t/pDjPshJOzMBl+a2dD8kA0oTNGSnKt2g3ErMkAQzxCAPa/54lJ1/YEUaO+o2qVGILdfKH63Od/4/NHG/moP2QS/VfOzM3yFsxvOGctx6YUGTtyW/PTkm9G+62k4g1bIE1a5NO69914r0X9FEuCb1MYwK8uGee8bo2sQZ/5Irg8akdw4UH6IOb6Oo/Zk6G0Qc7E20VTVGBN8/kUQVIZVQjPR0UFjMmHEMlXk4zkl0p/mKEDv2y8ohlsCySVyJ9BT3oXs7wEL5KiG0WyDqxqy4B/MkLagX4GA04iA5QYHYvim4o5NBhLMiq81/kZIFTxwLMV+lVVN5/qvkWA9KyvMnzatgBjd0bhxY8QWX2j8yAnm723Am87GcFkq+/Lx95Whoy+4ObnxQr/8gwUpLAIikFsZB1++GW2ots/QMIYBXwchm9A3QsU7ybwglBJ7sO6Ho1z+Pz+cMwB4F0WG9YQA1Qga016+p0z3+GpYVYNmlRjm65LvUBubCVjOVAwdGSqFatDYUGSGp959ZV3P170NlsHkmdgE7csbju1xH2ldn/mYR/1tXKFF0Ts5uW7QZrTztM2Y4ZDS7YeBxVineOmcnGcFr9IcGpJJWdSKWz0Ty1CVEEOedjRg/GN/3YXysVMqTDXsdspcZkWzslvdl0vF0A10BA30R+bfQiREFNqNgXrjj4u/YiQIf038fA3e85RI/YMx0bpVJIZuonQ0KC0iXJGsMkybSSnpbIIyDoZ0qxe+nPKVaB3EJ83JsD4yE4ESJJBzGQdTBAoDFX+K9v3Ln2gUdDqbWONgcr4Ty7TBnq+S4BEbE8w2OYx088M539fJxqGrcGD0CkZaDjfffDN8rC1UlTAjipnxfcfwEEwSDAfbFRsOGluY3CiIsYdSvIuFASaq2PgxXZHvUHqH/G3UpCxug2hlzIaCGPbS2URTZRgTCyQUmWFWZsZIQyXt8OgyyYFCSeX71JJY16NIuJ0shmEYMz7tlEveXWoxwc9QQ6KnQeNoOFSWGXCzMYKGjMmZmzZU+ZBNutNorUIx6RLGxsPf7hMoZa60gllZq2kj1SAeyVWRO9xyJit6kMPytEj7ieKFO39xFJQ7DWdyhx8GVIOCgjUJNj9PwtBAbnKYVqNWfCkZH2JM4XGVeO5/GpUn1VY1RCAPCeRQxvm/T99shnO+fIPDUtSG4TxoU+YfMLn5L0pfUBUEbDCgqgwq5fpq5quKI1pDVJR3MJjA8mM5I00UlM+B3Myrke4zXfVMOVk+2NAWpKTP1gKM3LG1DZmFTvmODsXw0Ary9w3katTm8ccfx6ZaejNU2+RTmFBPjvKSIUlUCfGTgHhP3v5G/BjM2Jau+7gl0vW4xZf5t2MNCbmTudmiXQMQGhutfDKoHF31qxrKy9/qY98wwCFADrE/Lcpbc3Olk2Ewock4u+fpREq0rizvD79gnpmEaRSHv4UySVL1NtxjfL9xBIcD+zLnDqQ+hLnD+TZI+BOo+mqrRBHIQwK1U8NRDg7+SlntxJbyYN4sk+LUPglgw35yVkSlsyE57xoPXo2GWULrM4xetRi+DnhtebqrFt+6dWvWoiXbBK+2b9+er+MBAwbwdVOuhPxW/vzzz4NZEQYFr5zni97ieZ80AYqwU15gaoHYzxDkWJvYyDFjxvicaQU2vkRvT618OPMAP6Pp1iAWyxmp6jPBJlTzTp06cZU/Em9T8YC1KzmfaKuT7XllO+i4oxhvki2DV2mXdyMF4+3+33vvvS2S140zBvvXjfNHFDQOhpmkxjgYU94wtxnrloLdRA7+lgjmZt9cwZgMw7n40+vVqxf8qTwetQyrETTjK4WO4HsjGFnBsN3JtvXHZ2W9g4zjVuEeg7Pd4bG3gU9VIgG+tKPf237TDBAMJjd5iQBRM0UgawK5knGhEdrqhyZgiPJ/vdhEx2wkjtlwlZGehPwg40uQv2q+DRnVSM4XMadc5YcaoyB/6th0797d5xzCwTd+mXKQgdO+OEJp053yw3ro0KH84Eb/pbOJjaeSURln1fPfWTaWk5yaM96AgkBsbllHUv+5c+eC2nKgREYXXwGLpHcwa9asWblKIRW5hXqWcZdM6COfs9l4vUJ80IaacLcwTiP02RCHtjBBAygu2dOkCDM0chURHMwnWFvQBU9jwzQw3Z0Ta480pGg+69evH2sQG0kNgyrW24S6nlabk8z63RrojSs3wH0ITI8u+WaL3rSZVCb0Iy02CfxDUjLWzEciDY1/ee9My4H2hu5z+41ndaDC3FGZ3Da+PgTMPvgFwq3L9wO+Ve55autX02IcKj2Yj8IiIAIiUG4CDLe5OJhf4GuRL1yfOROFCIVgjNkwBnsbptWCNogzdIa/Stj87cQwIjKOEiASMwJVeTAPRQWym45B+SEaQlMeTC7Qc3zSChARtgksHH4IKU4rvXVgJ1tb3UURVCm6MI5K0szyTqVZW1DYvs7gYuhiSPMxsTbUIVgW1aO7GQ4BQm5+QpY7hMrT73YvYeCzrYIAa7O4sf1a7HKVyA3PEUrC3ev7l2YSttuAeJpPM0P2lXVK51JWEDglAha80SKWLFniKxa9WpUxxr9cqxJD1bM/QB/JfKi/l4jkbwEI/mqGAVzsBhOGHPzVcLtaP2aYg5nZjU19Eg5+0iTnaWmTbXRVBESgaAjkyhuHr4UxCYcZziqGZ/v1jPAK/hLF8YAN30pmw1cYP2pDNnw52sHXK3n6H/cMpVgGf/6uMKyK/5kc4ZuayZ0sCqPOJ510Eg6AoC8HdyNfvlddddXYsWNpF9la03A7MZYzJGRRUHISOoXxhvnBadOmUQQdZKuygqmopPVRMLLMMJ3I7DCtwLtGK/hTwS2BfKEsn9bb0KfcEnQuPUuqoA3GQDaPi7niqDCR5EnF7LYhLQGfba4D1JPZT+R7eV2wVjFqPnDgwFAl+RvB8WZ+ymDX02SO3LUO8tSEKvn6UBM0cWyJ5m0K/vH6VFUZgD9/O/C32cnsigY1zbG/OG5v7k/48+fgcwuGfWRCgC8uXJX8kRpMnNz487hDKCIhVewlirZ7IPZq5pE2Pnk/azQhBtFIH5Mu4eLFi3///XdvVi2B2rVr16lTp1qKVqEikKcE7A++0j9RBuSJG4afpHztxv56Nm+K2aDnojYM24gb8uGrDTMIWhJiiDdHAgHM+CbFhvgqOFAkVqusy0Kd4BIIJmd84hTHAA3EAxf0iGAMTBoYtK942Eo0bgzesKX0ULaUi5shFFnmqe8jHCf0KZlbWcGEvrMSbKiST8IYGfJjUXMOMoeVz83b5yLAHUhf+L0IWRRh93CIM5FkBQeaQ/601HIGGgT4JD6LsspMwl8l+Ye8wnQ33RctEYlfwXu+zPqUaQAKdGTQp1tmkgQDsPPVZPDNjPz506ML/A2ckDx4ib9lSAb/ovlqIoY+DZpVWZieYo9LqGeDpVM9FGfCYd/ewSQW5ncF7are45hjjolWTDEiUMoEVo6UeUiB4dkGD1NsjHAM21ZPvkrs25ZIZByWWUxhZNFkasLTv/jGzyKtT8I3Pt+h/pTK0xyGVWLIGUejtZdTBlRkig0w3r7iAbKlFK8YGLzxhIWyZRhgMLBahS5VzSlMfEF0LpU07NwDdD0VtlN6P92o45NXSoBbMSQls8iWHKiwT0iYZtp4TxsJ+9uYZtJB3Bv+nvepKhIAGv42uhWAoeZA1SDzmypYBHcC8b5iwUtVGaa2oQpXbun0BXBoaXllHLWi44La1xzb2RGDdplHcsPLlHEkTy4iXf4///zz7Oo+5s2bl656iheB0iSwcqTMw/bzrcpXEuONfbFyys9lTm14swpziR/QxFdB/ZFffMsHf8FnWChOqdB3OnX2MWSLVqMhNBB/Aw302RJDY22A8ZEVD6AbGHiQCOTPVBqVIRDKlvcv0dhQZJWd0qF0PZ9+dIQhKIgx0UaAAzJ8VkGtGKqjawczKRdFHmRLc6DqY8jW4NMXCGvuBJ8n9wPtDSkqfzXrAHcdXQ83yg25i6ibMffVs1LQfMRnXWKlJDRQWWSF99TfQmUmh3kW9zxJOBBGPn9+/wQVuY8vM0BVSZt8cFck50NnkUOwPsn2uioCIlDQBPJaxuUVWcY/xFZo5MukhgyKLHkJiT9O+bb14yWDPaeMVV7bZZJzRWwYm/muR5oEpYPPkOoxzDOq+ZhSDtA7sUq3TCYAJGHIjFvIj8TcAKh2uh7/TWiyNZSqEk+txAzvNGobvFErsRqZZ8WL48AY+gvKJHks/4SEkKGvM5d9ZEWvodh8h1rmxHAY4eCvsoSiK/ES/SUZV4k8lZUI5DkBybiMOojBDGdJFhqOb3kcbOizaDGMMZXua4mWkl2MTVxml7bIUmXtgmUUDznYPBnw4n7zp/kc4Bb1PzaqpZ7mq85C49rfbLlWBfA7DQ2HqzKTltKDLI2w/RB8EvY/e/AQI+PY6MCBLswkt4rb4H5DwFGNlIRctnklWKWK568cREAE8pOAZFzZ/YIbIN14nJCYgYfxgIR8pTIhmGCpS3lLAClWXhcsoykCgqnq1Fi6bI9C3rYu/ysGSeYry/vzCXt8YMa/XK41NCt/s16NJfMxdUt3c3CfcATtUZ8IOD6DkbkO03Crj31yWjUSnO830NkvE0qM/kQhkrUQyTa5hqP8RaBYCdSgYfZ9p89YAnwB8eAAduAzb2IGeNcY2i1sO/NhyJML7CGixPMoB57fwWE2jEOMJen28JuNPvOQAMM5jxfBw0GPW/UIE6Ar6XH75NSe3EHAns/CQ3T9nYAXloetWFp9lpeA8Qe+YSd5iD8xdITnz2noT4+/Wf+IovKWLvtMCCDOeO4Sm2b4lrNHlLMFgds++EQYs6Ev8FmaDQ85QuMGbTIpSzYiIALxBPge1JFAwA8h8fgyiK2sRyQkVFKXKp2AuWAz6N4kE3lhs+4X+Hv1nIQ48VoVO8OybmyBJsQBGfJV48ukQ4Iz4FEbm3HOYqVjgVJStUUg1wTkjUsaB3CrMDGBhfe6Ra29Vyb2EpE8CNSmVqMGislbAjhTbT7O1zCho72NBexuIZzFA2BDWZXsaZR/5ijEP3NWFbHEA4cfjvdK+0yYTmU5AX1nXcDoxeO78cOFbHDgmVvOJ1RABEQgawK5eotD1hXKq4TIL//O8ryqmCqTawJMAHHkuhTln46A+KcjkyfxrDaZOXNm6Acq6s2WoFgl0XO83yL4uhrisfH7MPKkLaqGCBQ0AXnjCrr7VHkREAERqAYCyLgGDRog43iVGc8tMvcb0xcc/vcP/uxNN900akN1Q/qvGhqgIkWgWAjULJaGVGc7mCCwl05WZyVUdnUQYAU9LofqKFllpgjAX9Nz1XIr4GPjYX6INuZVa9asiROOrQyIM6/hqBUzqrE20nDV0mUqtFgJSMZVQs9qLK8EiIWZBa4IRrLCrHsx1Fr8q7EX+e3Kg11YIUcdCHfu3BklF6pPJjahJDoVAREoFwFNqpYLl4xFQAREQAT+RIBHw/Cg4/vvv599/ei2P11bcRK1MTdq8n5ksu3Zs+eKPPS/CIhADAF542KglCsq9aT2/v3LlUTGRUAAJ1zfvn31WLLq6kr4M8CLf7XwZ0dqcC0Bm/Fxi/qnaVqVyrRB8JXpySbbammgChWBAiIgGVehzkLAscGe/fMVykWJC5AAXc+GOyn46uo6NBx/enLVVAt/1FVQxvk6BF1r/Gkk2OCK69evH59B7x1zsjyaxFKh8AjzWHUM8OT5IhQQAREIEZCMCwEp3ylfW3zL2OqQ8qWUdYETQMPhCgou6C7wBhVY9dFw+Hv06Iqq7zaeBsfbMtipGiyar8G5c+d6VW02IWebuU7NBgO+NvnksHzYKsG2CRbbeSc3rxTjkjcIFqewCIjASgLL/o70kT0Bvnd4V2D26ZWyYAkwDuEnKNjqF3zF4Y+SK/hmFFoDeEkD4wdbUP3NzzPS2XwafGeGPTUdG3uGNk3kdQ4hGxbS+e7jK5RTI0EkloQJUJBF6lMERCAdAT3+d6WizSLEz01emsn0AbMMuAeyyEFJCpQArgUGG7xxBHAkFGgrCrfafoG8/vSquBNxvA0ePBiJhtuMXuCJcYSZDw16Rs0GnY3vzdvwbrp07zUJTr8yxcH3ajCmihuo4kSgsAhIxlWov/i64SsMJcdnhTJS4kIjQNezspuRjKPQ6l4k9UVGA99P5BVJq/K+Gd27d7c68gMG94A9+DdUa79cGN2WzsaSIPgI8HPIdDlhnHDsliDGK7llf2R9uaRDBEQgSkAyLsqkHDHmjCEBgXIkk2nhE8D5ituAfkdMFH5rCq8FwMcPJ/7V23OxGi5UpXQ2/OEg1DjsTwlRiKSjQ3lwie0coovRc/xe0p9YCKlORSBIQM+NC9JQWAREQAREoCoIoM+Qa2g1W5PAKTOzvIOVyVk/P4uw40DnIe+qok4qQwQKkIBkXAF2mqosAiIgAiIgAiIgAs7pgSO6C0RABERABERABESgIAlIxhVkt6nSIiACIiACIiACIiAZp3tABERABERABERABAqSgGRcQXabKi0CIiACIiACIiACknG6B0RABERABERABESgIAlIxhVkt6nSIiACIiACIiACIiAZp3tABERABERABERABAqSgGRcQXabKi0CIiACIiACIiACknG6B0RABERABERABESgIAlIxhVkt6nSIiACIiACIiACIiAZp3tABERABERABERABAqSgGRcQXabKi0CIiACIiACIiACknG6B0RABERABERABESgIAlIxhVkt6nSIiACIiACIiACIiAZp3tABERABERABERABAqSgGRcQXabKi0CIiACIiACIiACknG6B0RABERABERABESgIAlIxhVkt6nSIiACIiACIiACIiAZp3tABERABERABERABAqSgGRcQXabKi0CIiACIiACIiACknG6B0RABERABERABESgIAlIxhVkt6nSIiACIiACIiACIiAZp3tABERABERABERABAqSgGRcQXabKi0CIiACIiACIiACknG6B0RABERABERABESgIAlIxhVkt6nSIiACIiACIiACIiAZp3tABERABERABERABAqSgGRcQXabKi0CIiACIiACIiACuZJxS5Ys+f333//4449YxFziWLp0aezVEo/89ttvr7nmmgceeKDEOaj5IiACIiACIiACyQRyJeNatWq15ZZbXnLJJdHiX3vtNS5xTJ06NXpVMT/99NO999775JNPCoUIiIAIiIAIiIAIJBDIlYzbYIMNKPXxxx9HlISKf+SRR0IxOhUBERABERABERABESgvgVzJOF+PsWPH+jCB77///oknngjG+DCTiR988AGzsT7GAsR8/vnn06ZNW7Bggb/EhCxZzZ07l5iFCxfi2Pvmm2/81WiATD7++GPy/+WXX0JXyeqTTz754osvCCxatIhszebnn38m/Ntvv3l7JCkxwRrOmzePis2cOTM4fYzZDz/8QKpff/31nXfe8UKW/D/99FMK8hkGA7NmzaKGzDUHI2PD2JDtnDlzglejhVJzagsczL766qv333/f2xP59ttvz58/38cQIBJ7MqctH3300Zdffhm8qrAIiIAIiIAIiEC+Eci5jBs6dCjyxTd79OjRPuwDb7311gEHHLDbbrsdfPDBzMb279/fX2JukZj27dt37Nhx++23P/fcc1FaXEVj7bzzzvvuu+8999yz3XbbderUaffdd+/Zs2ewLJ/Jo48+usUWW1AE+W+zzTYDBw70UmzMmDHks//++++1117HH3/84MGDOR00aBBpr776asKvvPKKz+foo48mBrlJDELtzDPPpG5UrF27di1btvSWXbp02WmnnahY8+bNDzvssHHjxmHPWjfS7rfffhREVZ999lmf7bvvvkvd9thjDz7btm07ZcoUfykUoNqXX34589Fku8MOO/A5ffp0s4kW+uqrr1Li3/72t+OOO27PPffEAMvZs2fTTIh16NCBOlP5zz77zHK4/fbbsedzl112OfDAA6Fk8f5z0qRJLNpDs/oYBURABERABERABKqRQG5l3EknnTRjxgyGf2shbp4HH3xwzTXXRHX5NuMJwwxHVLdu3S6++OJ1110XAcHiMAzQKOeddx5OuDPOOKNXr17NmjV76qmn7rrrLp8WLTVgwICTTz4Z2UEknr/33nvPX7UAbqdLL72UbP/xj3+gzBo3boxMfO6557g6efJksiUTZOIpp5zy9ddf33TTTcTHasFQttdeey1SDLl22WWXHX744VTyxBNPRFx6MwxQWjSKauOA7NOnD5d69OiB+MNxyKdhwal26qmn0nykFc3ceOONEV4+k1Cgb9++Dz/8MJa06IgjjsAnd8IJJ5jnzyyDhVoMRUOAGqLecL917dqVtYlU+8ILL0R94kpE5H333Xe+IODTQRijNX2kBXr37k2//Otf/wrF61QEREAEREAERKBaCNTOaalHHnnkfffdN3z4cAQNBb3xxhv4chArNhlqReOuQwP169cPGUQMHqa//vWvKC3EGRN8N9xww2abbda6dWsu7brrrvjDXn75ZbSXpeUTpxfeIwIoGMLPP//8tttu668SwNXHJ84n0hIgc/TThhtuSBhNySdK68orryRw+umnIwdRRZnIOPLBfXjIIYesvvrqpEUCIo+Y28WpxikH2hTdY2Gr8JAhQ6xuLVq0QMbR8DZt2lBhVB0xuAxXWWUV/G3du3enjZYw+InZsGHDNtpoI6q9zjrrcIlP8P7nP/859thjzTJY6Pjx44lEk/373/9u1KgRYSQd08r0xUMPPVSrVi2aedZZZyFGcXmS0HIANflboyzGf1IKTcBz6WMUEAEREAEREAERqEYCuZVxTGUiGh577DFcVvXq1UPP0dSjjjoq6NFh7o9IVoaZqDIWCDvWZjF7SA7485AarEJjYRlX/VIzs8SxZAFEFTIu6o0z5YTcYeEXU5bMG3pfIN4s0noNhMcOr9Xdd99tGSZ/kgmVZAIUVxZOODQc9kF56kuhwjYRifOPAzNbr2aTrbZk7ZhjjkHDcQl1hScsVsZZ0xBzfrkhZEiCdvRN8IUSbwdONdNwnOJ745M2UgqBGjVq4NKDbXDLMDI6VsNhj842qU1YhwiIgAiIgAiIQLUTyK2Mo3nM+k2cOBE/EOvS0B+IraZNmwabbVokOFVqV9kKgLI5++yzSR60D4YRXjVrLp8XNgdV8KqF8dXh0mPJF6VzEGnevgYNGjCVySn+LZ+qYcOGPpwcwDF2xRVXJNistdZadtXvaTCfn0+CCmQXArs3iGEu1ccHwz6SANsU7DSUjwG0S75Qn7Bu3bo+bMvggu21cDAHvHfeXgEREAEREAEREIF8JpBzGcccHMqAyTjb8omrKYSDlV54xV566aWQfEGfsZQNDcfEJfOwrDBjGRlL9UPJMznF54QLipV2r7/+Oo5AfF0333wzq/W33nprJhmRRwQsHxNVFsZZRSDo/PNbO9koYBrun//854477ogiRFqxai22Mk2aNCEewfTf//43ZIBXjCnjF198MbgtNBgO2m+yySac4suk5sH4zMO4Nl944QUvB0loZW211VaZZyJLERABERABERCBPCGQ2y0ONJIZOmYM8fcgPtBz7C0NtZz1YcSMHDkSTcNB+M4772SrAc4qtnByykQhE6NrrLEG03+htJmcPv3002yDYJk/ggkRafKLOVzSsiKNT+8IxG1m076WrXnm/PwmM5JMaNolm95F/B100EHrr78+k6pIMbsU/cRNiAYlLav0rI0//vgjDWQKGGN2s/LJnC/tJcAzStLN6polOozZYcuHyVDyYXVdtNDYGGsvfkTb7cs6PNbnYWnxsUmCkTSBjcZeywYvKSwCIiACIiACIlD1BHLujaNJOJBs5ykrq2wFWLCdLK5n/yl7GlBaLIbDZYVzjnlP5gfZ04D0YaMAC7YQXszMBhNmGGYhGjIOzcQTN5hhxC9IQlunzy4KNhYw08pj0jbddNMJEyaYlrKcTV+OGjUK0Ya/asSIEb5EPIiE8eSxUwGJhlL0Cs/bBAM0gbLYE4pfENcdT0VmI8VFF12EDQ8ZQUcyvcu+Udax0d50WbEtA68kxuhaZqiRYub/C0rPYKHRMEWAFJfkoYceSll4OmkCYpT9H1HjaAxPeyEJDeGhJ9GrihEBERABERABEahiAjn3xtEe2+hAAD1nzbMFbfbJE0Duv/9+Nh/gZ8IPh4ZjwT5L2bBEtSDgkDU4qNA3qDFLzqfNePrT2Bi72rlzZ/PAkfl11123ePFiHtthu1apGO4ofFGoGaQYEseklWXOnlNO8SDih0PD8WIxm3ul2khMErIyDwchuoptE8HJYmtXsG480IQHeVAQuz1oC48X5qkitA4bvIzM82KAsEOnrrfeekzUEl+7dozCpj48gQUpjPcODYeCRB/bJo9oocEKWHi11VbjkXioQLZl4JPD+8jOXB6Vl25ZYSgHcwcCLRSvUxEQAREQAREQgWohUCOTh2tUTc1YPMfqN3SMTa36QplnZCIPzRSVbt4mk4C99qB+/fpRYy6tuuqqKCo8WwgspBJPEjYzZh6ZxGSbLQbRhGgvUqXb2hm1x9uHd5A2RtuCd42WUlA0VTSGCqPbgtsXojYJMXQ6Si6KOiGJXaLytLdMMxmIgAiIgAiIgAhUAYEYl08VlBpbBE4me5xb6Cr6KVZChczKPI0VcJYq4RKaMrZWlhBxWWa5QQN8exzBGB9GC2YuBxMq7DNMCCAiExqVkFAaLgGOLomACIiACIhAFROoiknVKm5SRYqrU6cOyTOZoKxIKUorAiIgAiIgAiIgAhUnkEeTqhVvjHIQAREQAREQAREQgdIhIG9c6fS1WioCIiACIiACIlBUBCTjiqo71RgREAEREAEREIHSISAZVzp9rZaKgAiIgAiIgAgUFQHJuKLqTjVGBERABERABESgdAhIxpVOX6ulIiACIiACIiACRUVAMq6oulONEQEREAEREAERKB0CknGl09dqqQiIgAiIgAiIQFERkIwrqu5UY0RABERABERABEqHgGRc6fS1WioCIiACIiACIlBUBCTjiqo71RgREAEREAEREIHSISAZVzp9rZaKgAiIgAiIgAgUFQHJuKLqTjVGBERABERABESgdAhIxpVOX6ulIiACIiACIiACRUVAMq6oulONEQEREAEREAERKB0CknGl09dqqQiIgAiIgAiIQFERkIwrqu5UY0RABERABERABEqHgGRcNfT1Z599NmHCBAqeMmUKgZ9++qkaKqEiRUAEREAEREAECpxAjaVLlxZ4Ewqs+oi2nj17IuBatWq11157zZ07d8yYMS+++GKBNUPVFQEREAEREAERqG4C8sZVdQ8g4JBxlNquXbvu3bsj5mbMmFHVlVB5IiACIiACIiAChU9A3rhM+xC3JQrs/vvvnzx58vjx4zNNFmc3Z86cBg0a/PHHHzVq1Lj11lvJdujQoXGGihMBERABERABERCBtATkjUuLJniBSc9mzZr169evf//+wfjswqhAplPRcCRHwHXs2LGCujC7aiiVCIiACIiACIhAQROQjMuo+9q3b8++hFGjRmVkXZYR2xqYUTWrqVOnkrlkXFnMdF0EREAEREAERCBMoHY4Que5J8B6OC/jkIZDhgzp27dv7otVCSIgAiIgAiIgAkVFQGvjytGdLI+rWbMm86FynpWDmkxFQAREQAREQARyQ0CTqrnhqlxFQAREQAREQAREIMcENKmaY8CR7P2D+tji4MMRq1SE7YGIvaRIERABERABERABEZCMy8k9wDN+2X9qOsxrtaAsIzJ4GluJww47rFevXrGX8jCSp6icf/75t9xyS/369fOweqqSCIiACIiACBQfAcm4nPRpvXr16tatO3bsWHJnQ8OkSZOCxSDgvLazeFtsx2ZYniHHPla2rxJPuFu3bgWhitBwnTp1atq0KZ+jR4+m+cH2JofZ4fH5OfbOHAAAQABJREFU55+TtmvXrsmWuioCIiACIiACIhAkENYTwWsKhwigvTLf4oCy4VFzvGuLTM4777wBAwaEcks45QnD+OHQc/fddx9vekiwzJNLuB7ZbItgRXoSQMllWDGM2bSLhjPBWlmPdMmwdJmJgAiIgAiIQEETkIwrR/eVS8aRLw8N3nvvva2AkSNH4qkqR2HO9enTh4cD46IrV6rCMsZvh5Lj7WT4I3l+3vTp09G+hdUE1VYEREAEREAEqotArnaqhiYNE5oXsuQU9eNfM5onIoZqoDZOOukkGsKMJx4yNFao5tE2okuuvPJKiyct/rmoTUIML43AvwWNkA2zkPZW1lB8np/26NFj8ODBoUryVgz/CD0umfMyZKNTERABERABERCBWAI58cYxWvPuUSuvRYsWsfOJyKCXXnrJbLp06WJTh7xgFOMOHTownKOcmGhDsuCnQTAx2CfsCSAH01ixjax4JFsWmOgM5YNKC8XEniLFbK0bTYhqstgkPpJySRJ040EDQcknNsDh8FhYjednM5ncDG6PYLKyXOvVfAViA1Yul6zoJk2aEGOWoXKD7aUTW7duTRfHcrNGWbtiC1WkCIiACIiACIhAmACDa44OvC8M8JSHay1UBH4pu4SNv8S0I0KESxbDtgBOedauN7CFU8TwUnkO4jEmsmXLlmzq9Gb5FmCikIYYd5xzFawe3CATzASGZM7yu2AkYQQTZKAaiq+sU9uREG0RAj1duZ9++ikorO+C1UAik8R3ffCSwiIgAiIgAiIgAukI5GpSFWHBgG0jPUrCRIz/xF1nl7y+4RJ+OFbKe6cRnhueXuGTEPDGOIHMD4QxSXAF5fNkHIu9/GTiVVddFfXqBduYHCYfdgNAJmhmJMeMGUMf+3hKwTOHcyvoyfNXKyVg5dpuXJ8h5VJounI33XRTfJOehqWyXREk4RTvo89KAREQAREQAREQgWQCOZRxFMz0WePGjQcOHBhUGMQzZkdn1hjOQ6N41CbUGJNEKANz5ISu5s8pWgpvmdWnc+fO1Da7urFazsRTMDnNBzLP7ACgxZM/k9SoJa+Jg/aVFWaOGNcghXphSrm0NHkCl/pfffXVvg70OHKTg6oix/NkKaSvngIiIAIiIAIikM8EcivjaDnr24IKgxhGfSZGo1CQBbiUWPPuVQ5+LE6jlhaDNETnmUAkYP65dMbVHo8CY96QaqBUsnuGCHPTkAy54siQhuOSJGAL1BBGbI9Fw0Evp62mXFYxBss1DZf8oDtEJwT8FhY6HTJkxcFiPq7mtM7KXAREQAREQASKiUBuZRwaCxkHr+AuB9RG7Eyf7b5kLG/QoAFihQCDfXRcZ/4UZx4Hefq51GS1RzUSjqrpTrxNSCubF0athiYWM6mDeapMC4bsDR3zmzSTMJ6/qNoLJamUU+tcK5cwnrYyy7UOpfusAizgGxc4KqVWykQEREAEREAESoRAzt/igE8I3xvCBR8bfhp0BtqLSBxLIcQ4ZpiPQ4WY947ZOgQfQ3xIGaDt2NVIWj+HGMoneIq8I89gDF6f4ClhXFkmg0LxlX5KQ1j+zxuryJlPBE2oacklIn1QgdH6kwqeyDv2w7Zp04bdHtl5+5JLj71KE5jPRV/i/8u8XKZiTZKSZ5nz5rHlKlIEREAEREAERAACOZdxlIGThqeBsP4JeYEysxlV9Fy0A1BUHIzxSBbsEX+sJGOnZ1C7IB3Ml8PsoZ+/I4xMjE4jos8qItEee+yxBQsWROsZiqFKsU6ykBmnuBh5NwPtosIw8avKopaxMZQCtyANb8b8JjIOUcUcpY+0AEipoWnf0CVOg88EiV6lLOR1NN5iuIoTjn0bKDOaFjKjXNJG+WMcstSpCIiACIiACIhAFgSqQsYxnDPG8yQ5ZBwKDCUXW1F0G5ZcslczoQ84eI0BSWJ9NkxTevGEDV66qJKILSjzyBEjRnz33Xdl2qNTfU3KNKb5iCo8jlQYwUpjy0ziDZBNHP40GEAXchrVTEQi4NKVQirTxMGsQmHSpkuOpZVrDz0JJYwtN6EJoeQ6FQEREAEREAERSCZQFTIOnxn6DEHGDGnCKI4EMRnna4w8IpU/jQb8vCpaxJbbh2yYUbVH74big6cosNi1etgMHz48aFkpYdQn+gZFixssQR7FloVmSueNw8lHkqjeNaVIobEZEh/13sVapoukXKZ6o7PDlItajaai/qb8opcUIwIiIAIiIAIiUC4CVSHjqBDeGgTZySefHH2GnFWX0R0HFWosOoVXptZBFjBNGesQIq1/2lw6LtGp2HSWlRJvXkPeeR+VPsn5o4qYvoy1YUIZtRrd/4uDEznFAkE+YxNWMNLKZVVcKB/KtaWNseVSVQR6KEn0lG5FI8aq86ixYkRABERABESgBAnkSsYxfk+bNm3mzJmID7xxSBZWRK2zzjpeu9gmUz6D7iVmRYP6hr2ovGXLyyy/L5Uk1lX49lB+mFFcrNrzxeVJ16J7WO3Hmw+y2IVgzi3EjV8R6BuFiiUcXTkHHCamE7bx+hyyC5ivlIoFO5Gs0HA4VmNnzyGAgbUluVBqTrvYyho7U5ycVldFQAREQAREoBQI5OqdqjbA2+iOjGDYZlDnFPnCJ3N/dsk+8c0wZqNO8OIw4Yg4w4WGc44F++TDxB9mUS9dsHuQerGiIWiTD2E4ILYMTnnrAwSaiawJTgFDLKTS4BBUtKaBQjblLTpqTykcwXhOg+XSoZzSm0EbwkxzI2RpSyg+erqshCF280SvKkYEREAEREAERCAnMi47rN6jZmv/UTxRt1N2OedJKtQqDkWEV9b14XklqNuQfkrODRGMbwyboMZKTlIpV61cfIf0YzBDICDTy9WEYHKFRUAEREAEREAEPIFcTar6AjIPeJ2Bz4kj84QFYcnSPeSUbUTIusK4uJgmRhshkjLJhElVo4p2rMqpSV8uTQ7KOGZUeVbwpEmTMqm8bERABERABERABJIJ1IpOeyUn0NUsCPDOhkGDBr3++uvl9S+ymxVJ5Ff4kXzRokXkE92RGlsr7xKrSg1HTaxc3Kuhcq+77rqtt9762GOPja2tIkVABERABERABMpFII8mVctV7wIyZjWYPV7Eq7EMK4/XDbnG3t6Qb5J5STJMXiyYYRFVacbjZnh3hc3wVmW5KksEREAEREAEipVAHk2q5i1i5BSbYdl1gW+JaUE2KBDDZCVTnGXWmfc0sP0Wp1p5NRwLBG0rQEjDUSIVqMgCuzLrnCODefPm4VnMUebKVgREQAREQARKkIBkXNmdjlxDwOEY44FnqCtWufGktM0224ztlsnPDcGYl43ecsst5dJwaD6Emr2wi8evxNYv9JzkWJt8iyzEOucbQ9VHBERABERABIIEJOOCNGLCTALih7Mn6+JaQ2OxQM2el8Har5gEK6LsEXE47dhbagsQLRX7NDEhbAEzZwcrBZEk9M4JSZ8VOPW/CIiACIiACIhAmIBkXJhI6JzV+syK2mwgz/uwPQom4JK3i7J2jQcgk1vWq8F49HF5t0SEKq9TERABERABERCBIiYgGVdG59oDOxBw2HnfmC1N86exWcQ+cdcccmYf9MbF5hBdFRdrpkgREAEREAEREIHSJKCdqhn1u20L9Sv07VlouNk4gs9FyygvGYmACIiACIiACIhAZRCoWRmZFHkeuNB4bK9/8Twzqv7l7qHnohU5CDVPBERABERABEQgnwhIxpXdG+aE889p42kjpMEJx8YFdq2Wnd45JliT90MEM6E4nHzBGIVFQAREQAREQAREIEpAMi7KJBzDIrYOHTr4Fycg4FBv/fr14yX3wbfUh5MFzv1sbCAuJogZDzfhMKUYY6EoERABERABERABEVhBQGvjVpDIm/9x++Hn886/vKmXKiICIiACIiACIpBfBOSNy21/MD3K+rkhQ4bkthjlLgIiIAIiIAIiUHoE9MCR3PY5q+KYJMW7ZlOlt956a2x5zNjK/RZLRpEiIAIiIAIiIALpCEjGpSNTCfEsccMVN3jwYHsoCY8LZkVdJvkGHy+Xib1sREAEREAEREAESpCAZFwOOx3dhoDjBal+5ynv8op96i8PGbbnDOewNspaBERABERABESguAhobVxu+5P3PZg+Y3bV9p/iaYseua2EchcBERABERABEShGAvLG5bZXkW6tW7dGzLE2Duecf2pJbKk8cITnDPNs4YEDB7700kv2BrBYS0WKgAiIgAiIgAiIgB44kvN7gBlVHHJouMxLwl0XO/eaeQ6yFAEREAEREAERKHoCknFF38VqoAiIgAiIgAiIQHES0Nq44uxXtUoEREAEREAERKDoCUjGFX0Xq4EiIAIiIAIiIALFSUAyrjj7Va0SAREQAREQAREoegKScUXfxWqgCIiACIiACIhAcRKQjCvOflWrREAEREAEREAEip6AZFzRd7EaKAIiIAIiIAIiUJwEJOOKs1/VKhEQAREQAREQgaInIBlX9F2sBoqACIiACIiACBQnAcm44uxXtUoEREAEREAERKDoCUjGFX0Xq4EiIAIiIAIiIALFSUAyrjj7Va0SAREQAREQAREoegKScUXfxWqgCIiACIiACIhAcRKQjCvOflWrREAEREAEREAEip6AZFzRd7EaKAIiIAIiIAIiUJwEJOOKs1/VKhEQAREQAREQgaInIBlX9F2sBoqACIiACIiACBQnAcm44uxXtUoEREAEREAERKDoCUjGFX0Xq4EiIAIiIAIiIALFSUAyrjj7Va0SAREQAREQAREoegKScUXfxWqgCIiACIiACIhAcRKQjCvOflWrREAEREAEREAEip6AZFzRd7EaKAIiIAIiIAIiUJwEJOOKs1/VKhEQAREQAREQgaInIBlX9F2sBoqACIiACIiACBQngXyXcZ988skaa6wxZMiQ4sSvVomACIiACIiACIhAtgTyWsYtXbr0lFNO2XDDDbNtndKJgAiIgAiIgAiIQNESqJ3PLRs0aNDGG2+80UYb5XMlVTcREAEREAEREAERqBYC+euN+/LLL2+88caBAwcmcDn44IMTruqSCIiACIiACIiACBQxgfz1xp1xxhlXX331+uuvn0B/9uzZzz//fNRg3333jUYqRgREQAREQAREQASKiUCeeuOGDRtWq1at4447Lpn1V199lWygqyIgAiIgAiIgAiJQrARqsI0gD9vWqVOnl19+GSVH3ebOnbvKKqucffbZ1157baiqm2yyyRdffBGK1KkIiIAIiIAIiIAIlAKBPJVxQfTHHHPMgQce2K1bt2CkhSXjokwUIwIiIAIiIAIiUCIE8nRStUToq5kiIAIiIAIiIAIikDWBAvDGJbRN3rgEOLokAiIgAiIgAiJQ3ATkjSvu/lXrREAEREAEREAEipaAZFzRdq0aJgIiIAIiIAIiUNwEJOOKu3/VOhEQAREQAREQgaIlIBlXtF2rhomACIiACIiACBQ3Acm44u5ftU4EREAEREAERKBoCZSujFtttdVWXXVVPtdee+099tjjwQcfTO7k+++//7fffku2KfPqBx98UK9evQSzSiklIX9dEgEREAEREAERKBoCpfvAEQTc66+/3qpVq19++YUXs/KWiK5du1511VXpurZhw4YffvjhWmutlc4gk/glS5b88MMPG2ywQTrjSiklXeaKFwEREAEREAERKCYCpeuN872Injv00ENHjx59/fXXz5o1i3je6Lr55ptvttlmzZs3HzduHDGdO3f++uuvd955Z5Rf9Oq7776L/Lriiiv22WefLbbY4uabb7bMH3/88W222Wbrrbfmc+TIkUR+/PHHW265JQEUYaNGjW666ab999+fgvr16xcs5aWXXurSpUvjxo3JjTz1wjHjqU8REAEREAEREIE/EeCdqoV7oISyrjwzqpMnTw4m32qrrYYPHz5nzhwuTZ06lUt33nknqovA/PnzocZn7NX333+/Ro0aTMti+eWXX66++uqffPLJzJkzcd1NmzaNyIkTJ6655prffPMNlnXr1iUGPccbYymO8PTp0wnPmzfPlzJixAgk4++//87VO+644+677yZQCceXXy0dN74S8lEWWRP4/vulR3ZZevudWWeghCIgAiIgAiLgCcgbt1LUrrfeej/99BNr17777rsWLVpwoX379qixlRbOpbuKjDviiCOwxC1H2jfeeOO5555r06bN9ttvTyQBNOKECROCWdEHOPmIadasGTJu9uzZ/iqzrjNmzBg1ahTa7swzzzz11FP9pewDf/zhGjV0e7dzA/6ZfSZKWUECA+5wI+5355zp5s6rYE5KLgIiIAIiIAKScSvvga+++mrDDTdEXQ0YMGCnnXbaZZddjjnmGE5XWjiX7irONnx4ZrnOOuvMnTv3xx9/XHfddX3aBg0a4MnzpwTq1KlTu3Zti0EF/oHMWnG0bdt20KBB99xzD6LwoIMOQtKtuFIZ/9eoURm5KI+sCHQ8NJWs5V5unbWzSq9EIiACIiACIrCSwHIZsTKiVEMsR8MJt9deez366KOsfnv11VcRXu+8886OO+4YRJLu6sKFC9nHusoqq2CMgKtfvz5L7oIONsJ4+4JZJYc7LTsWLVp06aWX9ujRY+zYscn2ZV+tWdOx8u/jT9yefy3bWBY5ItCmNT8FcpS3shUBERABESg1AvLGOZagPfXUUzje+vbty5zp999/z5wmGm7x4sUsSuMq+gzPGXcGPrbYq3bT8KwQAu+99x7ib/fdd2fvwpQpU1hjR+Sbb77JArh27dqZZbpPX8ptt9120UUX4Z9jmR27HIKOunRpM4rfaCNpuIxAVYpRx+Mcjs+3JlZKZspEBERABERABKIESlrGMW1qz43r3bs321RRTgA6+uijkW6sV2NhHOFtt90WTcaEaYcOHQgzDRq9SiomUnmSCGvg2Fh6ww03sMmU+VC8escffzyr4k4++WTceME51mhPEONLwatnW1mbNGnyyCOPkGGsvSLzl8Dvv7sxD6eq9/CI/K2kaiYCIiACIlDgBEr3uXGV2HE81HfXXXdle0Ql5qmsCp7AwDvcqH+7Bwe5hn8p+LaoASIgAiIgAnlJoKS9cXnZI6pUsRA47yz34hPScMXSnWqHCIiACOQjAcm4fOwV1UkEREAEREAEREAEyiQgGVcmorINeE+DZlTLxlTKFlOnufMudNMr9cExpcxTbRcBERABEVhGQA8c0Y0gArkn0KplqoxnX3Ufvpr7wlSCCIiACIhAqRCQN65UelrtrE4C+3VMlX5ih+qsg8oWAREQAREoOgKlJeN4vAgP9eCTY4011thzzz3feuutqu9TdrbygLqqL1clVg+BU852z41OFX3umdVTAZUqAiIgAiJQpARKS8bRibzt9JdlB+9a4Am9HTt2XLJkSRadW5FH8vJE348++iiLQpWk8Ajw7tR778ik2t997a463s3TU2sygSUbERABERCBZQRKTsb5fschxyvnv/76a/QckbzIYbvttuNRvbzYfvz48WbGc3d5im/Lli15vWndunVnzpyJI41H+55zzjk8mDc2Fa986NKlCzZoNR4F/MUXX0RjPv744y233NKKePzxx7fZZhs2SfA5cuRIIu3BvzfddBMqc7PNNuvXr59Z6rMgCay9lnPL+nrESFd3ndgmLJjvbjjDdW3oXn3IvfJsrIkiRUAEREAERCCOAO96L9yjUaNG5ao8M6qTJ0+2JAsWLLjwwguRU5wi5tZaay3eo0qYl6vy8lOuvvvuu0y88hItIi+44IKaNWuiyVBg6L977703XaoRI0bsvPPOvOkBgzvuuIPXeUVj3n//fUQhBuhCyp02bRrhiRMnrrnmmt988w1F1KpVa/jw4URSOuF58+YR1lEABF55balbf+kNt2RY1SVLlg7rv/QQt3R/t/TcbZZO/yDDdDITAREQAREQgRSBktupygu4avCmS+d+/fXX//u//3viiScIP/vsszjhdtttN8IsmNt4441feeWVGTNm8Bou3spFZM+ePW+++WYCHEzJ8gJWArGpeB8rCUeNGoUv7cwzU2uh0IWhGFx6qYyce+6553h/1/bbb0+YAL7ACRMmEKBjOnfuTCSlI+Nmz5699tprpxIEjlH3ubEnB85zGRxcTC9zf+Y/burbrte5bpVVKpMZzxO57Wa3xnbOzXYXn+8u6lVm5uPGuDs6uvnObejcha+7FruUmUIGIiACIiACIvAnAiU3qWpr43C28YJUFsbZ5CYvvMdL13TFMWvWLJTT3Llz69evb7SYWvXYcOnhpeM0NlXbtm0HDRrEJCxJDjroIARcNMZnxXxu8EWrDRo0mDNnDlfr1KnDy1vNDNFZkXV4viwFUgTmzXcHHeAuvdDdelslA0HDcTSp69wm7paByZlPesV1q+Gu7+h+d67HMHf/Umm4ZGC6KgIiIAIiEE+g5LxxhgEXF4vPunbtevjhhzO/uf766+OKe+GFF4KQ7rzzTmYzLYa5zuAlC8em4lKnZceiRYsuvfTSHj16jB07NhTjX3WPhkMv+pwJM5/rT5MDnU5y/NNRPgJrpvR36tihtf2f/efML1yjhq5mTffzArfqKm7Yw+72we7261zLFq5WrXTZzvjQ3biPm/6V4w/v2OvcCee72nXS2SpeBERABERABMogUHLeOM/jwAMPZO9Cnz59iDnggAPwxk2ZMoUw6+SOOuqo+fPn77TTTq+99poJuNtuu82mYn3ydKmwvOiii/Cfrb766uxyIBCN8Zkw8UqhU6dOJebNN99kJVy7du38VQUqnwAC6/ff3fyf3b57Vyjzs3q5Jo3dIUe6yVMcmxiYnz30ENfnQrdDG4cbNW7v808/umv2m3vm1m7GV+6AHm74PNftEld7wVy3tJhmrCsEVYlFQAREQATKS6BEvXGGCYcc2xFOOeUU9qg+8MADJ5xwAi405Bo6jLVoO+64I4vbWrVq9Ze//MW2OISU3EYbbRRNdeyxx5500knsvWBidJNNNmGLA6vlQjG+k5h4HTZs2PHHH7948eJVVlnl0UcfxT9n86reRoFKJoCSW2vNiub55rRUDs+86k5cvszR/fCDm7IskvgFC906K9cyLv7N3ft3N/Zqt8TV3cnd2efOv9Q5Y9lzgG+70513ltv2r+6d/1a0PkovAiIgAiJQkgRqsJq+cBuOTmL3aO7qjy+NDarkv3DhQraRspTNr5bLXaHKuQAIjBztDu+Uqudvv7m77nENN3adO6bC/W93rVu6/faxJvC3Nfo+N/gU96tzjdzS612z9dznbswT7rBDUwbHdHPDh6YChfw3mKq/DhEQAREQgWoiULqTqmUCxyvGuxb+97//YTl06NDmzZtLw5UJrSAN0GSvvFq+mr+/4unNi35JvZsBDcfB1Cp7VFdouFf+446t6e46xdVx3/cb/N29S2us98Ur7rkXlms47G++dnmhL05YHtB/IiACIiACIlAeAiU9qZoMCtHWv39/HvyBw5LdDMyfJtvrakES8H61z2e6xpvENIGFbsx+Nm60XKuZRa9z3KJFbqc2wclTn/a9ye7mNu5L51blUTXuuoPc39zZ27lub7tN9nXuA3fDLcsfR1JnxV/f9Bmu/V7ujz9cra2c+8S9+rrbTU8f8TgVEAEREAERSEtgxUCS1qCkL7CmjaOkERR94zfaaHkT1+J1C3HH8BGph8xxILaaNU0FOHjizN9Tm2NCxzdfulu6uGkvOrzcHS933S9zq53/tRvkXPf9llkuW0j39vvLU22wgRs33n0y3XU7MRXDxgs0HMfz4yTjUhx0iIAIiIAIlEUgf9fGPfzww7179/72229ZAMejdw8++OBoW3K9Ni5aomKKkACPDuFBJOuuG9809qK2WfZ0Et6OGti4EDLmhVr/vMi9OMix1HSP4925A129BitMSGiv4XrvffefF9zJ3VKbW2OPBx5yr73lrrsqoaDYdIoUAREQAREoTQJ5KuN4rygbRXnJwa677speztNPP50Hf/DeqlAnScaFgOg0JwQWLkyte1vxQOZQEUt+dw/f5h45P/Us361auotGu0aTRruJU9zlF6ecdjpEQAREQAREIGcE8lTGsf+Up6kdeuihNJztorzSAGHHY9hCHCTjQkB0WpUE2GD61DB334lugXO48s5/ye2457IXRZjv7e/Xp5QcDyKxRzr/8KNrUL8qq6eyREAEREAEip5Anu5URZ+ZhuNBbrfeeivPddtss82KvjPUwAIi8OaL7ria7rYTXQ32MTziHlrqdpz1uDvlbPcbTxdZdrTdPfXfpNQzpVPHpMn2vz5FQAREQAREoLII5PUWBx7Py5N4kXQjR46057dVVrOVjwhkTYAXat2wl5v+rVvFuW4D3NHnpN7I5RYvdkcfkcoTVxxuOt4VYZOwe7dzvS5JxRPQIQIiIAIiIAKVSiBPJ1V9G3/99dfnn3+el5++/vrrm2++uY+3gL0gIRTJ6XXXXReNVIwIhAnMmuXeeMt16uYGD1i+XTRsEThfsmTBK5/cfNdWrz6c8sAdeIE7/Sq3WnDx21a7u49ecy+8KMUWoKagCIiACIhADgnkqYxjYRx7GnjVqTV99913P/XUU7t37x4iobVxISA6LQeBhx5xxx+70h4XWvqDjahD1xk72u1Tw63Zsr274AG3YcMV1o+NcjVr/OmpclzhaXMDbnevT3Jff+fuv8Nt2myFtf4XAREQAREQgUojkKeTqjxnhDecjh8/ftttt+X99Ki6Fi1aVFqjlVHJEmCu89vvXMO/pAB8uOwhbYbi9jtT//OarNFPub3bui7Hu54XubXXdjVqLOl9+cO312Aj6mJ3WGM39h91x64/7h5LlPrkUb1Hdk4FXnvD7bpzKmAHT5u7oOfycN9/uPvvXnFB/4uACIiACIhApRHIU28c7bvlllvY3PDDDz/wBoWLL7747LPPjjZa3rgoE8WsJMCLFgbd69q3dS1X/Aao0XzlexR++cVdebXbtKk787RUku+/X76ldGV695bb81r33EK36vpsRB07v803j7nOh/3pCXMzPlvuaSPQtMnKpG9NdDvvuPx0wkuuLVtYdYiACIiACIhAJRPIXxmXSUMl4zKhVLo2513obrs51Xw/YVqDVW3OnXhqyj3W7XQ3FCcZnrmvU5G8jKtJ41SAY7f9v2p72mXXb/yN2311504b5g4+zi4s+7ykt3v2ZffksNQDRHie3IKFqVh7yMicn9zcucv13NPPuomT3IU93erkoUMEREAEREAEKp9Ank6qVn5DlWMJEtiGV5RyBJ7W9u57y9+jQPQnM5ddXc3xWtUNN0y9UPXorm740N936H757P5Tr1+nlnNHXOW6XeLqsCXVHz/NdTdckzq78HKMUwG8eqvy9lTnfl6w/Mlwzz7n9t/XHXxA6p8OERABERABEcgZAcm4nKFVxtVO4IxTXYdD3frMiK44tmnu+GfHk4+4ESPdYQenNNyyY+6dQ+556dxnJ25fw9Xe88g/zh1Us25AAS5PVa+uqT23WdPlMbjfeDsqx6JlbjkCs75Zfkn/iYAIiIAIiEAuCWhSNZd0lXeBEFj8mxtyvRt9ZeqFWlu6R653vddY/EG6t285/5ZV3tPQqoU75MCVrWRJ3GefuyM6sTdiZaRCIiACIiACIpAbAjVzk61yFYHqIPDUM46Fa7yKPsPjt9/cV7OeeMAduap77EqHS+2mN91tn+y8xrwpaTUcOb//wfLsjzvKrdsgtdKOd97bsdMOqY2r0nDLceg/ERABERCB3BLQpGpu+Sr3qiPAexQOPShVHCrquqszKffjVY+/1F38s9t4HefOG+327mCJNi0j7dFHuh/muIYbu2ZNl29Tff0d9/FrZaTSZREQAREQARGobALyxlU2UeVXXQTq1HFumQLjCSNlHR+97c5s4M5xI352TU5v+9zwJV7DlZWS67VquXPPXP68Xx4vx3FWcCNrBjnIRAREQAREQAQqg4DWxlUGReWRPwT8y0zTVOnbr1z/k93kZx2/YA4+4ptzdnvSndMl9dyQ6MEaOOZPjzlq2TtTo5eXxUyZ6lq3Sm2G/e1bl9KROkRABERABESg6gjIG1d1rFVSVRCwF9LHlcQLtW7t6bo1Smm4XY9yD37nzhmxkTv/lHgNx9ND2rROva2r1lru9Tdj8ht4hzuqq3vq2WWX5qSeHsxxywDXZKeVi+dikilKBERABERABCqNgLxxlYZSGeUtgSW/u0fvcMN6pDaibrGVO3+Ma2ZPlEuoMSvtVrroNnJLZ/3JlqfH1a+Xirn0Crdwkdu2uTvtpNRp8PHCqXMdIiACIiACIpBDAvLG5RCuss4HAs886o6q44b0cHWd+/tL7rYPMtBw1JsZUna8XnRZqgk3XxpuCO9saL5HKvKozm7Ajcs1HKe9LklFnrPs7V6pkA4REAEREAERyCEBeeNyCFdZVwIBngnCcrc11sgiq//91w1o675zbk3nTgm9UCuaHQ42xJmeFRIloxgREAEREIF8JSBvXL72THHU65tvXI2G7q8HpaRYFsfs2an3XK25pvv4k3KlnvGhO29b17utm+Pc8Te6EYv//FLUaF633ZmaJN2+7C2u0aSKEQEREAEREIHqIqDnxlUX+dIo94l/p148/8rX7sOP3LbblLvNX69YkUbyLTZPm5x1bPxb5rGbO8cNPNe9MszxFoX9z3WnX+PWXDttupUXXnkjFX735ZUxComACIiACIhA3hOQjMv7LiroCvJKgwcfc1s0Xfkm03I1p2ULN+xhN/9nd8iy5/rGpmUFG+855Xjt7Tuf3G7sNUv/cDVabfD9+ZPW27BhbIK4yDtudc23cIcdEnctLu7lV9yef3Xt/8+NGxt3WXEiIAIiIAIiUBUEJOOqgnLploHAmvBUhZp/3DFlJP/xRwxGuy737LbVYuf+4t682h3Y6Ls1XMOvykjoL8/4zD02yp156vI33Pv4hMDIJ1IXX3wiNVmc/hEnCRnokgiIgAiIgAhUnIBkXMUZKofqIDBuvFu40B168LhpTe9wP893a9ZzP/Vxe23jpqVqc9eN5ajTpjs7N9uNeMq9+XymqS7p5b6c5Q7eVxouU2KyEwEREAERyAEBybgcQC3lLD/40L32hjv+mMBD13KAg1fR79Oe5+1e4uZ+6dZZ3a151hDXod7LruMyDcck7FpsTs34OHBP98xIt1vrjBM4t+GG7tGh5bCXqQiIgAiIgAjkgIBkXA6glnKWzbdOtf7dD9xN12aEYc5Py5+jm5H1cqMfFza42d37P3cSG607Xbr0jPXvds13cDsf6qa97TZY362+mvviS7dJo0yzfGqE++rrcthnmq/sREAEREAERCC3BPTAkdzyLdHcm2ySUcP/caNrUN/t2yEj42VGP89zN53jjt9pw4nupN32/2XYd+6MVa5xF5zhdtkptUxt++1SfrId9nGNN3G9+2Wabc2a0nCZspKdCIiACIhAPhGQNy6feqMI6sJ6tc8+d+aTCzbnhx/cKqu6tdcKxrkXXk6dvpDRZs/Fv7nB/3Bj+rolzm2+hbvgCV7GsFoq+dZbpj45/FaDqRNSp5PeSX3qEAEREAEREIHiJaC3OBRv3+ZPy954y+3KNgLnmEK1h4NY3b791v3z7tT7rLbbNrmyTz/k7j7eLXJuI95ievf7zU/Z+k+vW+Ahww0arFyN9+l0N+YJd1K3P5WVXICuioAIiIAIiEABEpCMK8BOK7gqD3/MHXNkqtY82qNpkzKq/+jj7ugj3O13utVWc08/P7nrP2/tUPdb5/DjnT3a7d2xRir5ZX3cNX3LyEeXRUAEREAERKDYCWhStdh7ONftmzTZXf53d9G5bu92aYs66nC3cKhr1HClhkt4gelpV6XyOefMec79zT36yci6dZa9UOuEM3+refQJy4uYMzdtWbogAiIgAiIgAiVDQFscSqarc9TQQ05OPa1jn/Yrs8f3VqNB6oG6/uB98927uP32WR6R/ALTkQNcvYP7NJp5pFv6sTvswINnDZ/nulzoav53vGNLKcclvd3A8jwWzldDAREQAREQAREoLgKSccXVn1Xfmj5npsq88uqVJR9zGovgHK/hSnfEvsCUuVTU3i333HZ/m4N+evKNLzfZ2U0Y8cynvZ7aePlLUffY3TXeMfWv96UrdzNYEYPvT6W9qX+6AhUvAiIgAiIgAkVJQGvjirJbq7VR+OFMwz003B17VExVfpzjbrsj9QLT1q1WXl279dift7vT3fKHW7+xG3OD61nffeY2au1mTVppky5Ur6Wbu+zBv0uXpjNRvAiIgAiIgAgUHwGtjSu+Pq2+Fr3zbuo5uh0OXV6Djz+Jr8qcOe6hp1yt2l7GjRvj7vj59flu1fpuXh93ZnN3V8rrNvMz1/es+BxCsc/8y513mbvq4lC0TkVABERABESguAnIG1fc/VuFrcPHtm6DVHltD3Y9T3Nfz3KnnuTq1HF9/p6a8ex7+cpHhPS4yA28KWW5ePHbk2vftLP7xrnVnes+xB3WxdWYN89NnuLatU0Z6BABERABERABEUhPQDIuPRtdyZzARx+7335LvUTBjjW2cwveTgWfH7d8ZwOBfVZsg5g6zbVqueDoqy774IoPp7pazh1+jTvxQlenxmKEnVtz2etQ003ILi9A/4mACIiACIiACDhNquomqDCBN/+XehcWx/8muj7XpfaTdt9veaYtVgg7H3BubuMWt5249JUHUiZ7n+7OusGttQ6x8/70tN50E7LL89V/IiACIiACIiACknG6B5IJ9L89db3nOWmt3n3P7bJiAnSdddyTj6YEWV102bJjgw1cYNsBL9S67xo39qrUC7VatHc9BruG/mHAP/64PEnfv7v11k1NyFbxsWiR++8rbs893OpM8OoQAREQAREQgQIgIG9cAXRStVVx3HjX69xU6a1apF2sdt2tLvWWLOcmTnJbbJ4KeA2XOllxXH/rM4Mb3PFh11+da+Rcr7fcdjuuuGT/N2vqHh/lvprlzj7d8a76qj/26ehe+4/b40D38r+rvnCVKAIiIAIiIAJZEJCMywJaySRpvtXypvrXz0ebfs5p7sF73AV/c21aRy9azBsP/nDNpfv86lqs7eZc+FR9tkDEH507Lo9fssQt+sWttWyRnEXx9tUTz3B77+EuvTA+bWXFshtDhwiIgAiIgAgUCIHqcHtkhubpp5/eZptt6tatu8UWWzz++OOZJZJVpRLYeGOHouLfRrySPs3BqjimTW+6Nvbyp++7MzZwV5647u+u0fmux2PvzU6r4Xx6iqtd2629lnvuBR/nbh/knhvt/naRm/PTysjKDb0w2j37nHtuZOXmqtxEQAREQAREIHcE8lTGzZo166ijjho4cODcuXNvvPHGE088cf78+bmjoJzTEmB+M6spzh9nu94d3NnbuJmzXcfL3ahFDQ5YOsA13zJtQf7CgoXLg5On+jh39OGp8H4dXf16KyMrN8SSuP33dautVrm5KjcREAEREAERyB2BPH3gyNdff/3yyy+j5Kzla6yxxsSJ/9/encBVUe1xAP/hghu5oGaouIW7qamVphZi6UsztVwSJctcn2tYbomV9J6aqaG58DSF1NRc0SwlTUXNssS9cElL3E3cQE0Q3v9wr5fL5d4rcC8wDL/z4YNnZs6cOfMdPh//nzNzztlXu3ZtCwhPT8/o6GiLndzMAYGEBMyYBXkJ+3K7O3EIDsDmGUmJcHmqPfwXwb1sBlsk/XASw8m4ClfXDJ7J4hSgAAUoQIE8JKDRMM78CURERPTs2fPUqVMFZS7Z1IlhXGqPnNuaE4zBA+XyiwPiVgQWjQcqY/1kdHQPmo0XfVC7Vs61jFemAAUoQAEK6FZA60Mcjhw50rt379DQ0LQxnG6fiYM3Fn0WshBC3ToOVpOx0xs2iECnqZhxL7CoO459iE41EaVqGD5Y/Z72Ga7fhEc5NH3atACX2s9EAQpQgAIUoIADAprujdu8efOAAQNCQkK8vb2t3mO5cuX8/f3THho9enTanXliz+XLKFdO3em2HTanCEkPRNQx7PkZPV9XrzUl8+EUfDRGBWHW0uFfMPVpXALcgP5fo23UJEwYh35D8NkU45IMNZrh+B7jqUuXwfd1a9VwHwUoQAEKUIACGRPQbm9ceHj4oEGDNm3aVKuWzVdyrq6ueTdis/qg78n7zORkGihgtZidnWEbsG4jQoJVkaNRagjqszIPyEWE70HSBYvzok9hWhdE7Uc+JL7pGdbjV288WgoYq4aUymhTSbJI164fUcMLLZobz5XJgZkoQAEKUIACFHCGgEbDuJiYGHmXKr1xdmI4Z9y+7uqoWAEHDuJqDHy8M3lvnV5JObGyp8pPG4ORI9Rvs3T1EmYOwc+rINOs+fTFqAX5IUNNJr2nJgpu0ijllW51L+OcwLLi6uk/cfIUXmpjVg2zFKAABShAAQpkXkCjL1UXL14sYZx0tpnubNmyZZ07dzZtGjIc4mABYn1zzTr8dxbmT0vXd2mtOmD7N1i5BpU88bTFSguq+ru3ETwBm6YhSRZ3aIPhC+AhwV7NZ9Vr0+69sSJUFYqPN/bG7T+A36PwerfMzVqiqmKiAAUoQAEKUMCGgEbDOButtdzNMM5S5I9TaNcLfh0x3uzrQMPKBI198NlEHDqilitNM+bXsp6ufli1BGMCMGmi6ZDM8rtuIRb1hSyoVbUs3t0OL4txFIu+RJ/eqnyiTDbigtg4NYuvJBmvOuzfKsNEAQpQgAIUoIDzBDQ6/a/zbjCP1TRzruoVCxgDmcjNlAKSQ7F3+qJlCzUtyOfzTEcsMxKp9XgLHo1UDCfpuwhTgV2b8Xo+zOsLmR53wmbMu5wmhpOib72hPoa7FatiOEmFHnSmlvcw1cMMBShAAQpQgALOEmBvnLMktVHPwUNo2AADhmLeTMsGSWBn6IRb/w06tLc8atj+6wyqVFZZWSO1aBEMeBsVyh+NxPTGOCtRmcRpC9CpjzFIs16Dxd6bt3DlCh6vZrGbmxSgAAUoQAEKOC7AMM5xw1xSg7zo7D8U5y5i3VcoJCGZtSS9cW/0x5Z9iNwID49zfyHoLRzahvxAhwC8NQ6FpC/OlCQuNAxHNe15aObr1ejeBZ/PNcwV/NDiLEABClCAAhSggB0BhnF2cHLzoYsXseE7dH0VJUsYb+OnvWj2jMqHLsHrXe2vcxV7E3NGYVvyrCPN/TA0CCVkIhHz1MkXYcvw2efGCX7ND9nJl2yAG4fUcYkXmShAAQpQgAIUcEyA38Y55qeFs2VYQ9rJ2DyeRv8+6NAjpYH16wHJM/D17qV64+Rdp7V0PwEhU9C9BH4IRs0nMf80xn+ZJoaTEyWGU783W6vD9r41QXjsSTUMlokCFKAABShAAYcFGMY5TJizFaxaC6/HVZeb+ZgGaVKz2qpdNaumtK5oUST9jg0bjXsuXEw59CD3wzp0LYhlY1AamLoXn0WiYpUHxyz+3fsrRryHj8fBpTYGDrM4aHPTxxsXItHFcuIYm+V5gAIUoAAFKEAB2wIanf7XdoN5JLXA+QcrK8j8uuZfqkVsxLHjqJMczJmf0SF54g+JwOo/Yb77150Iei7hMgoUxIkPPMKeffU8/nMRS+bDrZh5sZT8U40hPxMCIWunBkdhyscoUTzlKHMUoAAFKEABCmS9AMO4rDfO0isMGYgy7qhXF9LZJkNQj5/EiCEqnpOfuhazuiXPyou/VHPMhjic/A3TfHDqEgog35sY2APBkMhwdnKjV7TB228m52z8essPgV9h8EuM4WwAcTcFKEABClAgCwUYxmUhbnZUnS+fcaX5S5fQsYO6osy4O6Cv9UvLhCMbNyFiF8aNkgIxVzC9L35dLyui4qV30O+jfMWCa+E9w6nyFV0U2r5ovR7T3qpV1ItaJgpQgAIUoAAFckKAI1VzQj0rrnn3LooUURXv3oNnm9q/Qvw9fPEhwiapBbWavAL/BXAva/8MHqUABShAAQpQQHMC7I3T3CPJZIMKF1YrmcoXcvJ21Xa6fx8r52HpENwDKiFsyhun3UNH2C7OIxSgAAUoQAEKaFeAYZx2n02GW2b4JM72aT+EYXYnxALuwPt4ux4WIran7eI8QgEKUIACFKCApgUYxmn68TihcTLrb7lHj8ZUmd5ELagl406HLUE7X7ic/QjhLdG9qxMuwSooQAEKUIACFMgJAX4blxPq2XbNlWviu702DksPw1cW1Oo6GX4jkZ+he7b580IUoAAFKECBrBTgf+lZqZujdV+7iuD/NNyGeGnF82WOjuu3FSP/nWpuuRxtHi9OAQpQgAIUoICDAgzjHATU4ukyEHWxV/iK6BZAtSfcr4+becy9V1NMAmqXgZ+vFlvMNlGAAhSgAAUokHEBLsaVcbNsPmP8R+jQHYePIDHxoVeWFefXLULXQlgR3aY8tofWeufTqyXdO8pqqsmpUUP1j8ww16YzJn9q2MffFKAABShAAQrkUgF+G6ftB3cmGpUrGZv4r1fx3Wo7zf1pK4JeQAxQAhgduL/xz5PxyUeoLRP5JidZdFWGskoKmIiPP1CZmGsoVVJlmChAAQpQgAIUyIUCDOO0/dCkB67JC9i/LbmVjyHpwQqqqVv9234ENcKfssgW0CMI3YdAFnewmY4cxRP18GInhK+1WYYHKEABClCAAhTQvAC/jdP2I5JwLPIHXLmC0KXo9lratl46h2l+OLRNLajVYRT6foDC9mb/Ta5AFmCVl69MFKAABShAAQrkcgH2xmn1AcriWk3/hYOXELPH6qvPuFuY/R62Bav2P9fp9tCp/7h5ldLqzbBdFKAABShAAQo4X8DOuzfnX0zPNU4IhEsFHDjotHuMPICDO9T69N9vtajzfgKWzED34vghGDUaYMnXkWPXFXOr7o6rVy1Kqs2W7eDigl27rRxKz64bN9NTimUoQAEKUIACFMh+AYZxTjIPnACcx/TZTqoO8KoGFIFXU3RoZ16nLKjVrSAW+6sFtT6OQNABlC4QbSwQd9u8pMrLKqu7vlOZtd+o3xlN745DyRLo8VZGz2N5ClCAAhSgAAWyQYBhnJOQP/oPUBnvDs1kdZcvY+Ua/PNPyunDRgF3cPInFCli2Hn4F/RxwZROuA8MX4ovk9CkZfKRzh2xZh1270Elz5TTDbmCBbFAJiB5A6PfsTyUnu1NO1Wp5faGx6anGpahAAUoQAEKUCArBPhtXFaoZrxOl4JAArr3xvIQ48mz52HIINRtgSM7Tx/DjC44fkSNY3glAG+PR0HX1JeQhVNnz8dYf9SpnfqAY1tnz+F/C+HXA9W9HKuIZ1OAAhSgAAUo4HwBhnHON81MjS41geMYOAxzg1JOv3Ez5l7xWUOxZwVcgFYDMeC/KGF1GIN8/SZJ3sCe2JNyOnMUoAAFKEABCuhagC9VbTxeGawgQxbUq9JsSbcPqLeis2eYLiYLas2bVrzXoyqGa/QSQs5i1FwbMZycM+I9deK/udCWyY8ZClCAAhSggP4F2Btn4xn79cOSBepYtk2xJhfa87NMzJtYzC0sBIvehnwoV0HWYziImvVtNJK7KUABClCAAhTIwwLsjbPx8EcOATwz0xu3/htsk4lCbCRZQUHWwpJVTdOmMQFo3uyX4mNfz495b6v1GMaux8IkxnBppbiHAhSgAAUoQAElwFUcbPwdNGyApDM2jtnevXUbOnZQh3/7XS1mKlP4/nEKdeuknCCrYEnasw9bwlJ2Juf+iir7Pr6/ghcKA/3/h85v211Qy+JkblKAAhSgAAUokPcE2Btn45nPCcaUaRl+o1qmtLG6Rx5RmSKPQ1a+qtcSMp+IIbV+Rf37gmGmEOM+WVBrlA8GrB8eA5/u78at+gev9UO+VavRd7BavZ6JAhSgAAUoQAEKWBPgt3HWVCL3o3EjdWDdemPvmrVS1vfJJB2uBfHoo+qoYQCpZJ5qjb1bjOWv31Bz6v4ehbkL7vkN/Gyh17Z56kgzXwz//MEgBpm21zV5ThH/MZg2yXhiOv9p8RJ2b0LYBrzycjrPYDEKUIACFKAABXKjAHvjrD21ypWMe+s/Ye2w3X2JiQjbiNg4VUjeqOIxlWn2pPptSBLDSarTNWRWwitPe/wwTy2oNf80Jix9EMPJ0RMnDWXRvq0xk/5/JIaTtD558Yb0n8WSFKAABShAAQrkNgH2xtl4YjJuVAKy/PltHLa929AD19kXa5aqQlLJufPwrGh+wrdfYW7PG/dQwgNn3tlTqUFT84PJ+YpNcG6fymVinOyGjVi7EZM/NPYIpqmbOyhAAQpQgAIU0IeAdnvjEhMTJ0+e7Orqun37didYHzyEYe/i1On0ViXRWCZiOKm9UhN1iWqV1e+du7D/gHkM9+tO9HJBUE8ZiFpi/NTTIRdcrcRwcqK/nzp95Fj1O6OpQ3ssnINSVqcJzmhdLE8BClCAAhSggHYFtBvGvfHGG+fOnfPw8HAOnow8nTUNL/V0Tm1Si/ST1Wmhvn6TD+nM04ndasKRqzGY+F881xJNGqs3pDdvXX3pw8Eup8c/h+vAm0FYtW5jy/eqQe5u7AQ5aqxA+u0Mk5X4D1f1f/pf84ozkJdZi+XTun4yZwoTBShAAQpQgAK6FdBuGOfv7z9r1qyCsri7U9KAoaoav45OqUxVcuMmft+tMhu+Vb9NSeKn0K8QEowP3jfsi7lWbFyJC76bPjwBj7Z+cStuoscwIO5B6DY5EGMmqJLy+rViBfh4I2i24cTM//5qozp3gcP1ZL4FPJMCFKAABShAgSwX0G4Y16hR8lhRZwnMmwkZ/jl+tLPqU6NNZfX619/EsMGWdXZOHiLq/XLSgROz+sT2fMYjEjWexeJwt9feWVS4WPJUJPB9HeEydjV53r6mye9hTbWYxrea9mQ0891S9Qb50OGMnsfyFKAABShAAQrkIgGtD3Hw8vJasGCBt7e3VdNy5cpJp13aQ6NHOy9cS1u7/T0/bMerwzGg0/KSY5eOKxwP1GyAEStQtaa10+TN6a1YFDdEdsDFi+oNbMsW1opyHwUoQAEKUIACFEglkLtXcZBXrv379091Qzm7IYs3tG71C1oGftL1HxSWuYD9I9Ak1Vy/qdsnHW+mGE6OPPaY+mGiAAUoQAEKUIAC6RDQ7kvVdDReBhi4lLKW0nOuKiOjEySQqv98Zub1SHuNf/45W3ecHzaPR0QCio3Cu0sTbcdwd+7grYEpa7ZOCFQtkVERkn7+BTJFMBMFKEABClCAAhSwK5C7e+Ps3lo6Dq77RhU6HKHGipYo/vATTv6BGzeMCzykLn32T8yoeuYI1ibhWs+K3/b+XxE0HQ+X1IXMt5Z9rYZBSPowBIF9EThf5T+Yp0aYjn1P5eV9KxMFKEABClCAAhSwLaDR3ri4uLjCyenUqVNt2rSR7MqVK23fRWaPjBiC7r3VSIX0xHDy4Vp1LzWBiBqakJJuXENgL/StiqOo/gI+CUf93n+2xUutUKpkSqG0uVbPP9h3EgFjsC8MvfriwDfsh3vAwn8pQAEKUIACFHiIgEZ744oVK3b37t2HtN3xw+6lsDwkvdWYBpA+yMTfwxcfY0Mg7gNPPI+RS/DYqWZIbJqueYOrVlH9bTIpsUxoJ5OhNHoSi5M75OrVRdOnVLDIRAEKUIACFKAABewKaH2kqt3Gw9PTMzo62n4Zm0clivLtg+U/YU8omj5ts5j5AbOXqhuXYn4v3AFkma2Rkagji6bKINMa1VXxiJ0po0137UblyuYLOZjXxzwFKEABClCAAhTItIBGX6pm+n4ycOKZ6OSuuCg0e8biPamqpO9gNebAYuo1r8flw7hdm9HDBTN7QexGr8MXspqDYeF700zFRYsam/FFiIrnKnkiG3oWM3DnLEoBClCAAhSggB4E8nAYJ9FVxx7GZ3jhYqqHKRMFfzFH7fniS/P9x6phJQ8AABGQSURBVA7hbRcE/gtxQO/PsDIePuarQlSpjL/O4NjxlDEQD16/mlfCPAUoQAEKUIACFHCKQN57qXr2HNr5ot1zkFWwJP2yD3/+hS6dVd+befp4CpZ/gw2LUbWK7L50DtP8cGib6oHr8D76jEehwualbed3/6heqsoqW0wUoAAFKEABClDAqQJ5L4wLmIiPP1CG166rBbUelu7EITgAm2dA5v941hfDZqGku41zZLxCuUedNn9vQgIKaHQAio37524KUIACFKAABbJVIO+9VO3ZXQHLPCP2Y7j4eBmIGvIJurrhuxmoUg5zozBhqe0Ybv03asyph4eags7x1MkX8qVdENe2d5ySNVCAAhSgAAV0K5D3+ntq1Xz4zLqv9opYGzMVy+6hxKPA8I13m7gfQtQlnC+OlPneUv9NxMYat6UXzfEUtkzVEbYZwwc7XhlroAAFKEABClBAlwJ5L4yz/xiTkk7mGzwaw2PxVCGcfXdViRdfA1yKpJwkq6bWrpWyacjJB3aeFdVw1wrlIXPROZ72/oqvVmDkcMdrYg0UoAAFKEABCuhVgGFcypOVBbWm1o6LgoxRvTII/TodegdPpBw15h55JNUumXwueAEG9Vc7Zbq4OrVTHc30xlONIT9MFKAABShAAQpQwLYAwzhlIwtqzRyKH5dK1q0t1vujF37+AU/UMbpduIAff1ILLRQtgkflLatZmjcf/x5g3D6fetYSs1LMUoACFKAABShAAacL5L2RqhaEyzd8MbPc6j1PJwL1W2FECMpXsihhd3PpMvTyTSkhE85xeGkKB3MUoAAFKEABCmShQN4N4xITsWHS1TnjZeXWChXxt/+vZepavMa8fx9fhMKrGny87T2BAwexYxdGDFFlpFKL+efsncljFKAABShAAQpQIPMCeTSM2x2Oz9riJlAMv03EoHoHZqFBfTWC9evVqFbV+F3a/EXo30fRXrpk+S41LbgsqCqzjbgVS3uEeyhAAQpQgAIUoEBWCOSZb+Mi92PGHLw79JhL/U8a4CzgCgxcgM5+1XF/E4okj0UNWYw+vZXy33+jdGnVD2dIFsMajHtT/1PdK/U2tyhAAQpQgAIUoEDWCuSZMK5xx3hEv7+kyyHUlymPOwegz/twLSS4BZN/kpXLexixDSttyRRxly/Dzc0Y5GXtg2DtFKAABShAAQpQIGMCeeKl6s3rWFD9l81/N5SIrYUvBgfBvYwNJllftWRJFCuqFlFgogAFKEABClCAAhoWkJ4pnaZtO+DXD8f/DJmCHqUQ/vdTtbB6PVwCvBepGE662WQsgvxcuZLq/qtUhv9YuLoicFKq/dygAAUoQAEKUIACGhPQbxjn4x2x5NzLNd2WjUFp4NOIe0HooV6i1kz+iO3QEeODMGSuXsW+SOOeRXNVZskG4yb/oQAFKEABClCAApoU0Oe3cTJ373REX0fFooj1XwefjmLvitu3EReHMsnvU1u3woRAFMgPH281S4hh59z/YWA/yAQiIUu4mKkm/1zZKApQgAIUoAAFUgT09m3c8cOY3hqnr6iRCz2D0G0w8udPuVvrOZkfzjBn75RpGOVvvQz3UoACFKAABShAAY0J6Kc3LuYKpvfFr+sh74nbjcSAiShcNH3YEuidOo0jR/Fyu/SdwFIUoAAFKEABClAg5wX0EMbdvY35H+K7qZAFtZq8Av8FcC+bQdmqVSA/TBSgAAUoQAEKUCD3COT2MM5l2ef4aijuAdXKYdQOVK2Ze+zZUgpQgAIUoAAFKOCAQO7+Nq5kwcbPJOwrBQzdjOZt0scgX8LductVs9KHxVIUoAAFKEABCmhXIHdPOFK41PVhS7AsMSMxnIxmeMQN32/V7jNhyyhAAQpQgAIUoEA6BHJ3GFew0L32PdUkvtZT1DEETMS58ylH424b8/sPpuxkjgIUoAAFKEABCuRCgdz+bZxd8tr1gASEbcWhHcZyxR9B+BZIDDdiiN0zeZACFKAABShAAQpoXSB398Y9RLd7T1WgQ6tUxV5srSaHk+W2mChAAQpQgAIUoEBuFsjdQxw8PT2jo6Pt+d+4iRLF7RXgMQpQgAIUoAAFKJA7BXTdGyePJEMx3J9/4fiJ3Pkc2WoKUIACFKAABfKcQG4O43z71Dx7Fm1ftffQZHzDtgcfxtkrB0gMV7UKatbAvkj7Be0cPZuc7BTI/kM//fRT9l/U/hV37EjfE7Ffi/OO7t+//+bNm86rzwk1aY3ICbfEKihAAQpQIAsEcnMYt2yRAglfq35fuKB+LJKseV+xAny8ETTb4oiVzfh44847d6wcTd+uP5NT+spmU6nt27dn05XSfZlNmzalu2x2FJRI9/r169lxpXRfQ2tE6W44C1KAAhSgQLYK5OYwbvKn98VKphQ5cRLly6ufk39Yx/s2HbPEVfdS/XA7d6FFc+uVcC8FKEABClCAAhTQkoB2wzjpRqpbt27p0qUbNmy4d+9eK2ijR56sWBETA3DtQVeKKWMonS8fKjVRWUOPnZUqUu9q9CRjuNQi3KIABShAAQpQQLsCGg3jbt++3a1bt+nTp1+9enX8+PFdunSJN730TIv5dBNsClcTwj3V2PJgyKdAWcwJttzPbQpQgAIUoAAFKJDLBTQaxm3ZsqVy5cpt27YVXonhChcuvHPnTnvUbV+ETAiXNrV6HkmXMah/2iPcQwEKUIACFKAABXK1gEbDuKioqFq1aplka9SocezYMdOmo5mFofh4ChISHK2H51OAAhSgAAUoQIGcE9DoYlxxcXFFihQxsRQtWlT2mDZNGXnlOmXKFNOmKVOtWjVT3iJT8OJFt2HDZOe9S+fjnmthcdTBTYk+pYYLacfMOlivA6cfPnx45cqVDlTg/FNFSVNNioxUU8yUKVPG+bea2RrNiVq0aOHh4ZHZmngeBShAAQroWUCjYZybm5t8HmeCj42NlT2mTVMmISHh1KlTpk1TplSpUqa8RUa6H/8BXIC40u7x165ZHHVw89atW1LDNWdX60ir7ty5o6n2yL3cvXtXU02Sv7QbN27kz5/fEWfnnmtOZO+rUOdelbVRgAIUoEBuE9BoGFenTp3ly5ebMI8ePTpmzBjTpilTrly54OCMD18YOlS9US3g/HvftWuXtE26T0wtzPFMTExM//7a+jTw9OnTmmrS/fv327dvX6lSpRx/WKYGaI3I1DBmKEABClBAUwIa/TaudevW8mpyw4YNghUaGlqgQIHmzZ06nVsWxHCaeq5sDAUoQAEKUIACuhdwfo+UU8hkaOrq1av79evXq1cvGd+wZs0aTb3zcso9shIKUIACFKAABSjgiIBGwzi5pWbNmh05csSRe+O5FKAABShAAQpQQMcCGn2pqmNx3hoFKEABClCAAhRwigDDOKcwshIKUIACFKAABSiQ3QLafama3RLOuF5FWeNVY6lp06YaaxGef/55TTXpySefLF68uKaapDUiTeGwMRSgAAUoYBJwSUpKMm3kuoynp2d0dHSuazYbTAEKUIACFKAABRwX4EtVxw1ZAwUoQAEKUIACFMgBAYZxOYDOS1KAAhSgAAUoQAHHBRjGOW7IGihAAQpQgAIUoEAOCDCMywF0XpICFKAABShAAQo4LsAwznFD1kABClCAAhSgAAVyQIBhXA6g85IUoAAFKEABClDAcQGGcY4bsgYKUIACFKAABSiQAwIM43IAnZekAAUoQAEKUIACjgswjMu84fbt2+vWrVu6dOmGDRvu3bvXoqJvv/22Tp06JUqUqF69+urVqy2OZsWm/fYYrnjy5MmiRYuGhIRkRQPS1mm/SZcvX3755Zfd3d1l9Ysvv/wy7elO32O/PWvWrKldu7aXl1f9+vU3b97s9KtbrTAxMXHy5Mmurq7StrQF7Dc4bXnuoQAFKECBvCUgqzjk3iT//edU4+Pi4sqWLbtp0yZpwMqVK2U9iXv37pkac/78+WLFin3//feyZ+3atUWKFLl586bpaFZk7LfHcEWJGGSVpypVqixatCgr2mBR50Ob1L59+wkTJty/fz8yMlJWxJLyFjU4d9N+ey5evCgB7m+//SYX/fHHH93c3G7duuXcBlitrWfPnkOGDKlUqdK2bdssCthvsEVhblKAAhSgQB4UYG9cJqP2LVu2VK5cuW3btnJ+ly5dChcuvHPnTlNd8pe0cOHCF154QfZ06tRJfp89e9Z0NCsy9ttjuGJwcLCHh8czzzyTFQ1IW6f9Jkmku2fPnoCAgHz58kkMJ5GcRFFpK3HiHvvt+eOPP0qVKiW9cXLFZs2axcfHZ886b/7+/rNmzSpYsGDaO7Xf4LTluYcCFKAABfKaAMO4TD7xqKioWrVqmU6uUaPGsWPHTJvly5fv1q2bYTMiIkJevMqrOtPRrMjYb49cUeLIqVOnzpw5MyuubrVO+006dOiQoI0ePVpeOterV09eaFqtxIk77benQYMG0i9oiMXljarEu1n9yAy31qhRI1v3aL/Bts7ifgpQgAIUyDsCDOMy+azlhZe8KjWdLD1Jsse0acocOXKkd+/eoaGhVrtbTMUczzy0PQMHDgwMDJQXwY5fK5012G/S9evX9+3b17JlyxMnTsyZM8fPz+/MmTPprDlzxey3R16CS4zbpk0beb/52muvff7551n9yB56F/Yb/NDTWYACFKAABXQvwDAuk49Yvp26ffu26eTY2FjZY9o0ZKRTRz7hlw/RfHx8LA45fdN+e5YuXZo/f35fX1+nX9dOhfabVKhQoQoVKhjeOD/33HMyTGTHjh12anP8kP32yFdxI0aMkD5CiSZlwEqfPn1kOIjjF3WkBvsNdqRmnksBClCAAvoQYBiXyecoo1B///1308lHjx6VPaZNyYSHhw8aNEjGQHh7e5vvz6K8/fasWrVKPtt/LDmFhYUNHz583LhxWdQSU7X2myTvUm/cuCGjLgzlJVOgQAHTuVmRsd+erVu3NmnSRFoll5aS8sbc/GPHrGjPQ+u03+CHns4CFKAABSigf4FcPawjB0eq3rlzRz6fWr9+vQDK/B3VqlVLSEiQ/Ndff3369OmrV69KyHTw4MFs47XfHvNmdO/ePXtGqj60SfI52rRp06Rt8vmgvNM8d+6ceTudnrffHhlWLI/swoULcl3pkCtZsqSMwHB6G2xV+Pjjj5uPVDX8FdlqsK1KuJ8CFKAABfKaAHL1DedgGCdu0r8l88YVL15cenEOHDhgkJT/j2X+EZkFzcXFRd4bmpJ8wp/V1HbaY37pbAvj7BPJ0ePHjzdv3lzmjRM0mZbFvJFZlLdPNGnSJAnHpTEyuEG+k8uiNphXK+/iDX8h8tcin+JJXgI4KWD4K5KM1Qab18A8BShAAQrkZQEXufnc2+Uos7Vlz6wQuZeILacABShAAQpQQK8C/DZOr0+W90UBClCAAhSggM4FGMbp/AHz9ihAAQpQgAIU0KsAwzi9PlneFwUoQAEKUIACOhdgGKfzB8zbowAFKEABClBArwIM4/T6ZHlfFKAABShAAQroXIBhnM4fMG+PAhSgAAUoQAG9CjCM0+uT5X1RgAIUoAAFKKBzAYZxOn/AvD0KUIACFKAABfQqwDBOr0+W90UBClCAAhSggM4FGMbp/AHz9ihAAQpQgAIU0KsAwzi9PlneFwUoQAEKUIACOhdgGKfzB8zbowAFKEABClBArwIuSUlJer033hcFKEABClCAAhTQsQB743T8cHlrFKAABShAAQroWYBhnJ6fLu+NAhSgAAUoQAEdCzCM0/HD5a1RgAIUoAAFKKBnAYZxen66vDcKUIACFKAABXQswDBOxw+Xt0YBClCAAhSggJ4FGMbp+eny3ihAAQpQgAIU0LEAwzgdP1zeGgUoQAEKUIACehZgGKfnp8t7owAFKEABClBAxwIM43T8cHlrFKAABShAAQroWYBhnJ6fLu+NAhSgAAUoQAEdCzCM0/HD5a1RgAIUoAAFKKBnAYZxen66vDcKUIACFKAABXQswDBOxw+Xt0YBClCAAhSggJ4F/g/hWLD1ibFCWQAAAABJRU5ErkJggg==)"
      ],
      "metadata": {
        "id": "7waeJzswdw9r"
      }
    },
    {
      "cell_type": "markdown",
      "source": [
        ""
      ],
      "metadata": {
        "id": "bUj2uiyHd1Vh"
      }
    },
    {
      "cell_type": "code",
      "metadata": {
        "id": "A1WLizby-eh_",
        "colab": {
          "base_uri": "https://localhost:8080/",
          "height": 300
        },
        "outputId": "13bbce40-a0d1-4309-a4a7-ba08fa0ceb4c"
      },
      "source": [
        "dfClean.describe()"
      ],
      "execution_count": 22,
      "outputs": [
        {
          "output_type": "execute_result",
          "data": {
            "text/plain": [
              "         Duration       Pulse    Maxpulse     Calories\n",
              "count  162.000000  162.000000  162.000000   162.000000\n",
              "mean    64.197531  107.709877  134.265432   377.435095\n",
              "std     43.151882   14.711588   16.471618   267.381894\n",
              "min     15.000000   80.000000  100.000000    50.300000\n",
              "25%     45.000000  100.000000  124.000000   255.075000\n",
              "50%     60.000000  105.500000  131.000000   320.700000\n",
              "75%     60.000000  111.000000  141.000000   386.700000\n",
              "max    300.000000  159.000000  184.000000  1860.400000"
            ],
            "text/html": [
              "\n",
              "  <div id=\"df-ded2f64d-6e15-48c8-a3af-ddaf9462c87d\">\n",
              "    <div class=\"colab-df-container\">\n",
              "      <div>\n",
              "<style scoped>\n",
              "    .dataframe tbody tr th:only-of-type {\n",
              "        vertical-align: middle;\n",
              "    }\n",
              "\n",
              "    .dataframe tbody tr th {\n",
              "        vertical-align: top;\n",
              "    }\n",
              "\n",
              "    .dataframe thead th {\n",
              "        text-align: right;\n",
              "    }\n",
              "</style>\n",
              "<table border=\"1\" class=\"dataframe\">\n",
              "  <thead>\n",
              "    <tr style=\"text-align: right;\">\n",
              "      <th></th>\n",
              "      <th>Duration</th>\n",
              "      <th>Pulse</th>\n",
              "      <th>Maxpulse</th>\n",
              "      <th>Calories</th>\n",
              "    </tr>\n",
              "  </thead>\n",
              "  <tbody>\n",
              "    <tr>\n",
              "      <th>count</th>\n",
              "      <td>162.000000</td>\n",
              "      <td>162.000000</td>\n",
              "      <td>162.000000</td>\n",
              "      <td>162.000000</td>\n",
              "    </tr>\n",
              "    <tr>\n",
              "      <th>mean</th>\n",
              "      <td>64.197531</td>\n",
              "      <td>107.709877</td>\n",
              "      <td>134.265432</td>\n",
              "      <td>377.435095</td>\n",
              "    </tr>\n",
              "    <tr>\n",
              "      <th>std</th>\n",
              "      <td>43.151882</td>\n",
              "      <td>14.711588</td>\n",
              "      <td>16.471618</td>\n",
              "      <td>267.381894</td>\n",
              "    </tr>\n",
              "    <tr>\n",
              "      <th>min</th>\n",
              "      <td>15.000000</td>\n",
              "      <td>80.000000</td>\n",
              "      <td>100.000000</td>\n",
              "      <td>50.300000</td>\n",
              "    </tr>\n",
              "    <tr>\n",
              "      <th>25%</th>\n",
              "      <td>45.000000</td>\n",
              "      <td>100.000000</td>\n",
              "      <td>124.000000</td>\n",
              "      <td>255.075000</td>\n",
              "    </tr>\n",
              "    <tr>\n",
              "      <th>50%</th>\n",
              "      <td>60.000000</td>\n",
              "      <td>105.500000</td>\n",
              "      <td>131.000000</td>\n",
              "      <td>320.700000</td>\n",
              "    </tr>\n",
              "    <tr>\n",
              "      <th>75%</th>\n",
              "      <td>60.000000</td>\n",
              "      <td>111.000000</td>\n",
              "      <td>141.000000</td>\n",
              "      <td>386.700000</td>\n",
              "    </tr>\n",
              "    <tr>\n",
              "      <th>max</th>\n",
              "      <td>300.000000</td>\n",
              "      <td>159.000000</td>\n",
              "      <td>184.000000</td>\n",
              "      <td>1860.400000</td>\n",
              "    </tr>\n",
              "  </tbody>\n",
              "</table>\n",
              "</div>\n",
              "      <button class=\"colab-df-convert\" onclick=\"convertToInteractive('df-ded2f64d-6e15-48c8-a3af-ddaf9462c87d')\"\n",
              "              title=\"Convert this dataframe to an interactive table.\"\n",
              "              style=\"display:none;\">\n",
              "        \n",
              "  <svg xmlns=\"http://www.w3.org/2000/svg\" height=\"24px\"viewBox=\"0 0 24 24\"\n",
              "       width=\"24px\">\n",
              "    <path d=\"M0 0h24v24H0V0z\" fill=\"none\"/>\n",
              "    <path d=\"M18.56 5.44l.94 2.06.94-2.06 2.06-.94-2.06-.94-.94-2.06-.94 2.06-2.06.94zm-11 1L8.5 8.5l.94-2.06 2.06-.94-2.06-.94L8.5 2.5l-.94 2.06-2.06.94zm10 10l.94 2.06.94-2.06 2.06-.94-2.06-.94-.94-2.06-.94 2.06-2.06.94z\"/><path d=\"M17.41 7.96l-1.37-1.37c-.4-.4-.92-.59-1.43-.59-.52 0-1.04.2-1.43.59L10.3 9.45l-7.72 7.72c-.78.78-.78 2.05 0 2.83L4 21.41c.39.39.9.59 1.41.59.51 0 1.02-.2 1.41-.59l7.78-7.78 2.81-2.81c.8-.78.8-2.07 0-2.86zM5.41 20L4 18.59l7.72-7.72 1.47 1.35L5.41 20z\"/>\n",
              "  </svg>\n",
              "      </button>\n",
              "      \n",
              "  <style>\n",
              "    .colab-df-container {\n",
              "      display:flex;\n",
              "      flex-wrap:wrap;\n",
              "      gap: 12px;\n",
              "    }\n",
              "\n",
              "    .colab-df-convert {\n",
              "      background-color: #E8F0FE;\n",
              "      border: none;\n",
              "      border-radius: 50%;\n",
              "      cursor: pointer;\n",
              "      display: none;\n",
              "      fill: #1967D2;\n",
              "      height: 32px;\n",
              "      padding: 0 0 0 0;\n",
              "      width: 32px;\n",
              "    }\n",
              "\n",
              "    .colab-df-convert:hover {\n",
              "      background-color: #E2EBFA;\n",
              "      box-shadow: 0px 1px 2px rgba(60, 64, 67, 0.3), 0px 1px 3px 1px rgba(60, 64, 67, 0.15);\n",
              "      fill: #174EA6;\n",
              "    }\n",
              "\n",
              "    [theme=dark] .colab-df-convert {\n",
              "      background-color: #3B4455;\n",
              "      fill: #D2E3FC;\n",
              "    }\n",
              "\n",
              "    [theme=dark] .colab-df-convert:hover {\n",
              "      background-color: #434B5C;\n",
              "      box-shadow: 0px 1px 3px 1px rgba(0, 0, 0, 0.15);\n",
              "      filter: drop-shadow(0px 1px 2px rgba(0, 0, 0, 0.3));\n",
              "      fill: #FFFFFF;\n",
              "    }\n",
              "  </style>\n",
              "\n",
              "      <script>\n",
              "        const buttonEl =\n",
              "          document.querySelector('#df-ded2f64d-6e15-48c8-a3af-ddaf9462c87d button.colab-df-convert');\n",
              "        buttonEl.style.display =\n",
              "          google.colab.kernel.accessAllowed ? 'block' : 'none';\n",
              "\n",
              "        async function convertToInteractive(key) {\n",
              "          const element = document.querySelector('#df-ded2f64d-6e15-48c8-a3af-ddaf9462c87d');\n",
              "          const dataTable =\n",
              "            await google.colab.kernel.invokeFunction('convertToInteractive',\n",
              "                                                     [key], {});\n",
              "          if (!dataTable) return;\n",
              "\n",
              "          const docLinkHtml = 'Like what you see? Visit the ' +\n",
              "            '<a target=\"_blank\" href=https://colab.research.google.com/notebooks/data_table.ipynb>data table notebook</a>'\n",
              "            + ' to learn more about interactive tables.';\n",
              "          element.innerHTML = '';\n",
              "          dataTable['output_type'] = 'display_data';\n",
              "          await google.colab.output.renderOutput(dataTable, element);\n",
              "          const docLink = document.createElement('div');\n",
              "          docLink.innerHTML = docLinkHtml;\n",
              "          element.appendChild(docLink);\n",
              "        }\n",
              "      </script>\n",
              "    </div>\n",
              "  </div>\n",
              "  "
            ]
          },
          "metadata": {},
          "execution_count": 22
        }
      ]
    },
    {
      "cell_type": "markdown",
      "source": [
        "![image.png](data:image/png;base64,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)"
      ],
      "metadata": {
        "id": "riVh5GGNd9oq"
      }
    },
    {
      "cell_type": "markdown",
      "source": [
        "![image.png](data:image/png;base64,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)"
      ],
      "metadata": {
        "id": "PsmJOMl4eCpq"
      }
    },
    {
      "cell_type": "markdown",
      "source": [
        "![image.png](data:image/png;base64,iVBORw0KGgoAAAANSUhEUgAAA9oAAAERCAIAAAALxUhOAAAYhWlDQ1BJQ0MgUHJvZmlsZQAAWIWVeQc8lt/7/7nHM3nsvWWTvUn23nuk8tibHltISKKSjBQtfIoUTVRCRkOyGkolRaFUGlbI7zbq8/l+vv/X//f6ndfr3Of9XOc613Wd64zrvp4bAN6X1MjIUJgJgLDwaJqDqYGQm7uHEOE9QIAgYAFCgEj1iYrUt7OzAlj53f5nmXkKoJX2keyKrP/u//8WFl+/KB8AIE8Me/tG+YRhuAUAtNQnkhYNAH6FLhIXHbmCUzHMRsMMxHDBCg5Yw5Ur2HsNN67yODkYYrgXACI9lUoLAIDhJUYXivUJwOQwLGJ9LOG+QeEAsGMzx2/2CaT6AsBrh/FsDAuLWMFJGJbE+CMxXIFhDe9/yAz4D/nef+RTqQF/8Nq8VgvRKCgqMpSa8H90zf9ewkJjfusQxyp9IM3MYWX+mA+fhURYrmB6DE+Ge9vYrvgaw3NBvmt+BwAmB8aYOa/xw3w+UYaY/wAHhhV8qUaWGObDsEl4qI3VOt3bP8jEHMOYz+D4oGhzJwxzYTjLL8rYcZ3nFC3CYV0XXOdPM9Rfp9+j0lb1rugaiglx1l+X/y3Qz3xdPsKQGOjkimEyhkVjg1xsMMyAYbmoEEfLdZ5NiYGGNr95aDEOK/aLYtjBL9zUYE0+EutPM3FY588Oi/o9X+RUYJC5zTq+HB3oZLbmH6Tdh7pqPzYXpNcvXN/5txy/KDer33Px9TMyXps7Mu4X7uy4LmcuMtrAYW0sSo4MtVvnRzf4hZqu0DdgWCUq1nF9LOoSjW3ONfmof2S0ndOanWhiMNXCbs0e9BCwAobACDt9MVj1BhEgGAR1T9ZPYr/WekwAFdBAAPADsuuU3yNcV3vCsacjSASfMOQHov6MM1jt9QOxGH3pD3XtKQv8V3tjV0eEgPcYDgOWIBT7HbM6KvyPNhcwilGC/ks7Fas+mL2hWF3p/3/Tf1P/puhjFKt1SsxvjUKMvznxxngjvBneBC+F8qCbUW3UCnvqYVUJ1UA1f8/jb37ce1wf7i3uCW4Y93x7UBrtX1Zag2FMvsm6L7z/6QtUHJOpihqgOph0TDLKgfIAWVQF06OP6mKaVTGq4brdK14R+pfs/5jBP1ZjnY+kQIJJnCQ9kuS/RzJIM6j+kbLi63/6Z81W7z/+NvzT82/9hv/wvi/WWv6bE8lCriB3kdvIfaQRqQdCSDPSgHQht1bwn901urq7fmtzWLUnBJMT9F/6fq/siiejFKoVJhQW1/qi/eKjVw6eYURkAi0oIDBaSB+LDn5C5uE+chuFlBSUlABYiTVr19d3h9UYAnH0/E2jYrFEA+MiG/xNi8DujJpC7Mgc/Zsmjp1pbk0ALjv4xNBi12joygOH3RKM2EnjBgJABEhi81ECakAb6AFjYAFsgRNwB9sw6wOxfU4DcSAJ7AaZIAccAoXgGDgJykEluAAug3rQCG6DO+AB6AVPwAts97wDH8EUmAELEAQRIArECnFDgpAYJAMpQRrQZsgYsoIcIHfICwqAwqEYKAlKh3Kgw9Ax6DRUBV2CrkO3oftQH/QcegNNQN+gnzAC08NsMD8sDsvDGrA+bAk7wVvhAHgHnAhnwAfhYrgMPg/XwbfhB/ATeBj+CE8jAKFDOBBhRBbRQAwRW8QD8UdoSAqSjRQhZUgNcgNb50fIMDKJzKN4lBUVQmWxHWyGOqM+6A40Bd2PHkMr0Tq0HX2EvkGn0F84Co4PJ4PTwpnj3HABuDhcJq4IdwZ3DdeBnaV3uBk8Hs+Bl8CrY2fRHR+M34nfjz+Or8W34PvwI/hpAoHATZAh6BBsCVRCNCGTcJRwntBM6Ce8I8wR6YiCRCWiCdGDGE5MIxYRzxGbiP3EMeICiYkkRtIi2ZJ8SQmkXFIF6Qaph/SOtEBmJkuQdchO5GDybnIxuYbcQX5J/k5HR7eBTpPOni6ILpWumO4i3T26N3Tz9Cz00vSG9J70MfQH6c/St9A/p/9OoVDEKXoUD0o05SClitJGGaLMMbAyyDGYM/gy7GIoYahj6Gf4zEhiFGPUZ9zGmMhYxHiFsYdxkonEJM5kyERlSmEqYbrONMA0zczKrMhsyxzGvJ/5HPN95nEWAos4izGLL0sGSzlLG8sIK8IqwmrI6sOazlrB2sH6jg3PJsFmzhbMlsN2ga2bbYqdhV2F3YU9nr2E/Rb7MAfCIc5hzhHKkctxmeMpx09Ofk59Tj/OfZw1nP2cs1y8XHpcflzZXLVcT7h+cgtxG3OHcOdx13O/4kF5pHnseeJ4TvB08EzysvFq8/rwZvNe5h3kg/mk+Rz4dvKV83XxTfML8JvyR/If5W/jnxTgENATCBYoEGgSmBBkFdwsGCRYINgs+EGIXUhfKFSoWKhdaEqYT9hMOEb4tHC38MIGiQ3OG9I21G54JUIW0RDxFykQaRWZEhUUtRZNEq0WHRQjiWmIBYodEbsrNisuIe4qvle8XnxcgkvCXCJRolripSRFUldyh2SZ5GMpvJSGVIjUcaleaVhaVTpQukS6RwaWUZMJkjku07cRt1FzY/jGso0DsvSy+rKxstWyb+Q45Kzk0uTq5T7Li8p7yOfJ35X/paCqEKpQofBCkUXRQjFN8YbiNyVpJR+lEqXHyhRlE+Vdyg3KX1VkVPxUTqg8U2VVtVbdq9qquqSmrkZTq1GbUBdV91IvVR/QYNOw09ivcU8Tp2mguUuzUXNeS00rWuuy1hdtWe0Q7XPa45skNvltqtg0orNBh6pzWmd4s9Bmr82nNg/rCutSdct03+qJ6PnqndEb05fSD9Y/r//ZQMGAZnDNYNZQyzDZsMUIMTI1yjbqNmYxdjY+ZjxkssEkwKTaZMpU1XSnaYsZzszSLM9swJzf3Me8ynzKQt0i2aLdkt7S0fKY5VsraSua1Q1r2NrCOt/6pY2YTbhNvS2wNbfNt31lJ2G3w+6mPd7ezr7E/r2DokOSw11HVsftjuccZ5wMnHKdXjhLOsc4t7owuni6VLnMuhq5HnYddpN3S3Z74M7jHuTe4EHwcPE44zG9xXhL4ZZ3nqqemZ5Pt0psjd96fxvPttBtt7Yzbqduv+KF83L1Oue1SLWlllGnvc29S72nfAx9jvh89NXzLfCd8NPxO+w35q/jf9h/PEAnID9gIlA3sChwMsgw6FjQ12Cz4JPBsyG2IWdDlkNdQ2vDiGFeYdfDWcJDwtsjBCLiI/oiZSIzI4d3aO0o3DFFs6SdiYKitkY1RLNhL/VdMZIxe2LexG6OLYmdi3OJuxLPHB8e35UgnbAvYSzRJPGvnehOn52tScJJu5PeJOsnn06BUrxTWneJ7MrY9S7VNLVyN3l3yO6HaQpph9N+pLum38jgz0jNGNljuqc6kyGTljmwV3vvySw0Kyire5/yvqP7fmX7ZnfmKOQU5Szu99nfeUDxQPGB5YP+B7tz1XJPHMIfCj/0NE83r/Iw8+HEwyP51vl1BUIF2QU/CrcX3i9SKTp5hHwk5shwsVVxw1HRo4eOLh4LPPakxKCktpSvdF/p7HHf4/0n9E7UnOQ/mXPy56mgU89Om56uKxMvKyrHl8eWv69wqbj7l8ZfVWd4zuScWTobfna40qGyvUq9quoc37ncarg6pnrivOf53gtGFxpqZGtO13LU5lwEF2MufrjkdenpZcvLrVc0rtRcFbtaeo31WnYdVJdQN1UfWD/c4N7Qd93ieusN7RvXbsrdPNso3Fhyi/1WbhO5KaNpuTmxebolsmXydsDtkdbtrS/a3Noet9u3d3dYdty7Y3Kn7a7+3eZ7Ovca72vdv96p0Vn/QO1BXZdq17WHqg+vdat11/Wo9zT0avbe6NvU19Sv23/7kdGjO4/NHz94YvOk76nz02cDngPDz3yfjT8Pff51MHZw4UXqS9zL7FdMr4qG+IbKXku9rh1WG771xuhN11vHty9GfEY+jkaNLr7LeE95XzQmOFY1rjTeOGEy0fthy4d3HyM/LkxmfmL+VPpZ8vPVL3pfuqbcpt59pX1d/rb/O/f3sz9UfrRO200PzYTNLMxmz3HPVc5rzN/96fpzbCFukbBYvCS1dOOX5a+Xy2HLy5FUGnX1VQDBKuzvD8C3swBQ3AFgxfI28pa1XHC9INjLB4y1LpAc9BFuR9JRR5weXoLAQ+QiCZJ16GzoQyiHGK4zTjLLsvixlrONcEhzJnA18zDyuvJV8H8X3CSUIfxQhFnUQeyA+ANJIKUs7S9zZGOn7Ky8pIK9YqpStfITVVhNUX2rRrZmndabTRQdjc1euvv0Lum/NCQaqRn7mBwybTAbsoAsRa1MrYNtcm2v2j2zn3PkcFJ2tnUJcz3gVuP+wOPNlinP2a0L24EXmcrtLeuj7+vgt93fL4Aa6Bi0KVgoBAoZDm0OOxWeHhEYabdDgyYURYz6Ev00pim2Mi4/PiUhNNF9p3mSTrJ6itouzVT93ZZprul+GdF79mQW7K3IurKvJbsr5+n+1wfGDn7K/XZoOm/m8HT+dMHPIvQIe/HGo6bHfEp2lRYfrznRfPLBqcenB8uGyycqfpxBzrJXSlcZnPOsjjtfcOFyTV/t10vMl5WvOF6Nunaorqr+RsPt6203Wm7ebLx2q7apqrm85fjtwtbstqT24A7HO2p3ue7O3xu+39N550Fb1+2Hjd21PcW9UX2G/ZT+R49KHvs/UX2KezowUPks9rneIH7wLra/VF+Ovcob0h4aeX1gWHv445uTbx1GkJHaUefR+XcF7ze+bx5zGBsd3zMhPzH6ofJj+KTy5PSn2s8+X5i/XJuym3r/Nekb57c733N/hE9TZ/yxfTT6s2NJbnl5df1FoItwMKKEjKOXcKl4N4IOUZYkQZag20CvQNFisGf0YUphPsnSxDrBzsShwUnlyuK+yjPER8evLLBFMFXotHDzhhci02J04oISqpLmUl7SCTL5Gy/JdsmNK6CKwkqblD1UolVz1CrUr2s81Hyr9WMTXod3s6KutV6ofq7BRcNeo08mRFN+MyVzYwtnSx+rcOt4mxTbdLs99pkOWY7ZTvuds10yXBPcAt2dPIy26HqabPXYFre90OsitdW706fD95pfqf/OANdAhSD6oMng3pAboVVhJeG5EWmRtB2eNL0owaiF6CcxF2Iz47zjjRMUEkV38idxJ7OnMO3C75pJfbu7M+1SemFG3J6tmRZ7jbKs9lGzd+f8tf/OgaGDn3OnD83mTR/+nj9V8KlwsujzkbmjTMc0S8JLzxzvPjFycuLUu9Ovy56X91Xc+6vpTOPZzspP54Srt54vvfC8lu2izaUs7PaavyZX51tf0tB/A3dTpXH7rT1NZ5obW5pun2s91JbcHteReif37vF75fdPdB58ENPl+FC2G+0e7Lncm9MX3G//yPix8RP7p94DMc8ynu8dTH7h/9LwFc+ryaHrr/cOu72RfUt8+36kbfT4ux3v9cboxx6Pl0/s+hD00Xcy8FPY58gvkVORX2nfYr8n/IibDpoxnWWcvTJnPPdg3mP+08/eRfqlwdX1lwHtkCX0DPZD8EguKoP24BLx8vgJwl/EQJI8aZ7cSXeSPo7iwKDEyMA4w/ScuYWlijWfLZk9gMOBU4dLipude5FnnLefr4m/RqBcsESoSLhgQ65IpmisGFXcWEJIYk6yS+qkdJSM2UZhWVh2Qm5A/p7CDcVzSsXKqSpeqppqeLUe9UINN01uzedax7V9Nynp4HWGNtfp5uoF6hsZiBsyGQGj78ZjJk9Nb5oVmftZiFkMWxZb2VoTrNts0m3N7bjsPtg3OeQ7BjppO1Och1wuuCa5Wbizu7/2qNwSgcX/+a23tqVuN/QievVRS71DfDb50vsO+p313xGgEbAY2ByUGqwXAkJaQneHGYaj4R0ReyL1I+d2VNPcsZhdFW0b/SOmOHZT7FBcajx//K0Er0SOxMGd1UnpyW4pkikzu9pS83cHpBmlS2dw7aHLBJk/9o5kPdxXm70/h7pf5QDhwODBi7nZh0LyTA+zHL6TvyV/siCxUL/I4EjWUeKx7JLR49wnlE5qntI8rVomXy5ZIfwX9xnms+RKUhUjtpN0zntd2FtzofbRxcXLklc8rh6+1lfP1uB+vfTGQCPullSTabN3y67bJ1qb2l63L98Rvmt4L+D+/s5LD552LXVL9WzpPdI39Ejp8YEnnwccn10fFH5R+Er+NcObuNGc8YRPNt9m5u1X1n/tP8GVglcDIB/LM10OYHUCgLx6LM+8CQAnGQA7CgBOmgDeWwNg0xoAhez5Ez8gLPEkYjknBxAEUkAFyzStgAeWNceDfVhGeR40gX7wHixCLJAUpIflh1HQASwf7IBGYAgWhg1gX3gvluX1wz8REcQaSUQqkQGUiGqhYWg5+hzHgrPEMrI2PITXw6fiWwk4ggXhEOEZUZgYSrxOIpBcSZWkn2Rr8mnyLJ0NXSU9Su9N30YRo+yjfGZwYmjEMp08JsC0g2mU2Z25h8WE5RarBmsdmxZbG7sD+whHDCees4hLnKuB24Z7nCeLV5F3hO8kv7eAjMCc4B2hQmHfDSoieJEXolfEcsVDJSwlZaQoUlPST2RubjwhmyLnKa+pwKYwpfhQ6ZzyPpVAVQs1OXV29WWNT5pDWv3anZs6dNo339Xt1hvUHzeYMQLGeOyeI5oRzUkW9JZsVsLWKjY2tuF2BfaNDu+cKM4qLu6uyW6n3Ns9xjzptipsc9me5FVB7fae8xX1c/TfE9AY+DPYMORo6Hy4T0T/DhNaY7RKTG2cbPylxE07e5MjdvGlPk0ryLDaM7O3YN/G7I79fgfZc1/nPcx/VbhcLHRMs9TqxPZTCWWnKgbPyladOq9QM3zp9NVt9XTXaxq3Nsu0CnaY3Cvrou+R7Jt5nDcg+bzv5YnXR972v/eamP/E8uX8N/BDYUZzdnk++2fDwuPFm0vlvyKX1VfvD2j1PwcWwAvEgRLQBdbAE4SBFJAHKsB10APegSWIA5KHLCB/KB0qg25Db2EUloCtYBp8DG6DvyB8iCWShNQioygP6oDmoB04CKeD24m7iVvE6+LT8fcJTAR3wl+Eb0R9Yj7xPUmblE+aJJtga75I50Z3FcuEafSPKZqUUwx0DPEMY4zujN1MJkwtzJuZm1kMWTpZHVlfYZnpT/ZcDmmOB5w7uDi46rjtud/zJPBSeCv49PhG+fMELAQZBF8JXRE+uCFIxECUS/Sj2C3xQxL+kgZSYtIsMsSNOFmiHIM8iwKzIlFxXmlceUClU/W22m31To0Xmt+0GTYp6NhvDtKN1qPpBxq4GZoaaRqrmGiYmpptN0+xOG1512rKhtfW2C4Ei2kFjkecCp0LXE65Nrt99VDdkur5cJvA9mivHm8RH3/fQr9r/t0Bo4ELwRwhyqFOYbHhxyJaIj/QOKNMomNjzsYOxjMlWCfm7nyWLJ6SvGtkd0A6U0ZnZnQWft/eHHR/1kHe3La8tHy3QsMj2ke1S7SPa56UOo2W3amIPcN79laVdzX7+Vc1HRd7Lk9fU6xPuv6gkbHJqIXWeqZ94q7B/ctdit2lva/6fzz++nTs2cjg+Msfr6E35BG2d6JjZhNFk+pfsr+fmQ2d717IWGxb+vFrfnX9Yez0MwMBIAs2A3vgD5JBEbgIusAHiATJQNYQDSqGWqAPMAdsBEfDZ+BBhBkxRzKQFmQJ1UYT0RvoIk4fl40bwEvhd+NfETYTyohEYgTxMUmTdJwMk4PJT+iM6G7Sa9LfpthR3jOkMQoztjB5Ms0wH2KRZXnIGs5GYatkN2B/yZHAKcDZzXWQ25vHgFeaj41vgf+VQIPgYaEwYasNCiJconjRebGv4l8kvksuSTPIiG7Uk/WSS5U/rtCg+EjpuwqPqrlamnqbJr2Wp/ZFHQL2rtqkv8Eg34jDuMbUw5zZos/qmE2EnbODkuOgs4dLl5uZ+6Mt/p5z29K9IGqk9xNfdb/SAFLg7mBySHmYdQSIrKdFRAvEtMXFJPju/JxSkZqw+2naYga8h5jJtFc5K2rf4xzn/RMHsw7J5T3PzyrULvpaXHVsWyn5+NmT6qdulemWt/xldKaz0q7qcbXT+d4ak9rrlyQvH7lKvJZct9iw74b4zd5bac1qLROtpe22d9C7N+9HPZDpGu0+0evWz/ao/0nugMWz5cHzL21fjb+OGV56mzaKvEsbg8fTP6Afd01+/mzyJWHq+NcD32K+G32f/XFu2mb6xUzgzMxs7OzEnOdcz7zhfPVPys/In/0LqgvFC18XzRfLFheWnJYu/EJ+uf06vwwtOy+fW1n/KH9lpdXwAdEbAIAbWl7+Lg4A4TAAS3nLywtly8tL5Viy8RKAltC170yrsYYJgNLXK6hT+tHiv7/xrH2D+kce8+8WrEaiVa1YJFopK1EJ/A9clfBJMMiI/AAAADhlWElmTU0AKgAAAAgAAYdpAAQAAAABAAAAGgAAAAAAAqACAAQAAAABAAAD2qADAAQAAAABAAABEQAAAADewQX6AABAAElEQVR4Ae3dBXwT5xsH8DdJU3cXihUZrmMDhrsOGM7QsQ2bMcaEjcEYU8bYnzHcYbgOK27DbbhbBahrKrH/c01J09TSNmmSu999+JTL3XuvfN9L8/Ty3nsitVrNsEAAAhCAAAQgAAEIQAAC5hAQm6NQlAkBCEAAAhCAAAQgAAEIcAIIx3EeQAACEIAABCAAAQhAwGwCCMfNRo+CIQABCEAAAhCAAAQggHAc5wAEIAABCEAAAhCAAATMJoBw3Gz0KBgCEIAABCAAAQhAAAIIx3EOQAACEIAABCAAAQhAwGwCCMfNRo+CIQABCEAAAhCAAAQggHAc5wAEIAABCEAAAhCAAATMJoBw3Gz0KBgCEIAABCAAAQhAAAIIx3EOQAACEIAABCAAAQhAwGwCCMfNRo+CIQABCEAAAhCAAAQggHAc5wAEIAABCEAAAhCAAATMJoBw3Gz0KBgCEIAABCAAAQhAAAIIx3EOQAACEIAABCAAAQhAwGwCCMfNRo+CIQABCEAAAhCAAAQggHAc5wAEIAABCEAAAhCAAATMJoBw3Gz0KBgCEIAABCAAAQhAAAIIx3EOQAACEIAABCAAAQhAwGwCCMfNRo+CIQABCEAAAhCAAAQggHAc5wAEIAABCEAAAhCAAATMJoBw3Gz0KBgCEIAABCAAAQhAAAIIx3EOQAACEIAABCAAAQhAwGwCCMfNRo+CIQABCEAAAhCAAAQggHAc5wAEIAABCEAAAhCAAATMJoBw3Gz0KBgCEIAABCAAAQhAAAIIx3EOQAACEIAABCAAAQhAwGwCCMfNRo+CIQABCEAAAhCAAAQgYAMCCEAAAhDIK6BISZFFRKTHxkUeOfpg49ZaY0Y7BgZIXVzsvb3svX0c/P2YGJcz8rJhCwQgAAEIFFtApFari30QDoAABCDAL4HMhIRbfy2QRUUl3n3w7PCFlIxIeVENdGJin1eb+tSrJU+VNfrmK7caNYo6AvshAAEIQAAC+QggHM8HBZsgAAEhCKjl8mdHjz3etuPBttDo5/c0TVaXf0NduZayYi2VVzmFT7DKyV3p6kO7RCqlKEPGRCKxLFES/0wSEy5+9kDy+Kbo8hbNgbaMVW7fpWLPrpX69nUI8BcCINoIAQhAAAJGEUA4bhRGZAIBCFiPgFIZtmfv3bXrbm74my6Bi5iDstXb8rqtM+q0kXsHlKAZIrnC/s5p22vHpMd3qV+cpRwCq9atMXJwteHDHAJLkmEJ6oBDIAABCEDAegUQjltv36HmEIBA8QRSHz/5u1JFBWNpFIXb15B3H5TWamBmUNXi5VJoanF6uuP5f+yOb1Zf3EgJRYx1W7Co+rvvYKB5oWzYCQEIQEDQAgjHBd39aDwEBCIQ9e+ps99Mv3dkP7VX1XykrP/nGcHVTdp2cUaG04kNtn8Np1JcmGvTX7+tMfZ9iZOTSQtF5hCAAAQgYI0CCMetsddQZwhAwFCBiH2hJz6aHHn3KmOVMiZ8l9pykNpGYujBxkhn9/SW48afJKdWUalNJ39Rf8qXUldXY2SMPCAAAQhAgCcCCMd50pFoBgQgoCfw4viJo+9/GHH7ijqwWfro72T12+klKMuXkqR4lw3f2+ydTUF5i2+n15k8ycbRsSwrgLIgAAEIQMBiBRCOW2zXoGIQgEAJBZLu3Dn23oR7xw8yp1qyz+en1W5RwoyMfZgkOdHl72k2oXMcGGu3dHnVkcNpqhZjF4L8IAABCEDAygQQjltZh6G6EIBAIQIKmWzH6y2fXLsoYl7pny5Oad67kMTm2iWNeeaybLLozBqqwLAzZ71fa2KumqBcCEAAAhCwBAGE45bQC6gDBCBgBIHwXbt39+iZylTqSq3jfz5YxmPEi9sAp3+32v/2Fh3VeNTopr//hgHlxQVEeghAAAK8EUA4zpuuREMgIFyBjLi4I0NH3dyzQ12zW/InS+ReVvIUHjVz2bvQbskYGrvSbec/wT26C7cL0XIIQAACAhZAOC7gzkfTIcALgafbd+zu3SudsfRPNqa06Gd1bbKJi3KdM1p0/Z96A99uueBPqZub1TUBFYYABCAAgdIIIBwvjR6OhQAEzClAI8WPvzf2ytpV6gZ9Ez9ZqnS24gkEnY9vtJ8zwJlJ3jx53Ld5M3OyomwIQAACEChbAYTjZeuN0iAAASMJxJ6/sK1J62SWmv7RupRWA42UqzmzsYl74frdW6Kn/7b66ptGM6bhQZ7m7AyUDQEIQKAMBRCOlyE2ioIABIwksK9rz5t7/2GeDZJ+2Cn3LWekXC0gGzVz2/CDzcYpVJXxL6LsfH0soE6oAgQgAAEImFYA4bhpfZE7BCBgXAFlWtrhoSOvbdlAz56P25SolvBw3m6n83vsf+zmxFivY8f9WlrKpOnG7UfkBgEIQAACWgGE41oKrEAAApYukPr4ybam7aOf30+bvDP19R6WXt1S1E+SnOA29U3Rk+Od5/5Zc8L4UuSEQyEAAQhAwNIFEI5beg+hfhCAgEbg2aHDW9q3y2Tlk+cdywyoyH8WNXNf+bVk58x6/Qa1XbtSJJXyv8loIQQgAAFBCiAcF2S3o9EQsDaB2/MXho4bo6jSLuG7f1T2NE+3UBbNjCvBdV/tcWSfnaenUJqNdkIAAhAQkgDCcSH1NtoKAWsUUKlOjhl/bvECZZdPE0bPYjwcK15Er9g9/M9lUnMXxgbcueRSrVoRqbEbAhCAAASsTQDhuLX1GOoLASEJKNPT93XrdftwqHzciuT2w4XU9FxttYmPdn/3Danqbt/DR/zbtM61Dy8gAAEIQMDKBRCOW3kHovoQ4K9AZnz81tfbRt69kvbtYVm9NvxtqEEtE6enu0/pIn50tNe69ZUGDjDoGCSCAAQgAAFrEEA4bg29hDpCQHgCsqdhCyqUp3anzvovvXJd4QHk02KRirnPGio+s+bV0e+1WLwwnxTYBAEIQAACViggtsI6o8oQgADPBRJv3lxToQY1MmX2dcTi2s5Wi1n85NXMq9H5JYsuTpmq3Y4VCEAAAhCwagGE41bdfag8BHgoEHfx0ppatVLdQhJWJmRUrMXDFpauSbGLL8jf+evYDzP+HTOeqdWlywxHQwACEICA+QVszF8F1AACEIDAS4HnR49tbNNaHtgsYdZBQU1o+BLAoP+Tuo11dnI/+7/B6YlJ7dasYBKJQYchEQQgAAEIWKQAwnGL7BZUCgKCFKAH/Wxq305RtX3893vVUvx2KuwkSGk9SG3rcHVWb0VySqcdmxGRF4aFfRCAAAQsWwCDVSy7f1A7CAhGIGJf6Mb27eT1esfN3IdY3JBuT23WK+2r0Bu7t+/r0UctlxtyCNJAAAIQgIAFCmBmFQvsFFQJAoITiNi7b3PXLvKG/RK+2kg3LGIxXMDxymGH79pVb9upy96dYltbww9ESghAAAIQsBABhOMW0hGoBgSEK0Cx+MauXVQN+sZP2YRYvATngcP1E05TW1Zr17nr3p0iqbQEOeAQCEAAAhAwowDCcTPio2gIQIBF7D+wsVNHZZNBCZP/Rixe4hNCE5FXb9+l675/MI68xIw4EAIQgIBZBBCOm4UdhUIAApzAjf/NDf3oQ9awb9xXuC5e2lPC8eoxh2mtKZeJCgUi8tJq4ngIQAACZSiAQZpliI2iIAABHYGof09xsThjiMV1VEq+KqvbStF/Jh1/aNBQzEdeckccCQEIQKDMBRCOlzk5CoQABBiLvXBxwxvNWdX2cRsVGKNirDMiceBX6ZN3/rdp3fHR7xkrT+QDAQhAAAKmFkA4bmph5A8BCOgLJNy4sf7VxvJyzeJn7FHb4BE2+j6leZ36eo+MTzZdWLbkzMRJpckHx0IAAhCAQJkJ4EEbZUaNgiAAAU4g5dHjdbVrZzi8Ev/rYZUtpgEx/lmR0qKvKG3Zqd9HSZ2cGs2YbvwCkCMEIAABCBhVAOG4UTmRGQQgUKhA+ouo9ZXrpbGghEXnVHZ2habFzpILJHcc6ZoUc+z7yQ5+vjUnjC95RjgSAhCAAARML4Bw3PTGKAECEMgSyExI2Fy/WTKTJi69rHRygYpJBZL6fuaemrD/gwmOvr4V+/czaVnIHAIQgAAESiOAseOl0cOxEICAoQKqzMwdLTtGP3+QNPeMwsPH0MOQrhQCCcNnKlqO3jagf2To/lJkg0MhAAEIQMC0AgjHTeuL3CEAARJQKxT7er4Vfu188uxrmUFVYFJmAgkfLlY27Le5c6f4K1fKrFAUBAEIQAACxRJAOF4sLiSGAARKInB0xDt3QnfJvj2cUbF2SY7HMSUVoEkkE75YJw9qur5Bg6R790qaDY6DAAQgAAETCuCpnCbERdYQgAAJrK9QPfLp3YyPN6S07A8QswhIUpPdh7pS0eOev7D38zVLHVAoBCAAAQgUJICr4wXJYDsEIGAEgfvLV1Isrq7aAbG4ETRLmgXdOCubcZKO3tasrUImK2k2OA4CEIAABEwigHDcJKzIFAIQIIHIAwd3jhqh7P553M+4ldDMZ0RareYps689e3hjT+eeTKk0c21QPAQgAAEI6AggHNfBwCoEIGA8gbj//tvcsQNr1D9h5E/GyxU5lVyABu6nTT1078Sh4++NKXkuOBICEIAABIwtgHDc2KLIDwIQYCz1ydON9esrPRrGTV7LRBCxFAFZ/bbycSsvLFty84//WUqdUA8IQAACghfAY4AEfwoAAALGFqDRydubd0hjbgmz96ul+CVjbN/S5Zfcfphb1JN9H3/kVL58hd69SpcZjoYABCAAASMI4Oq4ERCRBQQgkCOgVO7t3jsq4m7S3AsKN6+c7VizGIHEwd+oWo7e2qd3zNlzFlMpVAQCEICAcAUQjgu379FyCJhC4NQHH989sj/lx7N43I8peI2VZ8KEBaqgpptffy01LNxYeSIfCEAAAhAomQDC8ZK54SgIQCAfgZtz/zwz/8/MCavTqzfJZzc2WYyA2kaS+FNoGqu8tWELTH1oMd2CikAAAgIVQDgu0I5HsyFgdAGa1nDfhx8o3pqW0vZto2eODI0uQJORJ807GBPzeE+nHpj60Oi8yBACEICA4QIIxw23QkoIQKBAgcSbN7d07KBqPCBx8LcFJsIOCxPIDKiU+uO5eycPn/rwEwurGqoDAQhAQEACkmnTpgmouWgqBCBgAoGMqOiFlSqpGEuYfZlGQZigBGRpKgGFd5CNR/ln86fYqVhAm9amKgb5QgACEIBAwQK4Ol6wDfZAAAIGCKgyMv6hBz0ylvLHbZWt1IAjkMSyBJI7jlK1eOfYjOmRBw9ZVs1QGwhAAALCEEA4Lox+RishYDKBY++89/TymZTZ1zOCq5usEGRsWoH4j5eoanTd3qF98t27pi0JuUMAAhCAQB4BhON5SLABAhAwWODaL7Mur12VPmlbRsVaBh+EhJYnIGIJU7dmSKtvqdNanphoefVDjSAAAQjwWQDhOJ97F22DgEkFwvfsOfD5Z4oBP6Q2w8MdTSpdFpmr7OwS5x2Jz3y2t3sfTLRSFuIoAwIQgMBLAYTjLyXwPwQgUByBpDt3tnfrpmrYL3HAl8U5DmktV0DuHUDPb3pw8vDpjyZabi1RMwhAAAK8ExCp1WreNQoNggAETCtA4xlWu4ckuATGLb6gtrU1bWHIvWwFXA6utP1rRM9lK6qMHF62JaM0CEAAAgIVwNVxgXY8mg2Bkgsolbs6dk9k8Umz9yMWLzmjpR6Z3H64ssvE3aNGRJ8+Y6l1RL0gAAEI8EoA4TivuhONgUAZCNBIhsfnTqb8eFru5V8GxaGIshdIfOc3ZeU2W5o1TQ0LL/vSUSIEIAABoQkgHBdaj6O9ECiVwL2ly0/P+1/GuJXp1ZuUKiMcbMECajFLmL4zjXnvbN1FmZ5uwTVF1SAAAQjwQQDhOB96EW2AQNkIRJ06vWf0KGXnT5LbDyubElGKuQSUTs5Jc089f3j98BD0tbk6AeVCAAJCEcCtnELpabQTAqUUiL92bXnduupKbeJ/PUxXT7EIQcDp3F77n7p6ib2HK6OF0F60EQIQgIBZBPChahZ2FAoBKxNQZWZur9uGKp04bRticSvrvFJUN7VJF8aqxapiwnftLkU2OBQCEIAABAoTQDhemA72QQACGoFDg4cnsNiUOTeVLm4wEZRA7JY7rH7f7T26J927J6iGo7EQgAAEykwA4XiZUaMgCFirwPVZs69tWZ82aVtG+RrW2gbUu8QCIhY/ebWcVd7WoK0iJaXE2eBACEAAAhAoSADheEEy2A4BCHACkQcPHfzsU0Wvr1Ob9YKIMAVU9vaJC4/HpYbv7zOQ4clxwjwJ0GoIQMCUAgjHTamLvCFg5QKpj59s7dBeWbtH4tAZVt4UVL9UAnKfINnUg7cO7L4wZWqpMsLBEIAABCCQRwAzq+QhwQYIQCBLQJmaurZcrZgERfzf9+n6KFQg4Lr9d+mqiW9t3VahN74qwekAAQhAwGgCuDpuNEpkBAGeCewfNDQ24Uny3KOIxXnWsyVuTlKvT9Svv72jT+/EmzdLnAkOhAAEIAABPQGE43ogeAkBCHACV2b+eOufbWlfhWYGVYEIBLQC8RNXKKXVt9R6IzMhQbsRKxCAAAQgUBoBhOOl0cOxEOCnQMTefYe//kox8KfUxh352UK0qqQCahtJ4p+HEll8aM++uK2zpIo4DgIQgEAuAYTjuTjwAgIQoOmlt3btom7wVmK/z6EBgbwCdFtn6vf/3jtx6NznX+bdiy0QgAAEIFBcAcm0adOKewzSQwACfBWg2zc3VGgoU/rFzz6oltrwtZloVykFFD7BNq6BEXO/cHZ09mverJS54XAIQAACAhfAzCoCPwHQfAjoCKjVs8XcN2bJfz3O9K+gswOrEMhHwKuPiLaOvHrVo06dfHZjEwQgAAEIGCaAwSqGOSEVBAQgcGnad9RK9filiMUF0NtGaGLcRoW91yvb6jbNjI83QnbIAgIQgIBQBRCOC7Xn0W4I5BZ4umPn0e+m+bw/VdZpZO49eAWB/AXotk7nhTvTWOruTt2ZUpl/ImyFAAQgAIGiBBCOFyWE/RAQgEDSnTs7e73p3ryn49APBNBcNNFoAmovX58F+x6eP3Xq40+NlikyggAEICAwAYTjAutwNBcCeQTkSUnb6rSS2Aa7Tf8zz05sgEARApLajQI+nXXmzz8e/r2uiKTYDQEIQAAC+QkgHM9PBdsgIBwBtXp/735J8hfe63YyewfhtBstNaKAXe/hXj1G7hoyOO7SZSNmi6wgAAEICEQA4bhAOhrNhED+Aucmf3Hv8H7fuTvEfuXyT4GtEDBAwHniTPugOlsaNcqIijYgOZJAAAIQgECOAMLxHAusQUBoAo83bT456xefCd/bNMDU0ULrfGO3Vyr1nL9eztS7OnTFbZ3GxkV+EIAAzwUQjvO8g9E8CBQkEH/t2j/9+3m06mM/8P2C0mA7BAwXEHn6ei8MfXz1wslxuCHYcDakhAAEIMAQjuMkgIAQBTITErbXayP1qe46DbdvCvEEMFGbJbUaBnw599yi+XcXLzVREcgWAhCAAP8EEI7zr0/RIggUJaBU7uncI1Ud671oI5NKi0qN/RAohoBdt4FePUftfW909JmzxTgMSSEAAQgIWADhuIA7H00XqsAan0oPz570+Wu3yCdQqAZotwkFXCb9YO/7yuqmr8uehpmwGGQNAQhAgC8CCMf50pNoBwQME7i/anVUfJj7Gz1t6jYx7AikgkDxBNRiifey7XTMzjadVJmZxTsYqSEAAQgITwDhuPD6HC0WsEDs+Qt7hw/z6jbc7ScM7RXweVAGTXf3Cl55PPrhraMj3imD0lAEBCAAAasWQDhu1d2HykOgGALpL6K2NnnVPqSxy+c/F+MwJIVAiQTEITV8Z668sm7NtV9/K1EGOAgCEICAUAQQjgulp9FOgQvQmIGdbToqmLvHH2tpLIHANdD8shGwadXVZ/AnByZPith/oGxKRCkQgAAErFEA4bg19hrqDIFiC9CYgRe3/vNavl3k7lnsg3EABEoq4Dj2S/fXO//TqWPy3bslzQPHQQACEOC5AMJxnncwmgcBErg++3caM+AzY7mkai2AQKBMBUQitxkL1bbBO5p3lCcmlmnRKAwCEICAlQggHLeSjkI1IVBSARonsP/TiT4jJkvbdC9pHjgOAqUQcHD0Wf9PfMyT/X0GMJWqFBnhUAhAAAL8FEA4zs9+RasgoBFIundvR6eObq91dXxnEkwgYC4BkW+Q/7xddw+Hnv3sc3PVAeVCAAIQsFgBhOMW2zWoGARKK0BjA7bVaiF2DXH/fj4TiUqbHY6HQCkExPVe8/t01r+zZ91btqIU2eBQCEAAAjwUsOFhm9AkCECABJTKXR26pspf+K4PZQ6OIIGA2QXseg/3uXdz7zsj3Wu84tP0dbPXBxWAAAQgYCECuDpuIR2BakDAyAKHBgx+fP6U9/w9Ir8gI2eN7CBQUgGnST841225ulnTyAMHS5oHjoMABCDANwGE43zrUbQHAiRw6dvp/23Z6PvBTEmdVwECAcsRoDnvXX9ZRvVZ37GDQiaznIqhJhCAAATMKIBw3Iz4KBoCJhGIDN1/9LtpXt2G2w94zyQFIFMIlEJA5OxWft0ZKWOhPXoztboUOeFQCEAAAjwRQDjOk45EMyCgEaCpVLZ17uRav63zF7/CBAKWKSAKDvH9Y+vtw/tPfzzRMmuIWkEAAhAoSwGE42WpjbIgYFqBzPj4zdUaSHyqe8xagalUTGuN3EsnYNOoRcCk2af/N+fe0uWlywlHQwACELB6AYTjVt+FaAAENAKqzMydbTvJWKr3wg3M3gEsELBwAbteQ737jd0zetSzw0csvKqoHgQgAAGTCiAcNykvModA2QkcG/Xu0yvn/VYco0eulF2pKAkCpRBw+nC6S4O229u1pUFWpcgGh0IAAhCwbgGE49bdf6g9BDQCl6d9d2ntqsDvV4ir1IQJBKxGQCRy+3WFxPeVLdVezYyNtZpqo6IQgAAEjCqAcNyonMgMAuYQeLR+w5Hp3/qPnyFt3c0c5aNMCJRCwN7Bc8H6VJZIT62iAVelyAiHQgACELBWAYTj1tpzqDcENAJRp07/M2igZ+ch9oPGwAQC1ihAw6t8lx8Nv3zuUP9BmPrQGnsQdYYABEopgHC8lIA4HALmFEi+e3dz82aOdVu7fvWbOeuBsiFQOgFJ1Vp+P/99dcfWMxMnlS4nHA0BCEDA+gQQjltfn6HGENAIJD94sLR6dQkL9Ji9ih52CBYIWLWATfMO/hO+PzVn9oHefa26Iag8BCAAgeIKIBwvrhjSQ8AiBFQZGYurVFEx5rVlD6Y1tIguQSVKLWA/8H3K49r2LfRk2VJnhgwgAAEIWI0AwnGr6SpUFAI5Amr1wcHD6DHj5ZYfFflhWsMcGKxZu0CFE1HuzXts7dwp7r//rL0tqD8EIAABAwUQjhsIhWQQsCCBM59+dmPrRp/Zm2jErQVVC1WBQOkFaOrD7xfahby6pX791LDw0ueHHCAAAQhYvgDCccvvI9QQArkErv0y69Tvv/lPmSdt0jrXDryAAD8EpFKPeetU4uCtdZvKExP50Sa0AgIQgEAhAgjHC8HBLghYnMDdJcsOfP6Z7ztf2Xbpb3GVQ4UgYCQBkbOb56adSQnhO1u0w2TkRkJFNhCAgOUKIBy33L5BzSCgJxCx/8Cud9/x7DDQYeQnervwEgI8ExD7lfNdfiTi2sV93d5kSiXPWofmQAACENAVQDiuq4F1CFiuAN3Ztq1TR4/Xu7l+84fl1hI1g4DxBMRVa/vP2nj74L5jo941Xq7ICQIQgIDFCSAct7guQYUgkFcg6c6dTfXr24U0dv1xsVqMt21eIWzhp4Dk9TaBM5ZfXLX84pSp/GwhWgUBCECAMXyu4yyAgKULpEU+2/xKU5FdRa95G5iUpjfEAgEBCUjbdPf76MdjP8y48b+5Amo2mgoBCAhJwEZIjUVbIWB9AhlxcVtqv5bGUv23nFY7u1pfA1BjCJRawL7faN/EuP0ffWjv5RUyZHCp80MGEIAABCxLAFfHLas/UBsI6AooZLJ5Xl5R8WF+G08xdy/dXViHgKAEHEZPdq72+o63h0Ts3SeohqOxEICAEAQQjguhl9FGqxRQZWTsatORqh74/QpRYAWrbAMqDQHjCXgt2eFSvdnmrl2iTpw0Xq7ICQIQgID5BRCOm78PUAMI5COgVIb26vvo3L/l5u+Rtu6WTwJsgoDABOgmZs9FW5zrtNzUskXcxUsCaz2aCwEI8FkA4Tifexdts1YBtfrIsJG39+0KnLNFUudVa20F6g0BowtIbDzmrLWt3GhD40aJt24ZPXtkCAEIQMAsAgjHzcKOQiFQmMCJ98Zc+Xu1/8xVNo1bFpYO+yAgPAG1nb3nwq0S72obatZMundPeABoMQQgwEMBhOM87FQ0yaoFTk/46PySRf5TF9q26mLVDUHlIWAqAQdHzzV71NLgTdXqyZ6GmaoU5AsBCECgrAQQjpeVNMqBgAEC5yZ/cXre//wnz7bt2MeA5EgCAYEKiJzdvLcdkDPHdRUqysIjBKqAZkMAAnwRQDjOl55EO6xf4NLUaSd//dn/k1/seg61/tagBRAwsYC7l8+Oo5nMcX1w9fTnL0xcGLKHAAQgYEIBhOMmxEXWEDBc4Mr3PxydMd1v/Ay7t0YafhRSQkDQAl7+PpuPZzDRhqC6GVHRgqZA4yEAAWsWQDhuzb2HuvNF4NDAIYe/meI7drr9oDF8aRPaAYGyEBD5B/tsPZmqSpnn54u5VspCHGVAAAImEEA4bgJUZAmB4ghcnvbdfxv+9uw+wmHIuOIch7QQgAAnIPIN8t3MPRhoac2auEaOcwICELBGAYTj1thrqDN/BCgWPzL9W7ou7vLFr/xpFVoCgbIVoGvk5TdfsmNsnd8rsojIsi0cpUEAAhAorQDC8dIK4ngIlFjg4pSpmlgc18VLbIgDIaARoIjcd8vlNJa+qXyDtMhnYIEABCBgRQIIx62os1BVXgmc/fSzYz/MoHlUEIvzql/RGPMJiP3K+Ww7LVMp1gVVT33y1HwVQckQgAAEiieAcLx4XkgNASMIqNUnRr93cvYs/0mzMY+KETyRBQReCoh8An12nsgQOa+v+Ery/fsvN+N/CEAAAhYtgHDcorsHleOhgFJ55O3h55YuDpwyz64X5hfnYQ+jSeYVEHn6+u46pnT0X1u1auLNm+atDEqHAAQgYIgAwnFDlJAGAsYRUGVm7nvzrWt/rw6asdy2S3/jZIpcIAABPQE3D8+tB0Te1VbVqhVz7rzeTryEAAQgYGkCCMctrUdQH94KKGSyf1q1v7N7h/+sjdI23XnbTjQMAhYgIHJ2816336Fm8/WvNYk8cNACaoQqQAACEChQAOF4gTTYAQEjCtCNZX85OT09cyJgYajk9TZGzBlZQQAC+Qs4OHnM2+T0Wuf1HTscHToi/zTYCgEIQMACBBCOW0AnoAp8F5CFRyysWEHBmP/K45JaDfneXLQPAhYjIJW6/bqCanNpzcob/5trMdVCRSAAAQjkEkA4nosDLyBgdIH4q1fXBgc7Mq/gTRfFITWMnj8yhAAEChFQiyUVTkb7DPoo9KMPaXbRQlJiFwQgAAFzCdiYq2CUCwEhCEQePLS5Q3s73xrey7aL3D2F0GS0EQIWKOA4/ms/b99/Z09JefK07bo1IqnUAiuJKkEAAoIVwNVxwXY9Gm5ygQdr1q7v0N6pQTufdfsRi5ucGwVAoFAB+wHvBc1ceXXLxm2vvSFPSio0LXZCAAIQKFMBhONlyo3ChCNw4atvdgx927PHCPc5a9R29sJpOFoKAYsVsGnVNWhhaMTlc+uDatEdHRZbT1QMAhAQmgDCcaH1ONprcgG1XH5o4JDjP37v9/40l89/ZRIMCTO5OQqAgIECdC+1//qzKanK1cHlYs9fMPAoJIMABCBgUgGE4yblReaCE8iIidlct8n1DX8HzlhuP3S84NqPBkPA4gXE5Sr77DkuqfLquiavPt64yeLriwpCAAL8FxCp1Wr+txIthECZCESG7t/QuZMds/Vevl9StVaZlGn8Qm7GeaUrRMbPFznyUaCaR6KzVG6NLRMp5Mk/T47du8bPp+KQFw+ZCOe8NXYj6gwBngjg6jhPOhLNMLvAk23b13fuRH/d+u68bL2xuNkZUQEIlI2A2kbqPOV39yadX0Q/3tupGz00t2zKRSkQgAAE8gogHM9rgi0QKKaAWn3hyylb+vT2aNW7wpEIkadvMY9HcghAwDwCbrNXB/2y7sGBvRsq1k5+8MA8lUCpEICA4AUQjgv+FABA6QTkiYk7W7Y/+dMPfhNmuM5cxKS2pcsPR0MAAmUqYNOsvf+6M6kJitVVqkTsP1CmZaMwCEAAAlkCCMdxIkCg5ALxV66sdvd/cvJwwJwt9gPHlDwjHAkBCJhPQBQc4rXnpMNrnTd06nhp6jSGW6rM1xcoGQLCFEA4Lsx+R6uNIHB/+cpVDRoogqoGbLli07ilEXJEFhCAgLkEHBxdf1vt997U4zOm72jWKjM21lwVQbkQgIAABRCOC7DT0eTSCijT0g6/PXznqBFuPUZ4rw0V+QWVNkccDwEIWICA/bAPAubuCDtzYqW3d9S/pyygRqgCBCAgCAFMdCiIbkYjjSiQcP369vptkpQxvjOWS9t0N2LOFpIVJjq0kI6wimpY70SHhfCq42PiPx6W/OB8o+GjWi1fgjkQC7HCLghAwCgCuDpuFEZkIhSBW/P+WlanTpwyJnDDOV7G4kLpSLQTAgULiDy8vZbv8hry8cWVy5aLPdKfvyg4LfZAAAIQMIIAwnEjICILIQjQWNI9HbvunTDetUmnCofDRUGVhNBqtBECwhRQi8XOY6eU+/OfNJa0PMA/bOc/wnRAqyEAgbIRQDheNs4oxboFwv7ZtcTb++GBvUG/bfCYvYbZ2ll3e1B7CEDAAAFJ/df99923b9Zj05s9jw4dgUcFGWCGJBCAQEkEEI6XRA3HCEdAmZp6fOToTT172NVrE7D7rs1rbYXTdrQUAhBQO7u6/rLM//M5l9esXOXkj/s7cUpAAAKmEEA4bgpV5MkTgWeHDq9yDrqyYil9GLvP28jcPHjSMDQDAhAojoBdjyHBmy8pK1Zd80bzM598SnMrFedopIUABCBQhADC8SKAsFuYAvKkpGPDR61r305Vs3bgtv/ow1iYDmg1BCCgERD5B3uu3uf/8c/n5sxe7VjuxfETkIEABCBgLAFMdGgsSeTDH4HbCxbtGfu+hDGfSbPteg3lT8MMawkmOjTMCak4AV5OdFh416qfh8VPGp38+JIzY6OSk22c6X8sEIAABEolgKvjpeLDwTwTkEVEhnZ7k2JxalfQzhsCjMV51qFoDgSMLqC5TO7esncKY8tdXJ9s3mL0IpAhBCAgNAFcHRdaj6O9BQioVFd/mXX0y8/porjXj2ukLToVkI7/m3F1nP99bLwWCvDquBaPnhaU/MsX8Sd2hLz2Rts1y12qVNHuwgoEIACBYgkgHC8WFxLzU4BmS9jfa3BUzBOvbsOdP/6OOTjys52GtQrhuGFOSMUJCDkc15wBin8PxH4+IpNlNv/8y4bffiNxcMCZAQEIQKC4AgjHiyuG9LwSoNEpx0e/f3PfLpeKDd2nzxGH1OBV80rUGITjJWIT6EEIx7mOl8tlK+fErfjFmTm0Xb+i0oD+Aj0b0GwIQKCkAgjHSyqH46xcICMu7uI3087/NdeGRqd8t0zatoeVN8ho1Uc4bjRKAWSEcFzbyaoX4Sm/fBl/dp+Pe7mWi+dU6PuWdhdWIAABCBQugHC8cB/s5aGAWqG4vWjJ3vFjqW3eb3/iPHKi2s6eh+0saZMQjpdUTojHIRzX63XF5VMRH7xJG2v1eqv5b784V66slwAvIQABCOQVQDie1wRb+CugVj9ct/7okHcTWKpnh4HO70+mSRL429oStgzheAnhBHkYwvF8ul2tlu/bnDDzcxlLbjxqdJMfZtr7+eaTDJsgAAEIvBRAOP5SAv/zXeDp9h0nxn/6IvKBe/12LpNniMtXLaTFEbek90NtozbbJjGJMitdt0WJQTXleQ/Z8IZHIqPpWPQX/4qZPdck6W/N/fr+abvDn7nk3pbziq7YDzsZo319ZpVj2CK7FCZRZG0SMebEVLW+lNXtlq5No1l5ctn2+Acu6UxEafzrZHb+I9nGVq2bJi5csmWgh3/VzB7L86mhtYTjGYks7GeWfJupstpGk7aSWKWFzN5Ht60s/jqLnMoyGNMQUFe51GPlJzJpgfDZh6vVLPY0i53F6AGMmnOAiqCbfMvNZU5BuYqIPcce/ZRri+4LGg1Vf2vOhvj/WNh0RmcS14P2rOpyJrbL2Utrskh2awKjuayr6xyVK4UlvdALx4X8xtHvFnlm+vrFcQun0cnz2kefNJz6tZ2np34avIYABCCQJYB5x3Ei8F/gybbt60Nqbu7dK90jIHjRfrc/1xcei5PI6Xed7mx2iH8ZixdpJOViQbXuP9dGmhCusEPtXVS6h2jXKVCjxbNOpu7B1xc5aupDZdlm7Uhm4jM/Om/r5qabLOapZP8Hrgomqjc+NbhVRuQ1221tcyWgxPsHulIR7f+XrHugda0n3WI3RrKErFicImz6R0F5Kv17lKsdkbvYw6lcPE3tpaCX6KhXKCC+PpxlJuRKmffF81D2eBYjIzqEflFqiqCXtz9gFH/rLjbOXM55/2n60UFnJFTqU/ZwOpeh30Dm+gpLSWe3BunmxK0/nMDVtvJK/e1W8RpvnJxuktraDx0feOCJ1/DPzv/x+xIvrzMTJ2XE5PyBnZMSaxCAgOAF6MINFgjwVECpPP3pZ9f++J2e1uFavSkF4uKaDQxsqt9gueszRUBzRXD9zC19PYuMrFv8mlylKV2BLd5SrrZ82MlYvWPSU0SrO3vRxvrjKYzMWZp8mVKugdwz8GVdVOziVodLc5yiE6V3jttVb5ld+pkfnegycLeVCb4h3GX07f1EUc9so59IfCpkH3g91J4u+Tf8KNXBJdcl85ySLH5NnszuT+Hib1dXVmlu9nVuupidcJU5+OfUXiVnz5dxF8Xda7KQGVlfFjCWEcNuvceI5slUVvV/OYnzronU3J89Pu8xvzbZF7Dpevy9kYy+jHjyE/NYl3NV260mq5fnSrYihf03jMvV/+ucvMO/4OpT9TfmXImx/ux2H0YnJ8XoTuWz0zw/yOUf8HbRF+9zMrWkNbxx9HvDwdHx3ckOg8fKVv957vffzvz+G82DODQs3LFc7m9Y9A/DawhAQFgCuDourP4WSGtVGRm35y9cYeN/OisWL7dgn8fSnYbH4qTUYlxqxxkpdTqnu/tT1Femy3/bHChio0CQgnXdgmlQSk4sTjvErFHfNHcusGRPj9CV2ewl/pqUruNqYnHaVGkYd4k94rLmejrLTBOdneHsyNSN++WK9V8ebR3/P/yUi8WdaNLrFTlhKw3N8ajH7P1ympAawSXjrjR/mx2L0z47b+addUFaFp6TMt8137as7lYW0Dkn7LZzY6+s5a6UU7axF/M9KGfjsx1c5E0XPChY1y4Z6dzhXCyetbi9w/2XeFXziinT2bO/uK4P6pO9xer+wxsn3y4TObk4jfkyaP8jjz7v03c4C4LLHRo4JPHWrXwTYyMEICBAAYTjAux0Pjc5Iyr67KefLbC33zNujKp5s+CVxyucjJbUbmRFbb67kHuMSMgAg8JlirxpsXWjwC97oTUKQLWLJCsOV3JBO7cc/s6ZQsn2+Q0Z1ySw/J+qDJYSw7Wxwp9FVFZKAXt+iyjr116Rv/v0hnRrcrJx4CJsWjKfazYU+DNuC7fLvUOuBHq9k13Ey0FJD7/lAv1Ks3IdghcGCljBG8fR2Xni9xUPhflN+P7OhnVLa9bc/tobEftCDWwgkkEAAjwWwGAVHneusJoWe/7CpV9+u7Z5PUWo7m+N8R08RuRXdl8HX/rM8SzjRok4MlWFjzMa9EoTl+i9Ff1IkpZ1JbfB4KLD8bsn7GKZDYWV9QbmJHZiyjhmk5Ys0oxFibrC1cM7hBup8uK+NOyEXfnmGf5Vc113t64TJeFm9lVnhwD24gCLn8+FsLY1mc/gXNehqVF0TyeNF6dBPI9+YyFfZLeShoxHr+XWfcZkbynWfzQkRvOnjV1gYcelPMm+WTNgQK5k9C0GdRUNttHcSJp6idvrEML9TH7Iku4x16rMpTL3UiCLAN84NK2q/cD3HfqPzji489lPMzd06ezjFvzqj1OqDB9q4yjo5wEL5JxHMyGQr0CJQoZ8c8JGCJhDQCGTnRwzPvLov8/D7jmxQP+Pf7brNrDsn3Kf8HJyFRkTx8yxuTrHqee6eK/gl+O8DZa5vIy7NO7KlM5eFGTmsxya6fx8LzdPSiYTU1xId3+2mZ+kO6Kmzo9pR7902d3Frf3mpNjHNg//safr4+XrcxdgD4xwodi9zTQarmzFS+oNrvL0m+v6W1yorVlkN1nC18zFnlVbmzMuhXZVX8Huj2AJ59jlPtytlllu3JV1v37Mv+PLg4vzP93fSR1DjJ6FfuPybAmXKf0xYJd7Lg3fSdztofeGs8rzuSHjCWe4hrjX5RI/mpQ1rmY6ty6cRbBvHLVYYtuxt2/H3srrF1JX/Ll33BjJuDEB1eu+8decgLZthHMCoKUQgIBGAOE4zgRrFYg5d/7GvPkXVy2nBrjVaxP06U82jVuWfWMCBmRWDVBVbJbp7qtMTxXfO2578Wdnuvi8c5DHsCOxEilFgAYvKhZ2hJuGo8aUnKvdegfH7pWmctEgt1BY6cCUju65AvdqLTKeD7C5s8FhY18uEqQYtNvaeBpXfXGzA/2p0PTrFFtuaDq3yDNEUrviVE9zmLl/KrKmptAE4t6dWeBAJpayqL3s2RqWnM6eLmUVRudUkS5Cu/RiGdu5yUy0fxtRlOxSPyeN4WuyF+zZIi65/9tcoQUtdAU9JetvBu88F+C9m7GUdiz2ELvOPYSKi8WrzuH+fojcSn9fseCxTML1P7coMpgNVZS/C944mr6V1G7sOmuFS3xM2uZlYSt/XdeubVBIzXqTPqry9mAbZ2f+9j9aBgEI5BLAvOO5OPDC8gVkT8NuL19x/dcFMamRDszZecQ4x97DmJef6Wq+9A1viuQKmnc8b7nJ0eINvT0pRq4/PrXJoAID67wH3j1ud/Qr7gL2qKMxhY91USnY8/vSc186REXbUvo+6+M9y2mjTS5jmp7l+V2pnYvav4qcor30ZNGaLl7OTDnwZDztPbnA6fYaB81V3vLt0jt+m/IywueOtfB5xx/NYrGnuHp6NMkZgkIvI7ZyETlpNNiSc4FcM3UJRc7BU5l7LSaXsahdLCprVHfFr5hXYy4fA5fMJHZzBDdShUKkV/LMo6KbSfQp9mQWV5P6G/KP2mnSlaT7jKZHdAnhqkpjV64N5+7grJ2V7eNFLG5f9jV41zosZFpOc3RLsZB1vXnHdWsltDeObttLti5SqTJP7k/dsirh4gE6aWv06VfjnRHlOtPdxHQ2YYEABPgsgDc5n3uXT23LjI299deCjdXrLqhQ/sS0qcqmLcrN3+N78pHj6M9MGouXwNDFR0UTftOBYfOKd3nz2lfcSBV6cE/hsTiloQSBr8h7bUvyFisoqj42Uv8qmr2zumLDzICqXCxOy4EPuUkNO65PovWzqx1vrnGgKVlazkz2q5n5+JD9gR/0D+eOsdRF7J5ds8DhuaoY+Cb3dQFppD7O3k7zi9O4HPodV3Ml86zPRcY0NUrwEO7aNmmE/ZDr8MJfUAB9KysWp7G91bOi+ULSR8/idtIjfgq6gk6BONXHtUp2nP1wOFefyn9yR4WtZTH7uOcZVfiEOYlYwjX2cCa3XQgL3jhqsVjasrP7H39X3HPPc9x3D7f+u7Fbt3kSyYnR70WfOSuEcwBthIBgBRCOC7brraPh6c9f3Jr312yR6E9v773jxybZeQR8Pb/c4XDXaX9K6rxqsW3wqMXd75c1qZ2hdaTr2XQLJqVu8EExLqjX/p5LHJ9W8MgJivCuSZ/ds63SI11zBf3mQke627XP8YRXWmX0WJREo8+f7LPnwlgrWewrchWlyNteZ4pxbosk+xJ/ZgyXgJb4UO4nhbZ6D+AM6MYdTj2UHsslKHJRpLEbw7hbMymrGpuKuFZNgbum/wK+KTJjLkHCDe5vBo9mzDHr3tCYLdxdCK9sZj4tuLif+jXhEqPRLwJZ8MbJ7mhXd5qq3Pvkf8HLjzj3ef/a0sWrm75OvwZPjfsg+vQZAZ0QAjnv0UwIZI1dBAMELE4g6c6dBxs23Vu7MfzuNYqcHJwr2b/WxO2zH9TOrhZX1/wqJHvO/aFry130NHTRTjceVLMY054UdP01p1QVOzzWlaK6lhNTaaNSyYWVHkyh/fbbu0lm+Dm7+GcSj6Bcw11ycrCwNZc6XIVIVpnKjffQXTTckpfzGyrpEZpZgbtuGm4LjQvJWmjOxCIXmgv85hAOjb7pqLmBC/oLX7TTjbvWKDwht5fi7CffcH9FVPwo66WSG+BOX5Foe4eeapT0nKU9yw7Wi87RylPgjaPXgeKqtWluRPonP7o7adXCK/P/PDP/Tzp/aw4cUm3o4MD27cW2L89mvSPxEgIQsCoB3MppVd3F68oq09MjDxx8smvPg9VbY9NeUBTu1qhDwBej7Vp310ThxYhtzQpFA7sfbaWYivn25eYzMXDJnjXZgPkNdTO8t437MHbMuU1Rdye3fnq5YwYTtf4pWXtTKcHqxqhq7jp+EVd8uRQWszj6cV8iUK1jTjD/LjnVSrzJXeKn1jlXyd5oX5Ml3siZfUWbNPEaF81TSnokUOEL3U95czB3kyUp16LHcBb2JUR2Tprpxj06FZ5x9t6wVVygX/GznJyzeifnWE3vvJy2J2c7L9fwximkW6Wtu3m17kYJlNcvpoVuubt+55X1a+m0rNy+c8We3YLatXWrqfO4qUIywi4IQMAiBRCOW2S3CKdSKlXspcth+0IfbNr+5Op5arc9s3XqMzKoZUdp/aZqGy78seQo/MEZ2xc3ber2Snfmbt3klsQo8b4+bhRj0SXPRsNyDTs5Otspequ02hfp9brTc9BzLTnTjevMIK6b4vYxu7gHkvpvpTu6ZRekyBSdXuIYfoobnl73O5luYu16Sqz4xnJHT6ao9kb2dWCJhItlk5hEKRdpAvSYS3ZUVbcA67g0rmma/7ssfDF7tpjRnY6O5bhtGXHs0dfcCl0u1zz5iNZ9O7CoTVzg/mA6qzw1+0+O9Gj2eBqXkkaeaFPSy0dzmOw483o3J8RXZrJbg7hYnM7CmvQwTgNuBNBON+7fjyui8IXqHL2D/pRi3k2zE9Kld7r4Tl2lkmcH6Gkx3Ink4Ft4Tta3F2+cEvcZPdTMmf59+oP6eVjm8X2Rof/c/vADyo2+E3pl2MgK3bsGtm9n6+FR4vxxIAQgYBYBhONmYRd0oWq5PPrc+cijx8JCD4adOEyRKZ2FTg3aevV536HDm9oR4eaNwukJO2e+zB4JoYl/D7znJs760yCgc0aHr2m4L7ckP5dcX+Z4Yxk3GtuGqZVMRIE4LRRCtfwxWRujZ22jyezsaAYT7rk83TUbcn7mTDf+MqzP2Ze1lhwppoLoH1lRQaqsgjSXeEO6pddsm/+oi/1vcmN7Om3j7uDULnU+TL30P6eNbTyqf5z2cI4dHVntrTTNHZ/aNBa+QhfF4xczGnxz60MuVqYryhQ0kwath6zNqTtd/Pbrz15sZHRP55W3uL3UldRBlJL6K2RhTkpaSznOxcGpFxl7ecU9Yl32lXVKf2NIrsT0wmsQK5cn5i5ounH9g7NePxzN/ReyKNdOnyHs2Vp2YwDzHMYSV3F/S3i1sqbvLvDGydWdpnwh8g+26/8u/fNIk6XvWC1/8uD2qj008Su9HfwCqlR4s5P/G83Kdehg5+tjylogbwhAwDgCCMeN44hcChegOzKfHTsWefT42QXzNCnpzHOu18Z17HTvV1vYVKlFUwoUnkMZ75XFitO5MC9noYAvK/BjiftsWNaFWHod3CgzsrFNzAXbTCaiMSG0hWI+/yYZTSfJ3AMNvt78crrxml/nuprOFfhyqdomI+Ge5MV+O6qVpiAKKD0c5I1+TdM84udlwpz/75+1jWE2tYbKaMKKnK2MNe6fpsoUXV/geHGOE6G/MiCt5QcU2VrZUmMrC9/EYtdx4TUtpOH6Bis/Xn+u7nIDmVMNFjmdC6zpnyalSz1WfqL+/Z1ZO3P9UL/8DoNi4rxL5iP9bdrpxn3G6u/K+zruPPfnhE9X/QEzQW8xGrMRs4E9X8X9UefdjlUcn/doy92CN44Z+sbBkR7zSd/2uHz+i1d8jOLyqYwzR68t2Kz9ZRsQVKXe5x/5N2vmUa+uyAYf+mboIhQJgSIFMO94kURIUBIBWXhE9JkzURcuRp2/GHF4v+ZisgNzTGMyv3e/sX2tlbh6XWu66FcSA2s9xsLnHbdWVp7Wu5B5x3naYutpVmK8/PKpF1+PkDAnJUulywMUiftWrhHQoqnvq428Gzb0btxIJKULCFggAAHzCyAcN38f8KAG8qSkhJu3Yi9fibl85fLiBZoLltQuGm1rV6eFXYPXbGs1lNR9VeTycspoHrSZv01AOM7fvjV+yxCOG9/UBDmKVErFg9uKq+cyrl6QHz+dIg/TFlK7R2+fxg0969T2rFvHJSREux0rEIBAWQogHC9LbT6URSO/kx88uLloiVqplL2ISrx7P+byueyR1NwUH/7ikGD5g6fev8yR1Gwocuee047FugQQjltXf5m3tgjHzetfwtLlcuX962l7NqVfviRSyjPDrmYNxuMGfXkHhnjWquYaUjkzObnG6FEUptt6eZWwFBwGAQgYLIBw3GAqgSVUZWREnT5DP1PDIxIfPEx8+DDh9v2E/24kckNesxcHSTnbV+vZ1qgrrVRVUq2WOKA8k2Bg4ksdq/0f4bjVdp0ZKo5w3AzopigyMV5x75ry0b3MB7fl168mP76kLYS+5PQsV92jTjW3ypVcQyo5V6hg4+zsWaeOQ0DuB3FpD8AKBCBQfAGE48U348sRNMJEFh4eeeSog4+P7NmzlPCI5CdhKU/DEu88Tk4I19z3Rm2l+xMdmZekRnWb4IqSoAo2fv42wSHiStWZK0ae8OVUyN0OhOO5PfCqMAGE44XpWPU+pUIV8Vj58I7yebgi8qny6WP5vYfyxPua6+ialtHsiu4hNV2rVHKtVNExMMA5MJC2u1at4lqlioO/X87jrKzaAZWHQJkIIBwvE+ayKoSepCNPTMpMSsyMT5AnJ6c+DVPK5beXr6Kn/zkGBaRHx6ZFxcjuhKexOPqVqjvxB83h4MC8xH6+kgoVRD5+Ur9Aia+/yN7Rpv5rIi9/3HNZVh1oEeUgHLeIbrCSSiAct5KOMl41ZSmKGxfV6emqZ08VEU9VNJfLk8fqF7GZKY+0F3E0hdGz0GyZg0NAoEtIsJ2Hh0ouj79xp+7E8RI7e4rd7dzdbT09bF3dpG6utu64uGO8DkJO1imAcNz8/ZYRF6eJoWURETaOTjQnt72XF81JYuvmGnf9psTBQRYRmR4bnxEeHS17rnkUCf3Wowml/Vu1p5g77UVsWkREIitwjjxNC13K1xd5eohd3SXePhJPH7G7l9jLV+LtRzMMSiq/wqTcwx2xQIAEEI7jNDBcAOG44VaCSBn7XBkTpU6Kp2vq6pRkVWyUIuqZOilJGReb/JBm9eeGp+teCdI1oatCLszW1tPPsZyfnbubWGpDUbtILH66aY9/h2Y0it3G0dHWzc3e00MkkUjd3CRSKe1VyGR0PZ6uGdEukUikphVXV8znqAuL+jDszwAAEAtJREFUdasQ4FU4vnflyjs/zlK7Oosz5eqkFDXNA8yNteB+qmXp6qgwUXAI9y5Vq9S0OUXGYuJF5QPY0+cqlpI1xbSbmiXSCh2g+Wk5XaiZOJp+W9EUyHLmKWJipZuT0laqtrFR2dvRP6db5+OadVI6OKklErmjo9LWTmHvoLC1V2AeK8vpRSupSbTMSa6kcw0LBIoW8HaU2UoKiq+KPhwpBChAYYc0I90mXSZWKGwy0iWZGTZpMvdTF1JrVxVnZIoyM+3vhzuxKPqwM/2tSC5i+gBNpxuixCIXF+bhLEqWqeIjqVNE5avQYBuRjYTZ2bKMrBE6drbquET1s8eiJk25CEGR9UAC3U/Ys6fE9Rqp3FxFUq7iarmC+2KZ4hD6K+HRU0aPRK5cnttImWclyO56WRpLSh578aydnQEP/s0+Bv/xUIBX4fioKtWrPLhLz+7QXunVfEpQZEFD3GhJzvqpjbYpmWbMBj1QmOYGocvLFPXS24h+0j/6I54W76wI+FnWFk2EQj8pByqFjqIbzm+9/JWhuTpNu2geV3pzv8rY6ayZ/igfeoI5ZUhlZVIYzUTVmJLe7slZJagkkhQbiUhFj1kUZYpF9PalQhNtbajmGfR3f1YdSvlDnpGhVKnsHeibQyw5AmDJsdBZU8i5xcFB847R2SHsVbk8k2QcHMGS6zygU0Uhz3Rwcsy1VfAvlApFZkaGgxPOllynArFkpKc7Omc/7TjXvmK+oI9pJ5XKUaGkj1d7pco/I92BqekTrmrW074oqjVCGcWsUnGTa4ITTZhBxw6JjPQLCChuJkjPJwHT//FZhlr2HdvtveZ74sSJMizTCor68ssvT548CRa9riKW3bt3X716VW+7wF/+9NNP8+fPf/LkicAd9JoPFj0QzUs6Veh9lBAfn+9ewW78+++/x40bBxa9E4BYhgwZkoizJbcLfQx17979HUf8TZvbRXiv8JW08PocLYYABCAAAQhAAAIQsBgBhOMW0xWoCAQgAAEIQAACEICA8AQQjguvz9FiCEAAAhCAAAQgAAGLEUA4bjFdgYpAAAIQgAAEIAABCAhPAOG48PocLYYABCAAAQhAAAIQsBgBhOMW0xWoCAQgAAEIQAACEICA8AR4Ne/406dP09LSqlevLrx+LKzFERERKSkpYNEzIpbExMSaNWvqbRf4y+fPn0dHR9epU0fgDnrNB4seiOYlnSr0Pqpfv36+ewW7MS4ujj6MwKJ3AhDLo0ePGjVqpLdd4C/pY+j+/ft0tkjoOUFYBCzAq3BcwP2IpkMAAhCAAAQgAAEIWKUABqtYZbeh0hCAAAQgAAEIQAAC/BBAOM6PfkQrIAABCEAAAhCAAASsUoBv4bhKpXr99ddFWcuVK1essk9QaQiUucDVq1d//fXXfv36VaxYEW+fMue3xAJxSlhir6BO1iyA+MSae8/kdedbOD5nzpyzZ89SPGFyOYsvYNGiRf37969Ro4azs7NUKvXz8+vateuWLVssvuImrCD9Njx48OCECRPq1avn5ORkb29ftWrVcePG0Q1GJizVGrL+5ZdfJk+evHnz5idPnlhDfY1fR7lc/vPPP9Otvba2tm5ubp07dz5+/Ljxi7GeHHFK5NtX+B2SLwttxCdOQTLa7YhPtBRYyUdAzaOFbk92dHTs1asXhZ7U1MuXL/OoccVuigbB09OTQs+GDRvSiqb7R40aVey8+HIAhZsaBAq5KPAiGVqhLfQXy5EjR/jSypK04/fff//qq6+2bdsWFhYWFBQktLcPxeIdO3bUnAkUiDdu3JjWxWLx2rVrS6LJi2MEfkoU1If4HVKQDD5xCpLRbEd8UrgP9jLeENBFizZt2ri6uoaHhyMcp27VXOnU9q9SqVy9erWNjQ3FGaGhodrtglrZtGlTixYtSIYmxNQ0PCYmpkePHmQSGBio3Sgok7yNFWA4TqEnnQP0VRJNaKgBoZOEvmSjr1BevHiRl0hoWwR4ShTUxfgdUpAMPnEKkqHtiE8KwcEujQB/wvGFCxfSB+q8efOoYUWG45cuXRo2bFilSpVouAIdpbfQl9R8PT8GDBhAjf3mm2/42sDC25VvwE2Tsnt4eBDL/v37Cz9cIHsNjL148yaiT0r6Y4xOgEOHDul28aBBg4T8ZtGlENopodt2vXX8DtEDKfylwD9xtDiIT7QUWClIgCdjx+lRFDTytVmzZmPHjqVP0MKXJUuWNGnShC4V07hhSk+3r9HQajqEJuH38vLy8fFp0KBB4TlY717N2AwXF5d8m0DDe4YPH165cmUHBwfN/Xy6P0+cOJHvUVa0Md+/vugKaO3atakVdGU037bwniXfVhe+kU9vogsXLkRGRvr7+7dt21a31UOGDKGXO3bs0N2oXcdZoaXQrPDplNBrmu5L/A7R1ShyXeCfOBofxCdFnidIwAkUFKdb13Yab0Ah9fXr1zXVLuTq+MmTJynspnhUd6zw9u3biYLGnScnJ1tXw4tV2wMHDlAbaTwPjQ/Oe+DixYtpKAvF3zSI9pNPPsn7VwpfcejiaLly5egE0Ls4qiESIEuRl0J59ibSXLjq1q2b3puChqnQWUFviszMTL1dQjsrhHZK6HV3kS/xOyRfInziaFgQn+R7emCjngAfwvG///6bPjV1B2AUEo5rbtLKe4dW+fLlKRP+DVOZPn16u3btWrduTSNzqIE0CyRdC9Q7CeglzwKsvA0sZAsNeSQZOmcyMjL0kgmTpcjYi2dvIrqHlU6AMWPG6PU+vbSzs6NdNPGO7i4BnhVCOyV0u9uQdfwO0SrhE0dLoVlBfKIHgpcFCXA39lnOQuPMEhMTi6wPDajQDOuklHQr3ocffli9evUpU6YUeeD58+cpGKUbtgYPHqyXmMLxp0+f0jBive3W/pImD6aLvppWUGxRoUIFzThpvXZ9/PHHdK/nggULKHDX7nrzzTc1LPS9PN0Bqd3OpxX6ooAmOqQWzZo1S/O9qm7rrJGlBG8i3SYXuc6/NxF97UOtpjFLedtOG+mPNE0C7V5rPCu0lTfFCv9OiWIp8e93SLGar5cYnzi6IIhPdDWwXriAZYXjFDjGxsYWXmPa+8Ybb2jTUCxOh9B02prrWNrt+a7s3buXtvfu3TvvXnrb0MaAgIC8u8y+pTQBluayDc3jdvv27T/++GPp0qWETB+f9LQXbbus9NO0NCyatsfHx9MQhaioqPfff//tt9/WgmhWrJSlBG8ivYYX/tJK30SFN8rwvVZ6VhjewBKkFPIpwcvfISU4B7SH8PgTR9tGw1eEEJ8YroGUhQtYVjhOjyChy/iF15j26kbeO3fupHtrpk6dqntUXFwcvRw9ejTNJ/3RRx9p42/Nczrr16+vm5jWExIS7t69S1fCatWqpbfLEl6WPsCigfV16tShe60UCsXKlSvp+8Tly5drm2aln6alZElKSqIZpq9du0bftPz1119aDe2KlbKU4E2kbbIhK1b6JiqkafRbgvampqbmTaPZqHvrs5WeFXmbZsQt/DslDMTh6+8QA5tfSDJefuIU0t6CdgkhPimo7dheXAHLCsfz/b64yCbRzFPHjh3Lm+zixYu0sW/fvtpd0dHRtK759NVupBWaSpbuxaGHVmqmWNHdZQnrRgywaLIICsdp8Ktuu6z007Q0LDQqqUuXLufOnaOHRq1atYoe+KILolm3UpaSvYnyNr+gLVb6JiqoObSdRnDRTxpyoJeGWkojVehWTs3Iac1eKz0r9Jpm3Jf8OyUM8eHx7xBDmm9gGj594hjYZL1kvI9P9NqLlyUWsKxwvATNyHe0N81ZRrMi0IhnvQvhNKkIFUEXwikU05ZFVzhmzpxJM4pMnDhRu9GiVowYYGn+3tD7CsJKP01LzCKTyWiMyqlTp+g02LBhg+bRSHl73EpZ8jbEuFus9E1UCIJmYlOaRl0vDY1LoS10q4nuX+k4K/SU6CX/Tom8bdTbgt8heiAFveTTJ05BbSxkuxDik0Kaj13FEsjnomCxjreuxK1ataIKz507VztCncYN9+zZk66zTpgwgWYdsa7mlKC2e/bsoaPo+fC6x2o/TXU3Wv5fKbq1NXydrlV0796dptChSaa3bt2a9/ZNbVaCYtG2usgV/r2JaKIYumnk2bNnR48e1W2+ZkoEuqFZdyPOCl0NzTr/Tom8bdTdgt8huhqFr+MTp3Af3b1Cex/pth3rnEBBU65Y9faCJjqkaVuqVKlCrabH/dAgFgrLNFdYaZQ5Daq26ibrVX7fvn30gFL6q0O7nT5C6EngNOc6NX/37t3a7bTy888/08aQkBC6n1Wznb5b0Pxq+OCDD3RTWvt6enp6p06dqLF0NzBdtyi8OcJhIQeaIfi1l4vmTxS62UCz4dtvv9WF4uWb6LfffqOzgm4doTNf01j6U42+MaN5+ilM122+cM4KgZ8Sup2uu47fIboa2nV84mgpilxBfFIkkTATCCscpz6mD9d3332XBoPSl2j0AE66NB4aGsq/vtfcqUlDoinIpqCqXr169KBNCjgowvjuu+/02svLAEuvjZqX9CcKIdBCgdfL4DPnf0LTPUo4LNTqdevWaWTy/qTRn7ostM6/NxFNPdS+fXtqO921STf40lN7aZ3ePnRfgV7bhXNWCPyU0Ot37Uv8DtFS6K7gE0dXo/D1gsJxOop/v1oLp8BeXQF+huO6LRTmOt2XRrPN0BVuX19fuiJOsTh9LTBixIizZ8/mCyKQ3wL0/UDecFO7ZcaMGXo4AmHRa7UwX9Jdmz/88AM9wYDuJaC7vTt06KD74F5dE5wVuhpCW8fvkHx7HJ84+bJgIwQMFxBRUm04ghUIQAACEIAABCAAAQhAoCwFhHUrZ1nKoiwIQAACEIAABCAAAQgUKYBwvEgiJIAABCAAAQhAAAIQgICpBBCOm0oW+UIAAhCAAAQgAAEIQKBIAYTjRRIhAQQgAAEIQAACEIAABEwlgHDcVLLIFwIQgAAEIAABCEAAAkUKIBwvkggJIAABCEAAAhCAAAQgYCoBhOOmkkW+EIAABCAAAQhAAAIQKFIA4XiRREgAAQhAAAIQgAAEIAABUwkgHDeVLPKFAAQgAAEIQAACEIBAkQIIx4skQgIIQAACEIAABCAAAQiYSgDhuKlkkS8EIAABCEAAAhCAAASKFEA4XiQREkAAAhCAAAQgAAEIQMBUAgjHTSWLfCEAAQhAAAIQgAAEIFCkAMLxIomQAAIQgAAEIAABCEAAAqYSQDhuKlnkCwEIQAACEIAABCAAgSIFEI4XSYQEEIAABCAAAQhAAAIQMJUAwnFTySJfCEAAAhCAAAQgAAEIFCmAcLxIIiSAAAQgAAEIQAACEICAqQQQjptKFvlCAAIQgAAEIAABCECgSAGE40USIQEEIAABCEAAAhCAAARMJYBw3FSyyBcCEIAABCAAAQhAAAJFCiAcL5IICSAAAQhAAAIQgAAEIGAqAYTjppJFvhCAAAQgAAEIQAACEChS4P+Ic7wLdHjmsgAAAABJRU5ErkJggg==)"
      ],
      "metadata": {
        "id": "O_FN_g94eGW3"
      }
    },
    {
      "cell_type": "code",
      "metadata": {
        "id": "M7g8If_x-eiA",
        "colab": {
          "base_uri": "https://localhost:8080/",
          "height": 175
        },
        "outputId": "f365f3f2-5d58-4561-bf18-2f9862ba6e3f"
      },
      "source": [
        "dfClean.corr()"
      ],
      "execution_count": 23,
      "outputs": [
        {
          "output_type": "execute_result",
          "data": {
            "text/plain": [
              "          Duration     Pulse  Maxpulse  Calories\n",
              "Duration  1.000000 -0.162098  0.003578  0.923190\n",
              "Pulse    -0.162098  1.000000  0.787035  0.019258\n",
              "Maxpulse  0.003578  0.787035  1.000000  0.197465\n",
              "Calories  0.923190  0.019258  0.197465  1.000000"
            ],
            "text/html": [
              "\n",
              "  <div id=\"df-e9a36991-f0bd-4644-9354-3a06a80cc8a7\">\n",
              "    <div class=\"colab-df-container\">\n",
              "      <div>\n",
              "<style scoped>\n",
              "    .dataframe tbody tr th:only-of-type {\n",
              "        vertical-align: middle;\n",
              "    }\n",
              "\n",
              "    .dataframe tbody tr th {\n",
              "        vertical-align: top;\n",
              "    }\n",
              "\n",
              "    .dataframe thead th {\n",
              "        text-align: right;\n",
              "    }\n",
              "</style>\n",
              "<table border=\"1\" class=\"dataframe\">\n",
              "  <thead>\n",
              "    <tr style=\"text-align: right;\">\n",
              "      <th></th>\n",
              "      <th>Duration</th>\n",
              "      <th>Pulse</th>\n",
              "      <th>Maxpulse</th>\n",
              "      <th>Calories</th>\n",
              "    </tr>\n",
              "  </thead>\n",
              "  <tbody>\n",
              "    <tr>\n",
              "      <th>Duration</th>\n",
              "      <td>1.000000</td>\n",
              "      <td>-0.162098</td>\n",
              "      <td>0.003578</td>\n",
              "      <td>0.923190</td>\n",
              "    </tr>\n",
              "    <tr>\n",
              "      <th>Pulse</th>\n",
              "      <td>-0.162098</td>\n",
              "      <td>1.000000</td>\n",
              "      <td>0.787035</td>\n",
              "      <td>0.019258</td>\n",
              "    </tr>\n",
              "    <tr>\n",
              "      <th>Maxpulse</th>\n",
              "      <td>0.003578</td>\n",
              "      <td>0.787035</td>\n",
              "      <td>1.000000</td>\n",
              "      <td>0.197465</td>\n",
              "    </tr>\n",
              "    <tr>\n",
              "      <th>Calories</th>\n",
              "      <td>0.923190</td>\n",
              "      <td>0.019258</td>\n",
              "      <td>0.197465</td>\n",
              "      <td>1.000000</td>\n",
              "    </tr>\n",
              "  </tbody>\n",
              "</table>\n",
              "</div>\n",
              "      <button class=\"colab-df-convert\" onclick=\"convertToInteractive('df-e9a36991-f0bd-4644-9354-3a06a80cc8a7')\"\n",
              "              title=\"Convert this dataframe to an interactive table.\"\n",
              "              style=\"display:none;\">\n",
              "        \n",
              "  <svg xmlns=\"http://www.w3.org/2000/svg\" height=\"24px\"viewBox=\"0 0 24 24\"\n",
              "       width=\"24px\">\n",
              "    <path d=\"M0 0h24v24H0V0z\" fill=\"none\"/>\n",
              "    <path d=\"M18.56 5.44l.94 2.06.94-2.06 2.06-.94-2.06-.94-.94-2.06-.94 2.06-2.06.94zm-11 1L8.5 8.5l.94-2.06 2.06-.94-2.06-.94L8.5 2.5l-.94 2.06-2.06.94zm10 10l.94 2.06.94-2.06 2.06-.94-2.06-.94-.94-2.06-.94 2.06-2.06.94z\"/><path d=\"M17.41 7.96l-1.37-1.37c-.4-.4-.92-.59-1.43-.59-.52 0-1.04.2-1.43.59L10.3 9.45l-7.72 7.72c-.78.78-.78 2.05 0 2.83L4 21.41c.39.39.9.59 1.41.59.51 0 1.02-.2 1.41-.59l7.78-7.78 2.81-2.81c.8-.78.8-2.07 0-2.86zM5.41 20L4 18.59l7.72-7.72 1.47 1.35L5.41 20z\"/>\n",
              "  </svg>\n",
              "      </button>\n",
              "      \n",
              "  <style>\n",
              "    .colab-df-container {\n",
              "      display:flex;\n",
              "      flex-wrap:wrap;\n",
              "      gap: 12px;\n",
              "    }\n",
              "\n",
              "    .colab-df-convert {\n",
              "      background-color: #E8F0FE;\n",
              "      border: none;\n",
              "      border-radius: 50%;\n",
              "      cursor: pointer;\n",
              "      display: none;\n",
              "      fill: #1967D2;\n",
              "      height: 32px;\n",
              "      padding: 0 0 0 0;\n",
              "      width: 32px;\n",
              "    }\n",
              "\n",
              "    .colab-df-convert:hover {\n",
              "      background-color: #E2EBFA;\n",
              "      box-shadow: 0px 1px 2px rgba(60, 64, 67, 0.3), 0px 1px 3px 1px rgba(60, 64, 67, 0.15);\n",
              "      fill: #174EA6;\n",
              "    }\n",
              "\n",
              "    [theme=dark] .colab-df-convert {\n",
              "      background-color: #3B4455;\n",
              "      fill: #D2E3FC;\n",
              "    }\n",
              "\n",
              "    [theme=dark] .colab-df-convert:hover {\n",
              "      background-color: #434B5C;\n",
              "      box-shadow: 0px 1px 3px 1px rgba(0, 0, 0, 0.15);\n",
              "      filter: drop-shadow(0px 1px 2px rgba(0, 0, 0, 0.3));\n",
              "      fill: #FFFFFF;\n",
              "    }\n",
              "  </style>\n",
              "\n",
              "      <script>\n",
              "        const buttonEl =\n",
              "          document.querySelector('#df-e9a36991-f0bd-4644-9354-3a06a80cc8a7 button.colab-df-convert');\n",
              "        buttonEl.style.display =\n",
              "          google.colab.kernel.accessAllowed ? 'block' : 'none';\n",
              "\n",
              "        async function convertToInteractive(key) {\n",
              "          const element = document.querySelector('#df-e9a36991-f0bd-4644-9354-3a06a80cc8a7');\n",
              "          const dataTable =\n",
              "            await google.colab.kernel.invokeFunction('convertToInteractive',\n",
              "                                                     [key], {});\n",
              "          if (!dataTable) return;\n",
              "\n",
              "          const docLinkHtml = 'Like what you see? Visit the ' +\n",
              "            '<a target=\"_blank\" href=https://colab.research.google.com/notebooks/data_table.ipynb>data table notebook</a>'\n",
              "            + ' to learn more about interactive tables.';\n",
              "          element.innerHTML = '';\n",
              "          dataTable['output_type'] = 'display_data';\n",
              "          await google.colab.output.renderOutput(dataTable, element);\n",
              "          const docLink = document.createElement('div');\n",
              "          docLink.innerHTML = docLinkHtml;\n",
              "          element.appendChild(docLink);\n",
              "        }\n",
              "      </script>\n",
              "    </div>\n",
              "  </div>\n",
              "  "
            ]
          },
          "metadata": {},
          "execution_count": 23
        }
      ]
    },
    {
      "cell_type": "code",
      "metadata": {
        "id": "tKdrSXfA-eiA",
        "colab": {
          "base_uri": "https://localhost:8080/"
        },
        "outputId": "b50c09ac-ad0b-442d-8352-1e0c40c5b706"
      },
      "source": [
        "### P-Values\n",
        "from scipy import stats\n",
        "pearson_coef, p_value = stats.pearsonr(dfClean['Duration'], dfClean['Calories'])\n",
        "print(\"The Pearson Correlation Coefficient is\", pearson_coef, \" with a P-value of P =\", p_value) "
      ],
      "execution_count": 24,
      "outputs": [
        {
          "output_type": "stream",
          "name": "stdout",
          "text": [
            "The Pearson Correlation Coefficient is 0.923189943209421  with a P-value of P = 2.447193062825005e-68\n"
          ]
        }
      ]
    },
    {
      "cell_type": "code",
      "metadata": {
        "id": "CaNvotH4-eiA",
        "colab": {
          "base_uri": "https://localhost:8080/",
          "height": 296
        },
        "outputId": "6d29ea2c-bd61-4651-89bb-f33d950a1ebc"
      },
      "source": [
        "#### Visualizar Duration x Calories \n",
        "dfClean.plot(kind='scatter', x='Duration', y='Calories')"
      ],
      "execution_count": 25,
      "outputs": [
        {
          "output_type": "execute_result",
          "data": {
            "text/plain": [
              "<matplotlib.axes._subplots.AxesSubplot at 0x7f97fec767d0>"
            ]
          },
          "metadata": {},
          "execution_count": 25
        },
        {
          "output_type": "display_data",
          "data": {
            "text/plain": [
              "<Figure size 432x288 with 1 Axes>"
            ],
            "image/png": "[encoded data removed]"
          },
          "metadata": {
            "needs_background": "light"
          }
        }
      ]
    },
    {
      "cell_type": "code",
      "metadata": {
        "id": "q76ORUXU-eiA"
      },
      "source": [
        "from sklearn.linear_model import LinearRegression"
      ],
      "execution_count": 26,
      "outputs": []
    },
    {
      "cell_type": "code",
      "metadata": {
        "id": "QU-Mbb9c-eiA",
        "colab": {
          "base_uri": "https://localhost:8080/"
        },
        "outputId": "d4cd3dfe-7ac3-4ee5-e1b0-b3d06d44bebf"
      },
      "source": [
        "lr = LinearRegression()\n",
        "lr"
      ],
      "execution_count": 27,
      "outputs": [
        {
          "output_type": "execute_result",
          "data": {
            "text/plain": [
              "LinearRegression()"
            ]
          },
          "metadata": {},
          "execution_count": 27
        }
      ]
    },
    {
      "cell_type": "code",
      "metadata": {
        "id": "ZW5ZljeG-eiB"
      },
      "source": [
        "### Definir as Variáveis X e Y \n",
        "X = dfClean[['Duration']]\n",
        "Y = dfClean[['Calories']]"
      ],
      "execution_count": 28,
      "outputs": []
    },
    {
      "cell_type": "code",
      "metadata": {
        "id": "S2fLH1px-eiB",
        "colab": {
          "base_uri": "https://localhost:8080/"
        },
        "outputId": "cf518ec6-8ad6-4dc6-bfcc-ddc7b844b273"
      },
      "source": [
        "### Acha a reta que melhor descreve a distribuição dos dados \n",
        "lr.fit(X,Y)"
      ],
      "execution_count": 29,
      "outputs": [
        {
          "output_type": "execute_result",
          "data": {
            "text/plain": [
              "LinearRegression()"
            ]
          },
          "metadata": {},
          "execution_count": 29
        }
      ]
    },
    {
      "cell_type": "markdown",
      "metadata": {
        "id": "v0Vo4VtQ-eiB"
      },
      "source": [
        "$$\n",
        "Yhat = a + b  X\n",
        "$$"
      ]
    },
    {
      "cell_type": "code",
      "metadata": {
        "id": "Z9w0uWxa-eiB",
        "colab": {
          "base_uri": "https://localhost:8080/"
        },
        "outputId": "7abb6a23-fdb6-4612-de03-281319cde9a2"
      },
      "source": [
        "a = lr.intercept_\n",
        "print(a)"
      ],
      "execution_count": 30,
      "outputs": [
        {
          "output_type": "stream",
          "name": "stdout",
          "text": [
            "[10.20214808]\n"
          ]
        }
      ]
    },
    {
      "cell_type": "code",
      "metadata": {
        "id": "CMoJ3h21-eiB",
        "colab": {
          "base_uri": "https://localhost:8080/"
        },
        "outputId": "523015e1-7f0b-43fb-cade-d0f8a1e94ef2"
      },
      "source": [
        "b= lr.coef_\n",
        "print(b)"
      ],
      "execution_count": 31,
      "outputs": [
        {
          "output_type": "stream",
          "name": "stdout",
          "text": [
            "[[5.72035937]]\n"
          ]
        }
      ]
    },
    {
      "cell_type": "code",
      "metadata": {
        "id": "PQU_C5Ad-eiB",
        "colab": {
          "base_uri": "https://localhost:8080/"
        },
        "outputId": "ae11c53a-675a-472d-8e33-4d4baae5246b"
      },
      "source": [
        "### Usa o modelo para predição #### \n",
        "Yhat = lr.predict(X)\n",
        "Yhat[0:5]"
      ],
      "execution_count": 32,
      "outputs": [
        {
          "output_type": "execute_result",
          "data": {
            "text/plain": [
              "array([[353.42371042],\n",
              "       [353.42371042],\n",
              "       [353.42371042],\n",
              "       [267.61831984],\n",
              "       [267.61831984]])"
            ]
          },
          "metadata": {},
          "execution_count": 32
        }
      ]
    },
    {
      "cell_type": "code",
      "metadata": {
        "id": "_UT9QfOZ-eiC",
        "colab": {
          "base_uri": "https://localhost:8080/",
          "height": 206
        },
        "outputId": "997d8b27-4b53-4fc4-aed0-ea5eec852b1e"
      },
      "source": [
        "dfClean.head()"
      ],
      "execution_count": 33,
      "outputs": [
        {
          "output_type": "execute_result",
          "data": {
            "text/plain": [
              "   Duration  Pulse  Maxpulse  Calories\n",
              "0        60    110       130     409.1\n",
              "1        60    117       145     479.0\n",
              "2        60    103       135     340.0\n",
              "3        45    109       175     282.4\n",
              "4        45    117       148     406.0"
            ],
            "text/html": [
              "\n",
              "  <div id=\"df-e6a76c98-8218-400e-84c9-6fface19c258\">\n",
              "    <div class=\"colab-df-container\">\n",
              "      <div>\n",
              "<style scoped>\n",
              "    .dataframe tbody tr th:only-of-type {\n",
              "        vertical-align: middle;\n",
              "    }\n",
              "\n",
              "    .dataframe tbody tr th {\n",
              "        vertical-align: top;\n",
              "    }\n",
              "\n",
              "    .dataframe thead th {\n",
              "        text-align: right;\n",
              "    }\n",
              "</style>\n",
              "<table border=\"1\" class=\"dataframe\">\n",
              "  <thead>\n",
              "    <tr style=\"text-align: right;\">\n",
              "      <th></th>\n",
              "      <th>Duration</th>\n",
              "      <th>Pulse</th>\n",
              "      <th>Maxpulse</th>\n",
              "      <th>Calories</th>\n",
              "    </tr>\n",
              "  </thead>\n",
              "  <tbody>\n",
              "    <tr>\n",
              "      <th>0</th>\n",
              "      <td>60</td>\n",
              "      <td>110</td>\n",
              "      <td>130</td>\n",
              "      <td>409.1</td>\n",
              "    </tr>\n",
              "    <tr>\n",
              "      <th>1</th>\n",
              "      <td>60</td>\n",
              "      <td>117</td>\n",
              "      <td>145</td>\n",
              "      <td>479.0</td>\n",
              "    </tr>\n",
              "    <tr>\n",
              "      <th>2</th>\n",
              "      <td>60</td>\n",
              "      <td>103</td>\n",
              "      <td>135</td>\n",
              "      <td>340.0</td>\n",
              "    </tr>\n",
              "    <tr>\n",
              "      <th>3</th>\n",
              "      <td>45</td>\n",
              "      <td>109</td>\n",
              "      <td>175</td>\n",
              "      <td>282.4</td>\n",
              "    </tr>\n",
              "    <tr>\n",
              "      <th>4</th>\n",
              "      <td>45</td>\n",
              "      <td>117</td>\n",
              "      <td>148</td>\n",
              "      <td>406.0</td>\n",
              "    </tr>\n",
              "  </tbody>\n",
              "</table>\n",
              "</div>\n",
              "      <button class=\"colab-df-convert\" onclick=\"convertToInteractive('df-e6a76c98-8218-400e-84c9-6fface19c258')\"\n",
              "              title=\"Convert this dataframe to an interactive table.\"\n",
              "              style=\"display:none;\">\n",
              "        \n",
              "  <svg xmlns=\"http://www.w3.org/2000/svg\" height=\"24px\"viewBox=\"0 0 24 24\"\n",
              "       width=\"24px\">\n",
              "    <path d=\"M0 0h24v24H0V0z\" fill=\"none\"/>\n",
              "    <path d=\"M18.56 5.44l.94 2.06.94-2.06 2.06-.94-2.06-.94-.94-2.06-.94 2.06-2.06.94zm-11 1L8.5 8.5l.94-2.06 2.06-.94-2.06-.94L8.5 2.5l-.94 2.06-2.06.94zm10 10l.94 2.06.94-2.06 2.06-.94-2.06-.94-.94-2.06-.94 2.06-2.06.94z\"/><path d=\"M17.41 7.96l-1.37-1.37c-.4-.4-.92-.59-1.43-.59-.52 0-1.04.2-1.43.59L10.3 9.45l-7.72 7.72c-.78.78-.78 2.05 0 2.83L4 21.41c.39.39.9.59 1.41.59.51 0 1.02-.2 1.41-.59l7.78-7.78 2.81-2.81c.8-.78.8-2.07 0-2.86zM5.41 20L4 18.59l7.72-7.72 1.47 1.35L5.41 20z\"/>\n",
              "  </svg>\n",
              "      </button>\n",
              "      \n",
              "  <style>\n",
              "    .colab-df-container {\n",
              "      display:flex;\n",
              "      flex-wrap:wrap;\n",
              "      gap: 12px;\n",
              "    }\n",
              "\n",
              "    .colab-df-convert {\n",
              "      background-color: #E8F0FE;\n",
              "      border: none;\n",
              "      border-radius: 50%;\n",
              "      cursor: pointer;\n",
              "      display: none;\n",
              "      fill: #1967D2;\n",
              "      height: 32px;\n",
              "      padding: 0 0 0 0;\n",
              "      width: 32px;\n",
              "    }\n",
              "\n",
              "    .colab-df-convert:hover {\n",
              "      background-color: #E2EBFA;\n",
              "      box-shadow: 0px 1px 2px rgba(60, 64, 67, 0.3), 0px 1px 3px 1px rgba(60, 64, 67, 0.15);\n",
              "      fill: #174EA6;\n",
              "    }\n",
              "\n",
              "    [theme=dark] .colab-df-convert {\n",
              "      background-color: #3B4455;\n",
              "      fill: #D2E3FC;\n",
              "    }\n",
              "\n",
              "    [theme=dark] .colab-df-convert:hover {\n",
              "      background-color: #434B5C;\n",
              "      box-shadow: 0px 1px 3px 1px rgba(0, 0, 0, 0.15);\n",
              "      filter: drop-shadow(0px 1px 2px rgba(0, 0, 0, 0.3));\n",
              "      fill: #FFFFFF;\n",
              "    }\n",
              "  </style>\n",
              "\n",
              "      <script>\n",
              "        const buttonEl =\n",
              "          document.querySelector('#df-e6a76c98-8218-400e-84c9-6fface19c258 button.colab-df-convert');\n",
              "        buttonEl.style.display =\n",
              "          google.colab.kernel.accessAllowed ? 'block' : 'none';\n",
              "\n",
              "        async function convertToInteractive(key) {\n",
              "          const element = document.querySelector('#df-e6a76c98-8218-400e-84c9-6fface19c258');\n",
              "          const dataTable =\n",
              "            await google.colab.kernel.invokeFunction('convertToInteractive',\n",
              "                                                     [key], {});\n",
              "          if (!dataTable) return;\n",
              "\n",
              "          const docLinkHtml = 'Like what you see? Visit the ' +\n",
              "            '<a target=\"_blank\" href=https://colab.research.google.com/notebooks/data_table.ipynb>data table notebook</a>'\n",
              "            + ' to learn more about interactive tables.';\n",
              "          element.innerHTML = '';\n",
              "          dataTable['output_type'] = 'display_data';\n",
              "          await google.colab.output.renderOutput(dataTable, element);\n",
              "          const docLink = document.createElement('div');\n",
              "          docLink.innerHTML = docLinkHtml;\n",
              "          element.appendChild(docLink);\n",
              "        }\n",
              "      </script>\n",
              "    </div>\n",
              "  </div>\n",
              "  "
            ]
          },
          "metadata": {},
          "execution_count": 33
        }
      ]
    },
    {
      "cell_type": "code",
      "metadata": {
        "id": "zn1L4IFE-eiC",
        "colab": {
          "base_uri": "https://localhost:8080/"
        },
        "outputId": "36e3f8eb-396d-4f38-a0fd-a8ec7fb29661"
      },
      "source": [
        "### R-squared #####\n",
        "print('The R-square is: ', lr.score(X, Y))"
      ],
      "execution_count": 34,
      "outputs": [
        {
          "output_type": "stream",
          "name": "stdout",
          "text": [
            "The R-square is:  0.8522796712430143\n"
          ]
        }
      ]
    },
    {
      "cell_type": "code",
      "metadata": {
        "id": "jSCCoNz7-eiC",
        "colab": {
          "base_uri": "https://localhost:8080/"
        },
        "outputId": "57a50fac-32be-4206-f36d-ce3ded8baa2c"
      },
      "source": [
        "#### MSE - Mean Squared Error #### \n",
        "from sklearn.metrics import mean_squared_error\n",
        "mse = mean_squared_error(dfClean['Calories'], Yhat)\n",
        "print('The mean square error of Calories and predicted value is: ', mse)"
      ],
      "execution_count": 35,
      "outputs": [
        {
          "output_type": "stream",
          "name": "stdout",
          "text": [
            "The mean square error of Calories and predicted value is:  10495.78962682487\n"
          ]
        }
      ]
    },
    {
      "cell_type": "code",
      "metadata": {
        "id": "jKC7ezoY-eiC"
      },
      "source": [
        "import matplotlib.pyplot as plt\n",
        "import seaborn as sns\n",
        "%matplotlib inline "
      ],
      "execution_count": 36,
      "outputs": []
    },
    {
      "cell_type": "code",
      "metadata": {
        "id": "FgDjCsoh-eiC",
        "colab": {
          "base_uri": "https://localhost:8080/",
          "height": 623
        },
        "outputId": "3f96e771-a5f6-440c-ea6e-1c2d1ecabd6a"
      },
      "source": [
        "width = 12\n",
        "height = 10\n",
        "plt.figure(figsize=(width, height))\n",
        "sns.regplot(x=\"Duration\", y=\"Calories\", data=dfClean)\n"
      ],
      "execution_count": 37,
      "outputs": [
        {
          "output_type": "execute_result",
          "data": {
            "text/plain": [
              "<matplotlib.axes._subplots.AxesSubplot at 0x7f97fd701e10>"
            ]
          },
          "metadata": {},
          "execution_count": 37
        },
        {
          "output_type": "display_data",
          "data": {
            "text/plain": [
              "<Figure size 864x720 with 1 Axes>"
            ],
            "image/png": "[encoded data removed]"
          },
          "metadata": {
            "needs_background": "light"
          }
        }
      ]
    },
    {
      "cell_type": "code",
      "metadata": {
        "id": "flHRykE0-eiD",
        "colab": {
          "base_uri": "https://localhost:8080/",
          "height": 661
        },
        "outputId": "10243cb6-9267-40f0-9186-9e56ffdcbc68"
      },
      "source": [
        "width = 12\n",
        "height = 10\n",
        "plt.figure(figsize=(width, height))\n",
        "x =dfClean['Duration']\n",
        "y = dfClean['Calories']\n",
        "sns.residplot(x,y)\n",
        "plt.show()"
      ],
      "execution_count": 38,
      "outputs": [
        {
          "output_type": "stream",
          "name": "stderr",
          "text": [
            "/usr/local/lib/python3.7/dist-packages/seaborn/_decorators.py:43: FutureWarning: Pass the following variables as keyword args: x, y. From version 0.12, the only valid positional argument will be `data`, and passing other arguments without an explicit keyword will result in an error or misinterpretation.\n",
            "  FutureWarning\n"
          ]
        },
        {
          "output_type": "display_data",
          "data": {
            "text/plain": [
              "<Figure size 864x720 with 1 Axes>"
            ],
            "image/png": "[encoded data removed]"
          },
          "metadata": {
            "needs_background": "light"
          }
        }
      ]
    },
    {
      "cell_type": "markdown",
      "metadata": {
        "id": "BDsGyCkC-eiD"
      },
      "source": [
        "<h4>Multiple Linear Regression</h4>"
      ]
    },
    {
      "cell_type": "markdown",
      "metadata": {
        "id": "oNC84mTf-eiD"
      },
      "source": [
        "$$\n",
        "Y: Response \\ Variable\\\\\n",
        "X_1 :Predictor\\ Variable \\ 1\\\\\n",
        "X_2: Predictor\\ Variable \\ 2\\\\\n",
        "X_3: Predictor\\ Variable \\ 3\\\\\n",
        "X_4: Predictor\\ Variable \\ 4\\\\\n",
        "$$\n",
        "\n"
      ]
    },
    {
      "cell_type": "markdown",
      "metadata": {
        "id": "ONzrFqKQ-eiD"
      },
      "source": [
        "$$\n",
        "a: intercept\\\\\n",
        "b_1 :coefficients \\ of\\ Variable \\ 1\\\\\n",
        "b_2: coefficients \\ of\\ Variable \\ 2\\\\\n",
        "b_3: coefficients \\ of\\ Variable \\ 3\\\\\n",
        "b_4: coefficients \\ of\\ Variable \\ 4\\\\\n",
        "$$"
      ]
    },
    {
      "cell_type": "markdown",
      "metadata": {
        "id": "yd_e6_QA-eiD"
      },
      "source": [
        "$$\n",
        "Yhat = a + b_1 X_1 + b_2 X_2 + b_3 X_3 + b_4 X_4\n",
        "$$"
      ]
    },
    {
      "cell_type": "code",
      "metadata": {
        "id": "zpbI2Jwk-eiE"
      },
      "source": [
        "Xm = dfClean[['Duration','Maxpulse']]\n",
        "Y = dfClean[['Calories']]"
      ],
      "execution_count": 39,
      "outputs": []
    },
    {
      "cell_type": "code",
      "metadata": {
        "id": "VK4eVUhQ-eiE",
        "colab": {
          "base_uri": "https://localhost:8080/"
        },
        "outputId": "1143712c-72c0-4a5b-83e8-6cdcdbf15b04"
      },
      "source": [
        "lr.fit(Xm,Y)"
      ],
      "execution_count": 40,
      "outputs": [
        {
          "output_type": "execute_result",
          "data": {
            "text/plain": [
              "LinearRegression()"
            ]
          },
          "metadata": {},
          "execution_count": 40
        }
      ]
    },
    {
      "cell_type": "code",
      "metadata": {
        "id": "DT3H_z7e-eiE"
      },
      "source": [
        "Yhat = lr.predict(Xm)"
      ],
      "execution_count": 41,
      "outputs": []
    },
    {
      "cell_type": "code",
      "metadata": {
        "id": "vb1scF7I-eiE",
        "colab": {
          "base_uri": "https://localhost:8080/"
        },
        "outputId": "fb0fe6cf-c37e-4c4b-9347-4337c6acacef"
      },
      "source": [
        "### R-squared #####\n",
        "print('The R-square is: ', lr.score(Xm, Y))"
      ],
      "execution_count": 42,
      "outputs": [
        {
          "output_type": "stream",
          "name": "stdout",
          "text": [
            "The R-square is:  0.8899788742645823\n"
          ]
        }
      ]
    },
    {
      "cell_type": "code",
      "metadata": {
        "id": "x3I-3ih3-eiE",
        "colab": {
          "base_uri": "https://localhost:8080/"
        },
        "outputId": "3d705ca8-2ec3-451c-87f3-8eb48517bc03"
      },
      "source": [
        "#### MSE - Mean Squared Error #### \n",
        "from sklearn.metrics import mean_squared_error\n",
        "mse = mean_squared_error(dfClean['Calories'], Yhat)\n",
        "print('The mean square error of Calories and predicted value is: ', mse)"
      ],
      "execution_count": 43,
      "outputs": [
        {
          "output_type": "stream",
          "name": "stdout",
          "text": [
            "The mean square error of Calories and predicted value is:  7817.194829867199\n"
          ]
        }
      ]
    },
    {
      "cell_type": "markdown",
      "metadata": {
        "id": "Dr0sQXRQ-eiE"
      },
      "source": [
        "<h4>Polynomial Regression</h4>"
      ]
    },
    {
      "cell_type": "markdown",
      "metadata": {
        "id": "ajEs5Z-1-eiE"
      },
      "source": [
        "<center><b>Quadratic - 2nd order</b></center>\n",
        "$$\n",
        "Yhat = a + b_1 X +b_2 X^2 \n",
        "$$\n",
        "\n",
        "<center><b>Cubic - 3rd order</b></center>\n",
        "$$\n",
        "Yhat = a + b_1 X +b_2 X^2 +b_3 X^3\\\\\\\\\n",
        "$$\n",
        "\n",
        "<center><b>Higher order</b>:</center>\n",
        "$$\n",
        "Y = a + b_1 X +b_2 X^2 +b_3 X^3 ....\\\\\\\\\n",
        "$$"
      ]
    },
    {
      "cell_type": "code",
      "metadata": {
        "id": "dxm0lWk7Kpiz"
      },
      "source": [
        "from sklearn.preprocessing import PolynomialFeatures\n",
        "import numpy as np"
      ],
      "execution_count": 44,
      "outputs": []
    },
    {
      "cell_type": "code",
      "metadata": {
        "id": "sL_A73MiMvgi"
      },
      "source": [
        "a = np.array([1, 2 ,3]).reshape(-1,1)"
      ],
      "execution_count": 45,
      "outputs": []
    },
    {
      "cell_type": "code",
      "metadata": {
        "colab": {
          "base_uri": "https://localhost:8080/"
        },
        "id": "6wQ_TRF6-QHC",
        "outputId": "69ef2ded-7d2a-487d-fa5e-bd977c1bcb63"
      },
      "source": [
        "a.shape"
      ],
      "execution_count": 46,
      "outputs": [
        {
          "output_type": "execute_result",
          "data": {
            "text/plain": [
              "(3, 1)"
            ]
          },
          "metadata": {},
          "execution_count": 46
        }
      ]
    },
    {
      "cell_type": "code",
      "metadata": {
        "id": "ALn_k1_Q9siU"
      },
      "source": [
        "p = PolynomialFeatures(degree=3)"
      ],
      "execution_count": 47,
      "outputs": []
    },
    {
      "cell_type": "code",
      "metadata": {
        "colab": {
          "base_uri": "https://localhost:8080/"
        },
        "id": "Mf2fdxad907J",
        "outputId": "066ccfd5-527b-409c-9884-462b19129baf"
      },
      "source": [
        "p.fit(a)"
      ],
      "execution_count": 48,
      "outputs": [
        {
          "output_type": "execute_result",
          "data": {
            "text/plain": [
              "PolynomialFeatures(degree=3)"
            ]
          },
          "metadata": {},
          "execution_count": 48
        }
      ]
    },
    {
      "cell_type": "code",
      "metadata": {
        "colab": {
          "base_uri": "https://localhost:8080/"
        },
        "id": "vQ0FKaCl-Jlh",
        "outputId": "6c9d3367-8f79-4775-fcb8-7693ddcbf1de"
      },
      "source": [
        "p.transform(a)"
      ],
      "execution_count": 49,
      "outputs": [
        {
          "output_type": "execute_result",
          "data": {
            "text/plain": [
              "array([[ 1.,  1.,  1.,  1.],\n",
              "       [ 1.,  2.,  4.,  8.],\n",
              "       [ 1.,  3.,  9., 27.]])"
            ]
          },
          "metadata": {},
          "execution_count": 49
        }
      ]
    },
    {
      "cell_type": "code",
      "metadata": {
        "colab": {
          "base_uri": "https://localhost:8080/"
        },
        "id": "bS6NM9kuKq0j",
        "outputId": "64cd8804-556c-4e68-a096-a8fad4d610e7"
      },
      "source": [
        "X = dfClean[['Duration','Pulse']]\n",
        "poly = PolynomialFeatures(degree=2)\n",
        "X_T = poly.fit_transform(X)\n",
        "X_T[0:5]\n"
      ],
      "execution_count": 50,
      "outputs": [
        {
          "output_type": "execute_result",
          "data": {
            "text/plain": [
              "array([[1.0000e+00, 6.0000e+01, 1.1000e+02, 3.6000e+03, 6.6000e+03,\n",
              "        1.2100e+04],\n",
              "       [1.0000e+00, 6.0000e+01, 1.1700e+02, 3.6000e+03, 7.0200e+03,\n",
              "        1.3689e+04],\n",
              "       [1.0000e+00, 6.0000e+01, 1.0300e+02, 3.6000e+03, 6.1800e+03,\n",
              "        1.0609e+04],\n",
              "       [1.0000e+00, 4.5000e+01, 1.0900e+02, 2.0250e+03, 4.9050e+03,\n",
              "        1.1881e+04],\n",
              "       [1.0000e+00, 4.5000e+01, 1.1700e+02, 2.0250e+03, 5.2650e+03,\n",
              "        1.3689e+04]])"
            ]
          },
          "metadata": {},
          "execution_count": 50
        }
      ]
    },
    {
      "cell_type": "code",
      "metadata": {
        "colab": {
          "base_uri": "https://localhost:8080/"
        },
        "id": "4pkrGisiK2LF",
        "outputId": "2596b1e1-96df-4243-f446-7fc1bc802646"
      },
      "source": [
        "Y = dfClean[['Calories']]\n",
        "lr.fit(X_T,Y)"
      ],
      "execution_count": 51,
      "outputs": [
        {
          "output_type": "execute_result",
          "data": {
            "text/plain": [
              "LinearRegression()"
            ]
          },
          "metadata": {},
          "execution_count": 51
        }
      ]
    },
    {
      "cell_type": "code",
      "metadata": {
        "colab": {
          "base_uri": "https://localhost:8080/"
        },
        "id": "CZsWo3WyK8A_",
        "outputId": "03c83eeb-7ea9-43b0-b8a0-c2c192bada53"
      },
      "source": [
        "Yhat = lr.predict(X_T)\n",
        "Yhat[0:5]"
      ],
      "execution_count": 52,
      "outputs": [
        {
          "output_type": "execute_result",
          "data": {
            "text/plain": [
              "array([[364.94475851],\n",
              "       [393.70134136],\n",
              "       [339.20380138],\n",
              "       [263.45339396],\n",
              "       [287.5469393 ]])"
            ]
          },
          "metadata": {},
          "execution_count": 52
        }
      ]
    },
    {
      "cell_type": "code",
      "metadata": {
        "colab": {
          "base_uri": "https://localhost:8080/"
        },
        "id": "kTTJNiSGK_uv",
        "outputId": "76f1f467-4b8f-4e86-ae75-771e7bd68d3c"
      },
      "source": [
        "### R-squared #####\n",
        "print('The R-square is: ', lr.score(X_T, Y))"
      ],
      "execution_count": 53,
      "outputs": [
        {
          "output_type": "stream",
          "name": "stdout",
          "text": [
            "The R-square is:  0.9037785578859595\n"
          ]
        }
      ]
    },
    {
      "cell_type": "markdown",
      "metadata": {
        "id": "zLjN_RoAMxjf"
      },
      "source": [
        "### Conjunto Treino e Teste"
      ]
    },
    {
      "cell_type": "code",
      "metadata": {
        "id": "oaNgZUmTMTlq"
      },
      "source": [
        "from sklearn.model_selection import train_test_split\n",
        "X_train, X_test, y_train, y_test = train_test_split(X, y, test_size=0.20, random_state=10)"
      ],
      "execution_count": 54,
      "outputs": []
    },
    {
      "cell_type": "code",
      "metadata": {
        "id": "04kVXZKpMkmh"
      },
      "source": [
        "from sklearn.pipeline import Pipeline\n",
        "from sklearn.linear_model import Ridge"
      ],
      "execution_count": 55,
      "outputs": []
    },
    {
      "cell_type": "markdown",
      "metadata": {
        "id": "MqgRBZjlosoI"
      },
      "source": [
        "![image.png](data:image/png;base64,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)"
      ]
    },
    {
      "cell_type": "markdown",
      "metadata": {
        "id": "My0rrgZ_M2bZ"
      },
      "source": [
        "### Overfitting "
      ]
    },
    {
      "cell_type": "code",
      "metadata": {
        "colab": {
          "base_uri": "https://localhost:8080/",
          "height": 437
        },
        "id": "2r2ptZyFMbXr",
        "outputId": "a9a7714d-b67e-4357-f1e0-472ed1e8f5b6"
      },
      "source": [
        "Rsqu_test = []\n",
        "Rsqu_model =[]\n",
        "\n",
        "order = [2,3,4,5]\n",
        "for n in order:\n",
        "     \n",
        "    modelPipeline = Pipeline([('poly', PolynomialFeatures(degree=n)),('ridge', Ridge(alpha=0.1))])\n",
        "    \n",
        "    modelPipeline.fit(X_train,y_train)\n",
        "    y_pred = modelPipeline.predict(X_test)\n",
        "    \n",
        " \n",
        "    Rsqu_test.append(modelPipeline.score(X_test,y_test))\n",
        "    Rsqu_model.append(modelPipeline.score(X_train, y_train))\n",
        "\n",
        "   \n",
        "plt.plot(order, Rsqu_test,'b-x')\n",
        "plt.plot(order, Rsqu_model,'r-x')\n",
        "plt.xlabel('order')\n",
        "plt.ylabel('R^2')\n",
        "plt.title('R^2 Using Test Data')\n",
        "plt.legend(('Test', 'Treino'))\n"
      ],
      "execution_count": 56,
      "outputs": [
        {
          "output_type": "stream",
          "name": "stderr",
          "text": [
            "/usr/local/lib/python3.7/dist-packages/sklearn/linear_model/_ridge.py:157: LinAlgWarning: Ill-conditioned matrix (rcond=5.46932e-17): result may not be accurate.\n",
            "  return linalg.solve(A, Xy, sym_pos=True, overwrite_a=True).T\n",
            "/usr/local/lib/python3.7/dist-packages/sklearn/linear_model/_ridge.py:157: LinAlgWarning: Ill-conditioned matrix (rcond=6.74196e-22): result may not be accurate.\n",
            "  return linalg.solve(A, Xy, sym_pos=True, overwrite_a=True).T\n",
            "/usr/local/lib/python3.7/dist-packages/sklearn/linear_model/_ridge.py:157: LinAlgWarning: Ill-conditioned matrix (rcond=7.90054e-27): result may not be accurate.\n",
            "  return linalg.solve(A, Xy, sym_pos=True, overwrite_a=True).T\n"
          ]
        },
        {
          "output_type": "execute_result",
          "data": {
            "text/plain": [
              "<matplotlib.legend.Legend at 0x7f97fb583690>"
            ]
          },
          "metadata": {},
          "execution_count": 56
        },
        {
          "output_type": "display_data",
          "data": {
            "text/plain": [
              "<Figure size 432x288 with 1 Axes>"
            ],
            "image/png": "[encoded data removed]"
          },
          "metadata": {
            "needs_background": "light"
          }
        }
      ]
    }
  ]
}